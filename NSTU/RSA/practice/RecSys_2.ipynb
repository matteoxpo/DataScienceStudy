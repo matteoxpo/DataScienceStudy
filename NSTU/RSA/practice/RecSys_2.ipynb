{
 "cells": [
  {
   "cell_type": "code",
   "execution_count": 2,
   "metadata": {},
   "outputs": [],
   "source": [
    "import numpy as np\n",
    "from sklearn.ensemble import AdaBoostClassifier, RandomForestClassifier\n",
    "import pandas as pd\n",
    "from skl2onnx import convert_sklearn\n",
    "from skl2onnx.common.data_types import FloatTensorType\n",
    "import onnx\n",
    "import onnxruntime as ort\n",
    "from sklearn.metrics import accuracy_score\n"
   ]
  },
  {
   "cell_type": "markdown",
   "metadata": {},
   "source": [
    "# Предподготовка данных"
   ]
  },
  {
   "cell_type": "code",
   "execution_count": 4,
   "metadata": {},
   "outputs": [],
   "source": [
    "\n",
    "data = pd.read_csv('NSTU_Students_data.csv')\n",
    "data = data.drop('Курс обучения', axis=1)\n"
   ]
  },
  {
   "cell_type": "code",
   "execution_count": 5,
   "metadata": {},
   "outputs": [],
   "source": [
    "binary_fields = {\n",
    "    'Пол': {'Мужской': True, 'Женский': False},\n",
    "    'Вы поступили в университет, потому что сами этого хотели?': {'Да': True, 'Нет': False},\n",
    "    'Вам важно получать хорошие отметки?': {'Да': True, 'Нет': False}\n",
    "}\n",
    "\n",
    "for field, mapping in binary_fields.items():\n",
    "    data[field] = data[field].map(mapping)"
   ]
  },
  {
   "cell_type": "code",
   "execution_count": 6,
   "metadata": {},
   "outputs": [],
   "source": [
    "fields = {\n",
    "    'Сумма баллов ЕГЭ за 3 предмета': {'120-150': 1, '151-200': 2, '201-230':3, '231-260': 4, '261-300': 5 }\n",
    "}\n",
    "for field, mapping in fields.items():\n",
    "    data[field] = data[field].map(mapping)"
   ]
  },
  {
   "cell_type": "code",
   "execution_count": 7,
   "metadata": {},
   "outputs": [],
   "source": [
    "olympiad_fields = [\n",
    "    'Принимали ли вы участие в олимпиадах по профильным предметам? / Математика',\n",
    "    'Принимали ли вы участие в олимпиадах по профильным предметам? / Информатика и программирование',\n",
    "    'Принимали ли вы участие в олимпиадах по профильным предметам? / Физика'\n",
    "]\n",
    "\n",
    "for field in olympiad_fields:\n",
    "    data[field] = data[field].apply(lambda x: True if pd.notna(x) else False)"
   ]
  },
  {
   "cell_type": "code",
   "execution_count": 8,
   "metadata": {},
   "outputs": [],
   "source": [
    "hobbies_fields = [\n",
    "    'Какие увлечения у вас были, когда вы учились в школе? / Геймдев, VR, AR',\n",
    "    'Какие увлечения у вас были, когда вы учились в школе? / Спорт',\n",
    "    'Какие увлечения у вас были, когда вы учились в школе? / Программирование',\n",
    "    'Какие увлечения у вас были, когда вы учились в школе? / Робототехника',\n",
    "    'Какие увлечения у вас были, когда вы учились в школе? / 3D-моделирование',\n",
    "    'Какие увлечения у вас были, когда вы учились в школе? / Решение математических задач',\n",
    "    'Какие увлечения у вас были, когда вы учились в школе? / Творчество: музыка, рисование, танцы и т.п.',\n",
    "    'Какие увлечения у вас были, когда вы учились в школе? / Физика',\n",
    "]\n",
    "\n",
    "for field in hobbies_fields:\n",
    "    data[field] = data[field].apply(lambda x: True if pd.notna(x) else False)"
   ]
  },
  {
   "cell_type": "code",
   "execution_count": 9,
   "metadata": {},
   "outputs": [],
   "source": [
    "opinion_mapping = {\n",
    "    'Да, это точно про меня!': 3,\n",
    "    'Затрудняюсь ответить': 2,\n",
    "    'Меня это мало интересует': 1\n",
    "}\n",
    "\n",
    "for column in data.columns:\n",
    "    if any(data[column].isin(opinion_mapping.keys())):\n",
    "        data[column] = data[column].map(opinion_mapping)\n"
   ]
  },
  {
   "cell_type": "code",
   "execution_count": 10,
   "metadata": {},
   "outputs": [],
   "source": [
    "it_field = 'Если бы вы могли выбрать только 1 сферу в IT, то что бы выбрали?'\n",
    "data = pd.get_dummies(data, columns=[it_field], prefix='', prefix_sep='')"
   ]
  },
  {
   "cell_type": "code",
   "execution_count": 11,
   "metadata": {},
   "outputs": [],
   "source": [
    "target = data['Направление подготовки']"
   ]
  },
  {
   "cell_type": "code",
   "execution_count": 12,
   "metadata": {},
   "outputs": [],
   "source": [
    "data['target'] = target"
   ]
  },
  {
   "cell_type": "code",
   "execution_count": 13,
   "metadata": {},
   "outputs": [],
   "source": [
    "data = data.drop('Направление подготовки', axis=1)"
   ]
  },
  {
   "cell_type": "code",
   "execution_count": 14,
   "metadata": {},
   "outputs": [
    {
     "data": {
      "text/plain": [
       "Index(['Пол', 'Сумма баллов ЕГЭ за 3 предмета', 'ОЛ / Математика',\n",
       "       'ОЛ / Информатика и программирование', 'ОЛ / Физика',\n",
       "       ' / Геймдев, VR, AR', ' / Спорт', ' / Программирование',\n",
       "       ' / Робототехника', ' / 3D-моделирование',\n",
       "       ' / Решение математических задач',\n",
       "       ' / Творчество: музыка, рисование, танцы и т.п.', ' / Физика',\n",
       "       'НЗ / Веб-разработкой', 'НЗ / Системным администрированием',\n",
       "       'НЗ / Математикой',\n",
       "       'НЗ / Работой с компьютерным оборудованием и сборкой ПК',\n",
       "       'НЗ / Биологией', 'НЗ / Аналитикой данных',\n",
       "       'НЗ / Разработка графических интерфейсов - GUI',\n",
       "       'НЗ / Написанием серверной части приложений - Back',\n",
       "       'НЗ / Написанием клиентской части приложений - Front',\n",
       "       'НЗ / Экономикой и финансами',\n",
       "       'НЗ / Поиском ошибок и уязвимостей на сайтах, в играх или приложениях',\n",
       "       'Вы поступили в университет, потому что сами этого хотели?',\n",
       "       'Вам важно получать хорошие отметки?', 'QA-тестировщик',\n",
       "       'Аналитика данных', 'Веб-разработка',\n",
       "       'Искусственный интеллект и машинное обучение', 'Кибербезопасность',\n",
       "       'Мобильная разработка', 'Облачные вычисления и DevOps',\n",
       "       'Разработка UI/UX', 'Разработка игр', 'Системное программирование',\n",
       "       'target'],\n",
       "      dtype='object')"
      ]
     },
     "execution_count": 14,
     "metadata": {},
     "output_type": "execute_result"
    }
   ],
   "source": [
    "data.columns = data.columns.str.replace('Какие увлечения у вас были, когда вы учились в школе?', '', regex=False)\n",
    "data.columns = data.columns.str.replace('Принимали ли вы участие в олимпиадах по профильным предметам?', 'ОЛ', regex=False)\n",
    "data.columns = data.columns.str.replace('Насколько вы любите заниматься ...?', 'НЗ', regex=False)\n",
    "data.columns"
   ]
  },
  {
   "cell_type": "code",
   "execution_count": 15,
   "metadata": {},
   "outputs": [
    {
     "name": "stdout",
     "output_type": "stream",
     "text": [
      "<class 'pandas.core.frame.DataFrame'>\n",
      "RangeIndex: 426 entries, 0 to 425\n",
      "Data columns (total 37 columns):\n",
      " #   Column                                                                Non-Null Count  Dtype \n",
      "---  ------                                                                --------------  ----- \n",
      " 0   Пол                                                                   426 non-null    bool  \n",
      " 1   Сумма баллов ЕГЭ за 3 предмета                                        426 non-null    int64 \n",
      " 2   ОЛ / Математика                                                       426 non-null    bool  \n",
      " 3   ОЛ / Информатика и программирование                                   426 non-null    bool  \n",
      " 4   ОЛ / Физика                                                           426 non-null    bool  \n",
      " 5    / Геймдев, VR, AR                                                    426 non-null    bool  \n",
      " 6    / Спорт                                                              426 non-null    bool  \n",
      " 7    / Программирование                                                   426 non-null    bool  \n",
      " 8    / Робототехника                                                      426 non-null    bool  \n",
      " 9    / 3D-моделирование                                                   426 non-null    bool  \n",
      " 10   / Решение математических задач                                       426 non-null    bool  \n",
      " 11   / Творчество: музыка, рисование, танцы и т.п.                        426 non-null    bool  \n",
      " 12   / Физика                                                             426 non-null    bool  \n",
      " 13  НЗ / Веб-разработкой                                                  426 non-null    int64 \n",
      " 14  НЗ / Системным администрированием                                     426 non-null    int64 \n",
      " 15  НЗ / Математикой                                                      426 non-null    int64 \n",
      " 16  НЗ / Работой с компьютерным оборудованием и сборкой ПК                426 non-null    int64 \n",
      " 17  НЗ / Биологией                                                        426 non-null    int64 \n",
      " 18  НЗ / Аналитикой данных                                                426 non-null    int64 \n",
      " 19  НЗ / Разработка графических интерфейсов - GUI                         426 non-null    int64 \n",
      " 20  НЗ / Написанием серверной части приложений - Back                     426 non-null    int64 \n",
      " 21  НЗ / Написанием клиентской части приложений - Front                   426 non-null    int64 \n",
      " 22  НЗ / Экономикой и финансами                                           426 non-null    int64 \n",
      " 23  НЗ / Поиском ошибок и уязвимостей на сайтах, в играх или приложениях  426 non-null    int64 \n",
      " 24  Вы поступили в университет, потому что сами этого хотели?             426 non-null    bool  \n",
      " 25  Вам важно получать хорошие отметки?                                   426 non-null    bool  \n",
      " 26  QA-тестировщик                                                        426 non-null    bool  \n",
      " 27  Аналитика данных                                                      426 non-null    bool  \n",
      " 28  Веб-разработка                                                        426 non-null    bool  \n",
      " 29  Искусственный интеллект и машинное обучение                           426 non-null    bool  \n",
      " 30  Кибербезопасность                                                     426 non-null    bool  \n",
      " 31  Мобильная разработка                                                  426 non-null    bool  \n",
      " 32  Облачные вычисления и DevOps                                          426 non-null    bool  \n",
      " 33  Разработка UI/UX                                                      426 non-null    bool  \n",
      " 34  Разработка игр                                                        426 non-null    bool  \n",
      " 35  Системное программирование                                            426 non-null    bool  \n",
      " 36  target                                                                426 non-null    object\n",
      "dtypes: bool(24), int64(12), object(1)\n",
      "memory usage: 53.4+ KB\n"
     ]
    }
   ],
   "source": [
    "data.info()"
   ]
  },
  {
   "cell_type": "code",
   "execution_count": 16,
   "metadata": {},
   "outputs": [
    {
     "name": "stdout",
     "output_type": "stream",
     "text": [
      "<class 'pandas.core.frame.DataFrame'>\n",
      "RangeIndex: 426 entries, 0 to 425\n",
      "Data columns (total 37 columns):\n",
      " #   Column                                                                Non-Null Count  Dtype   \n",
      "---  ------                                                                --------------  -----   \n",
      " 0   Пол                                                                   426 non-null    bool    \n",
      " 1   Сумма баллов ЕГЭ за 3 предмета                                        426 non-null    int64   \n",
      " 2   ОЛ / Математика                                                       426 non-null    bool    \n",
      " 3   ОЛ / Информатика и программирование                                   426 non-null    bool    \n",
      " 4   ОЛ / Физика                                                           426 non-null    bool    \n",
      " 5    / Геймдев, VR, AR                                                    426 non-null    bool    \n",
      " 6    / Спорт                                                              426 non-null    bool    \n",
      " 7    / Программирование                                                   426 non-null    bool    \n",
      " 8    / Робототехника                                                      426 non-null    bool    \n",
      " 9    / 3D-моделирование                                                   426 non-null    bool    \n",
      " 10   / Решение математических задач                                       426 non-null    bool    \n",
      " 11   / Творчество: музыка, рисование, танцы и т.п.                        426 non-null    bool    \n",
      " 12   / Физика                                                             426 non-null    bool    \n",
      " 13  НЗ / Веб-разработкой                                                  426 non-null    category\n",
      " 14  НЗ / Системным администрированием                                     426 non-null    category\n",
      " 15  НЗ / Математикой                                                      426 non-null    category\n",
      " 16  НЗ / Работой с компьютерным оборудованием и сборкой ПК                426 non-null    category\n",
      " 17  НЗ / Биологией                                                        426 non-null    category\n",
      " 18  НЗ / Аналитикой данных                                                426 non-null    category\n",
      " 19  НЗ / Разработка графических интерфейсов - GUI                         426 non-null    category\n",
      " 20  НЗ / Написанием серверной части приложений - Back                     426 non-null    category\n",
      " 21  НЗ / Написанием клиентской части приложений - Front                   426 non-null    category\n",
      " 22  НЗ / Экономикой и финансами                                           426 non-null    category\n",
      " 23  НЗ / Поиском ошибок и уязвимостей на сайтах, в играх или приложениях  426 non-null    category\n",
      " 24  Вы поступили в университет, потому что сами этого хотели?             426 non-null    bool    \n",
      " 25  Вам важно получать хорошие отметки?                                   426 non-null    bool    \n",
      " 26  QA-тестировщик                                                        426 non-null    bool    \n",
      " 27  Аналитика данных                                                      426 non-null    bool    \n",
      " 28  Веб-разработка                                                        426 non-null    bool    \n",
      " 29  Искусственный интеллект и машинное обучение                           426 non-null    bool    \n",
      " 30  Кибербезопасность                                                     426 non-null    bool    \n",
      " 31  Мобильная разработка                                                  426 non-null    bool    \n",
      " 32  Облачные вычисления и DevOps                                          426 non-null    bool    \n",
      " 33  Разработка UI/UX                                                      426 non-null    bool    \n",
      " 34  Разработка игр                                                        426 non-null    bool    \n",
      " 35  Системное программирование                                            426 non-null    bool    \n",
      " 36  target                                                                426 non-null    object  \n",
      "dtypes: bool(24), category(11), int64(1), object(1)\n",
      "memory usage: 22.8+ KB\n"
     ]
    }
   ],
   "source": [
    "for col in data.select_dtypes(include='int64').columns:\n",
    "    if col != 'Сумма баллов ЕГЭ за 3 предмета':\n",
    "        data[col] = data[col].astype('category')\n",
    "data.info()"
   ]
  },
  {
   "cell_type": "code",
   "execution_count": 25,
   "metadata": {},
   "outputs": [],
   "source": [
    "frequency_table = data['Сумма баллов ЕГЭ за 3 предмета'].value_counts().reset_index()\n",
    "frequency_table.columns = ['Категория', 'Частота']\n",
    "counts = frequency_table.set_index('Категория')['Частота'].to_dict()\n",
    "\n",
    "category_params = {\n",
    "    1: (135, 4),\n",
    "    2: (175.5, 3.5),\n",
    "    3: (215.5, 2.5),\n",
    "    4: (245.5, 2),\n",
    "    5: (275, 4) \n",
    "}\n",
    "\n",
    "data['Средние баллы'] = data['Сумма баллов ЕГЭ за 3 предмета'].replace({k: v[0] for k, v in category_params.items()})\n",
    "\n",
    "categorical_samples = data['Средние баллы'].values\n",
    "\n",
    "def generate_scores_fixed_count(counts):\n",
    "    generated_scores = []\n",
    "\n",
    "    for category, count in counts.items():\n",
    "        mean, std_dev = category_params[category]\n",
    "\n",
    "        scores = np.random.normal(mean, std_dev, count)\n",
    "\n",
    "        if category == 1:\n",
    "            scores = np.clip(scores, 120, 150)\n",
    "        elif category == 2:\n",
    "            scores = np.clip(scores, 151, 200)\n",
    "        elif category == 3:\n",
    "            scores = np.clip(scores, 201, 230)\n",
    "        elif category == 4:\n",
    "            scores = np.clip(scores, 231, 260)\n",
    "        elif category == 5:\n",
    "            scores = np.clip(scores, 261, 280)\n",
    "\n",
    "        generated_scores.extend(scores)\n",
    "\n",
    "    return np.array(generated_scores)\n",
    "\n",
    "# Генерация новых баллов\n",
    "new_generated_scores = generate_scores_fixed_count(counts)\n",
    "\n",
    "data['Сумма баллов ЕГЭ за 3 предмета'] = new_generated_scores\n",
    "data = data.drop('Средние баллы', axis=1)"
   ]
  },
  {
   "cell_type": "code",
   "execution_count": 27,
   "metadata": {},
   "outputs": [],
   "source": [
    "data.to_csv('NSTU_Students_data_transformed.csv')"
   ]
  },
  {
   "cell_type": "code",
   "execution_count": 5,
   "metadata": {},
   "outputs": [],
   "source": [
    "ready_data = pd.read_csv('NSTU_Students_data_transformed.csv')\n",
    "X = ready_data.drop('target', axis=1) \n",
    "y = ready_data['target'] "
   ]
  },
  {
   "cell_type": "markdown",
   "metadata": {},
   "source": [
    "# Модель для предикта"
   ]
  },
  {
   "cell_type": "code",
   "execution_count": 31,
   "metadata": {},
   "outputs": [
    {
     "name": "stdout",
     "output_type": "stream",
     "text": [
      "Процент правильных ответ для 1 рекомендаций: 0.50\n",
      "Процент правильных ответ для 2 рекомендаций: 0.83\n",
      "Процент правильных ответ для 3 рекомендаций: 0.98\n"
     ]
    }
   ],
   "source": [
    "model_all = AdaBoostClassifier(\n",
    "    estimator=RandomForestClassifier(n_estimators=3, max_depth=2, random_state=42),\n",
    "    n_estimators=100,\n",
    "    algorithm='SAMME',\n",
    "    random_state=42\n",
    ")\n",
    "\n",
    "model_all.fit(X, y)\n",
    "probabilities_cv = model_all.predict_proba(X)\n",
    "\n",
    "def calculate_accuracy_top_n(probabilities, y_true, n):\n",
    "    top_n_predictions = np.argsort(probabilities, axis=1)[:, -n:]\n",
    "    correct_count = 0\n",
    "    unique_classes = np.unique(y_true)\n",
    "\n",
    "    for i, true_label in enumerate(y_true):\n",
    "        predicted_indices = top_n_predictions[i]\n",
    "        if true_label in unique_classes[predicted_indices]:\n",
    "            correct_count += 1\n",
    "\n",
    "    accuracy = correct_count / len(y_true)\n",
    "    print(f'Процент правильных ответ для {n} рекомендаций: {accuracy:.2f}')\n",
    "\n",
    "\n",
    "calculate_accuracy_top_n(probabilities_cv, y, n=1)\n",
    "calculate_accuracy_top_n(probabilities_cv, y, n=2)\n",
    "calculate_accuracy_top_n(probabilities_cv, y, n=3)"
   ]
  },
  {
   "cell_type": "markdown",
   "metadata": {},
   "source": [
    "# ONNX MODEL"
   ]
  },
  {
   "cell_type": "markdown",
   "metadata": {},
   "source": [
    "## Создаем модель в файл"
   ]
  },
  {
   "cell_type": "code",
   "execution_count": 33,
   "metadata": {},
   "outputs": [],
   "source": [
    "initial_type = [('float_input', FloatTensorType([None, X.shape[1]]))]\n",
    "onnx_model = convert_sklearn(model_all, initial_types=initial_type)\n",
    "\n",
    "with open(\"model.onnx\", \"wb\") as f:\n",
    "    f.write(onnx_model.SerializeToString())"
   ]
  },
  {
   "cell_type": "markdown",
   "metadata": {},
   "source": [
    "## Импортируем модель и проверяем"
   ]
  },
  {
   "cell_type": "code",
   "execution_count": 6,
   "metadata": {},
   "outputs": [],
   "source": [
    "onnx_model = onnx.load(\"model.onnx\")\n",
    "\n",
    "onnx.checker.check_model(onnx_model)\n",
    "\n",
    "ort_session = ort.InferenceSession(\"model.onnx\")"
   ]
  },
  {
   "cell_type": "code",
   "execution_count": 10,
   "metadata": {},
   "outputs": [],
   "source": [
    "X = X.drop('Unnamed: 0', axis=1)"
   ]
  },
  {
   "cell_type": "code",
   "execution_count": 11,
   "metadata": {},
   "outputs": [],
   "source": [
    "input_data = X.astype(np.float32).values"
   ]
  },
  {
   "cell_type": "code",
   "execution_count": 12,
   "metadata": {},
   "outputs": [],
   "source": [
    "ort_inputs = {ort_session.get_inputs()[0].name: input_data}\n",
    "ort_outs = ort_session.run(None, ort_inputs)\n",
    "\n",
    "predicted_class = ort_outs[0]"
   ]
  },
  {
   "cell_type": "code",
   "execution_count": 27,
   "metadata": {},
   "outputs": [
    {
     "data": {
      "text/plain": [
       "array([  0.     , 246.69734,   1.     ,   0.     ,   1.     ,   0.     ,\n",
       "         1.     ,   0.     ,   0.     ,   0.     ,   1.     ,   1.     ,\n",
       "         1.     ,   2.     ,   2.     ,   3.     ,   3.     ,   3.     ,\n",
       "         3.     ,   2.     ,   2.     ,   2.     ,   3.     ,   2.     ,\n",
       "         1.     ,   1.     ,   0.     ,   0.     ,   0.     ,   1.     ,\n",
       "         0.     ,   0.     ,   0.     ,   0.     ,   0.     ,   0.     ],\n",
       "      dtype=float32)"
      ]
     },
     "execution_count": 27,
     "metadata": {},
     "output_type": "execute_result"
    }
   ],
   "source": [
    "ort_inputs['float_input'][1]"
   ]
  },
  {
   "cell_type": "code",
   "execution_count": 16,
   "metadata": {},
   "outputs": [
    {
     "data": {
      "text/plain": [
       "2"
      ]
     },
     "execution_count": 16,
     "metadata": {},
     "output_type": "execute_result"
    }
   ],
   "source": [
    "len(ort_outs)"
   ]
  },
  {
   "cell_type": "code",
   "execution_count": 19,
   "metadata": {},
   "outputs": [
    {
     "data": {
      "text/plain": [
       "'Информатика и вычислительная техника'"
      ]
     },
     "execution_count": 19,
     "metadata": {},
     "output_type": "execute_result"
    }
   ],
   "source": [
    "ort_outs[0][0]"
   ]
  },
  {
   "cell_type": "code",
   "execution_count": 18,
   "metadata": {},
   "outputs": [
    {
     "data": {
      "text/plain": [
       "{'Биотехнические системы и технологии': 0.10958024114370346,\n",
       " 'Информатика и вычислительная техника': 0.1124861016869545,\n",
       " 'Информационная безопасность': 0.1110367402434349,\n",
       " 'Информационная безопасность автоматизированных систем': 0.11135341227054596,\n",
       " 'Информационные системы и технологии': 0.11115632206201553,\n",
       " 'Приборостроение': 0.11067236214876175,\n",
       " 'Прикладная информатика': 0.11181452870368958,\n",
       " 'Программная инженерия': 0.11122677475214005,\n",
       " 'Управление в технических системах': 0.11067349463701248}"
      ]
     },
     "execution_count": 18,
     "metadata": {},
     "output_type": "execute_result"
    }
   ],
   "source": [
    "ort_outs[1][0]"
   ]
  },
  {
   "cell_type": "code",
   "execution_count": 14,
   "metadata": {},
   "outputs": [
    {
     "data": {
      "text/plain": [
       "426"
      ]
     },
     "execution_count": 14,
     "metadata": {},
     "output_type": "execute_result"
    }
   ],
   "source": [
    "len(predicted_class)"
   ]
  },
  {
   "cell_type": "code",
   "execution_count": 37,
   "metadata": {},
   "outputs": [
    {
     "data": {
      "text/plain": [
       "0.4953051643192488"
      ]
     },
     "execution_count": 37,
     "metadata": {},
     "output_type": "execute_result"
    }
   ],
   "source": [
    "accuracy_score(predicted_class, y)"
   ]
  }
 ],
 "metadata": {
  "colab": {
   "authorship_tag": "ABX9TyOKFAql6vjGYiHZDPM5JEml",
   "provenance": []
  },
  "kernelspec": {
   "display_name": "Python 3",
   "name": "python3"
  },
  "language_info": {
   "codemirror_mode": {
    "name": "ipython",
    "version": 3
   },
   "file_extension": ".py",
   "mimetype": "text/x-python",
   "name": "python",
   "nbconvert_exporter": "python",
   "pygments_lexer": "ipython3",
   "version": "3.12.6"
  }
 },
 "nbformat": 4,
 "nbformat_minor": 0
}
