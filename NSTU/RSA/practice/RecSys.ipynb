{
 "cells": [
  {
   "cell_type": "code",
   "execution_count": 1,
   "metadata": {},
   "outputs": [],
   "source": [
    "import numpy as np\n",
    "from sklearn.ensemble import AdaBoostClassifier, RandomForestClassifier\n",
    "import pandas as pd\n",
    "from skl2onnx import convert_sklearn\n",
    "from skl2onnx.common.data_types import FloatTensorType\n",
    "import onnx\n",
    "import onnxruntime as ort\n",
    "from sklearn.metrics import accuracy_score\n"
   ]
  },
  {
   "cell_type": "markdown",
   "metadata": {},
   "source": [
    "# Предподготовка данных"
   ]
  },
  {
   "cell_type": "code",
   "execution_count": 2,
   "metadata": {},
   "outputs": [],
   "source": [
    "\n",
    "data = pd.read_csv('NSTU_Students_data.csv')\n",
    "data = data.drop('Курс обучения', axis=1)\n"
   ]
  },
  {
   "cell_type": "code",
   "execution_count": 3,
   "metadata": {},
   "outputs": [],
   "source": [
    "binary_fields = {\n",
    "    'Пол': {'Мужской': True, 'Женский': False},\n",
    "    'Вы поступили в университет, потому что сами этого хотели?': {'Да': True, 'Нет': False},\n",
    "    'Вам важно получать хорошие отметки?': {'Да': True, 'Нет': False}\n",
    "}\n",
    "\n",
    "for field, mapping in binary_fields.items():\n",
    "    data[field] = data[field].map(mapping)"
   ]
  },
  {
   "cell_type": "code",
   "execution_count": 4,
   "metadata": {},
   "outputs": [],
   "source": [
    "fields = {\n",
    "    'Сумма баллов ЕГЭ за 3 предмета': {'120-150': 1, '151-200': 2, '201-230':3, '231-260': 4, '261-300': 5 }\n",
    "}\n",
    "for field, mapping in fields.items():\n",
    "    data[field] = data[field].map(mapping)"
   ]
  },
  {
   "cell_type": "code",
   "execution_count": 5,
   "metadata": {},
   "outputs": [],
   "source": [
    "olympiad_fields = [\n",
    "    'Принимали ли вы участие в олимпиадах по профильным предметам? / Математика',\n",
    "    'Принимали ли вы участие в олимпиадах по профильным предметам? / Информатика и программирование',\n",
    "    'Принимали ли вы участие в олимпиадах по профильным предметам? / Физика'\n",
    "]\n",
    "\n",
    "for field in olympiad_fields:\n",
    "    data[field] = data[field].apply(lambda x: True if pd.notna(x) else False)"
   ]
  },
  {
   "cell_type": "code",
   "execution_count": 6,
   "metadata": {},
   "outputs": [],
   "source": [
    "hobbies_fields = [\n",
    "    'Какие увлечения у вас были, когда вы учились в школе? / Геймдев, VR, AR',\n",
    "    'Какие увлечения у вас были, когда вы учились в школе? / Спорт',\n",
    "    'Какие увлечения у вас были, когда вы учились в школе? / Программирование',\n",
    "    'Какие увлечения у вас были, когда вы учились в школе? / Робототехника',\n",
    "    'Какие увлечения у вас были, когда вы учились в школе? / 3D-моделирование',\n",
    "    'Какие увлечения у вас были, когда вы учились в школе? / Решение математических задач',\n",
    "    'Какие увлечения у вас были, когда вы учились в школе? / Творчество: музыка, рисование, танцы и т.п.',\n",
    "    'Какие увлечения у вас были, когда вы учились в школе? / Физика',\n",
    "]\n",
    "\n",
    "for field in hobbies_fields:\n",
    "    data[field] = data[field].apply(lambda x: True if pd.notna(x) else False)"
   ]
  },
  {
   "cell_type": "code",
   "execution_count": 7,
   "metadata": {},
   "outputs": [],
   "source": [
    "opinion_mapping = {\n",
    "    'Да, это точно про меня!': 3,\n",
    "    'Затрудняюсь ответить': 2,\n",
    "    'Меня это мало интересует': 1\n",
    "}\n",
    "\n",
    "for column in data.columns:\n",
    "    if any(data[column].isin(opinion_mapping.keys())):\n",
    "        data[column] = data[column].map(opinion_mapping)\n"
   ]
  },
  {
   "cell_type": "code",
   "execution_count": 8,
   "metadata": {},
   "outputs": [],
   "source": [
    "it_field = 'Если бы вы могли выбрать только 1 сферу в IT, то что бы выбрали?'\n",
    "data = pd.get_dummies(data, columns=[it_field], prefix='', prefix_sep='')"
   ]
  },
  {
   "cell_type": "code",
   "execution_count": 9,
   "metadata": {},
   "outputs": [],
   "source": [
    "target = data['Направление подготовки']"
   ]
  },
  {
   "cell_type": "code",
   "execution_count": 10,
   "metadata": {},
   "outputs": [],
   "source": [
    "data['target'] = target"
   ]
  },
  {
   "cell_type": "code",
   "execution_count": 11,
   "metadata": {},
   "outputs": [],
   "source": [
    "data = data.drop('Направление подготовки', axis=1)"
   ]
  },
  {
   "cell_type": "code",
   "execution_count": 12,
   "metadata": {},
   "outputs": [
    {
     "data": {
      "text/plain": [
       "Index(['Пол', 'Сумма баллов ЕГЭ за 3 предмета', 'ОЛ / Математика',\n",
       "       'ОЛ / Информатика и программирование', 'ОЛ / Физика',\n",
       "       ' / Геймдев, VR, AR', ' / Спорт', ' / Программирование',\n",
       "       ' / Робототехника', ' / 3D-моделирование',\n",
       "       ' / Решение математических задач',\n",
       "       ' / Творчество: музыка, рисование, танцы и т.п.', ' / Физика',\n",
       "       'НЗ / Веб-разработкой', 'НЗ / Системным администрированием',\n",
       "       'НЗ / Математикой',\n",
       "       'НЗ / Работой с компьютерным оборудованием и сборкой ПК',\n",
       "       'НЗ / Биологией', 'НЗ / Аналитикой данных',\n",
       "       'НЗ / Разработка графических интерфейсов - GUI',\n",
       "       'НЗ / Написанием серверной части приложений - Back',\n",
       "       'НЗ / Написанием клиентской части приложений - Front',\n",
       "       'НЗ / Экономикой и финансами',\n",
       "       'НЗ / Поиском ошибок и уязвимостей на сайтах, в играх или приложениях',\n",
       "       'Вы поступили в университет, потому что сами этого хотели?',\n",
       "       'Вам важно получать хорошие отметки?', 'QA-тестировщик',\n",
       "       'Аналитика данных', 'Веб-разработка',\n",
       "       'Искусственный интеллект и машинное обучение', 'Кибербезопасность',\n",
       "       'Мобильная разработка', 'Облачные вычисления и DevOps',\n",
       "       'Разработка UI/UX', 'Разработка игр', 'Системное программирование',\n",
       "       'target'],\n",
       "      dtype='object')"
      ]
     },
     "execution_count": 12,
     "metadata": {},
     "output_type": "execute_result"
    }
   ],
   "source": [
    "data.columns = data.columns.str.replace('Какие увлечения у вас были, когда вы учились в школе?', '', regex=False)\n",
    "data.columns = data.columns.str.replace('Принимали ли вы участие в олимпиадах по профильным предметам?', 'ОЛ', regex=False)\n",
    "data.columns = data.columns.str.replace('Насколько вы любите заниматься ...?', 'НЗ', regex=False)\n",
    "data.columns"
   ]
  },
  {
   "cell_type": "code",
   "execution_count": 13,
   "metadata": {},
   "outputs": [
    {
     "name": "stdout",
     "output_type": "stream",
     "text": [
      "<class 'pandas.core.frame.DataFrame'>\n",
      "RangeIndex: 426 entries, 0 to 425\n",
      "Data columns (total 37 columns):\n",
      " #   Column                                                                Non-Null Count  Dtype \n",
      "---  ------                                                                --------------  ----- \n",
      " 0   Пол                                                                   426 non-null    bool  \n",
      " 1   Сумма баллов ЕГЭ за 3 предмета                                        426 non-null    int64 \n",
      " 2   ОЛ / Математика                                                       426 non-null    bool  \n",
      " 3   ОЛ / Информатика и программирование                                   426 non-null    bool  \n",
      " 4   ОЛ / Физика                                                           426 non-null    bool  \n",
      " 5    / Геймдев, VR, AR                                                    426 non-null    bool  \n",
      " 6    / Спорт                                                              426 non-null    bool  \n",
      " 7    / Программирование                                                   426 non-null    bool  \n",
      " 8    / Робототехника                                                      426 non-null    bool  \n",
      " 9    / 3D-моделирование                                                   426 non-null    bool  \n",
      " 10   / Решение математических задач                                       426 non-null    bool  \n",
      " 11   / Творчество: музыка, рисование, танцы и т.п.                        426 non-null    bool  \n",
      " 12   / Физика                                                             426 non-null    bool  \n",
      " 13  НЗ / Веб-разработкой                                                  426 non-null    int64 \n",
      " 14  НЗ / Системным администрированием                                     426 non-null    int64 \n",
      " 15  НЗ / Математикой                                                      426 non-null    int64 \n",
      " 16  НЗ / Работой с компьютерным оборудованием и сборкой ПК                426 non-null    int64 \n",
      " 17  НЗ / Биологией                                                        426 non-null    int64 \n",
      " 18  НЗ / Аналитикой данных                                                426 non-null    int64 \n",
      " 19  НЗ / Разработка графических интерфейсов - GUI                         426 non-null    int64 \n",
      " 20  НЗ / Написанием серверной части приложений - Back                     426 non-null    int64 \n",
      " 21  НЗ / Написанием клиентской части приложений - Front                   426 non-null    int64 \n",
      " 22  НЗ / Экономикой и финансами                                           426 non-null    int64 \n",
      " 23  НЗ / Поиском ошибок и уязвимостей на сайтах, в играх или приложениях  426 non-null    int64 \n",
      " 24  Вы поступили в университет, потому что сами этого хотели?             426 non-null    bool  \n",
      " 25  Вам важно получать хорошие отметки?                                   426 non-null    bool  \n",
      " 26  QA-тестировщик                                                        426 non-null    bool  \n",
      " 27  Аналитика данных                                                      426 non-null    bool  \n",
      " 28  Веб-разработка                                                        426 non-null    bool  \n",
      " 29  Искусственный интеллект и машинное обучение                           426 non-null    bool  \n",
      " 30  Кибербезопасность                                                     426 non-null    bool  \n",
      " 31  Мобильная разработка                                                  426 non-null    bool  \n",
      " 32  Облачные вычисления и DevOps                                          426 non-null    bool  \n",
      " 33  Разработка UI/UX                                                      426 non-null    bool  \n",
      " 34  Разработка игр                                                        426 non-null    bool  \n",
      " 35  Системное программирование                                            426 non-null    bool  \n",
      " 36  target                                                                426 non-null    object\n",
      "dtypes: bool(24), int64(12), object(1)\n",
      "memory usage: 53.4+ KB\n"
     ]
    }
   ],
   "source": [
    "data.info()"
   ]
  },
  {
   "cell_type": "code",
   "execution_count": 14,
   "metadata": {},
   "outputs": [
    {
     "name": "stdout",
     "output_type": "stream",
     "text": [
      "<class 'pandas.core.frame.DataFrame'>\n",
      "RangeIndex: 426 entries, 0 to 425\n",
      "Data columns (total 37 columns):\n",
      " #   Column                                                                Non-Null Count  Dtype   \n",
      "---  ------                                                                --------------  -----   \n",
      " 0   Пол                                                                   426 non-null    bool    \n",
      " 1   Сумма баллов ЕГЭ за 3 предмета                                        426 non-null    int64   \n",
      " 2   ОЛ / Математика                                                       426 non-null    bool    \n",
      " 3   ОЛ / Информатика и программирование                                   426 non-null    bool    \n",
      " 4   ОЛ / Физика                                                           426 non-null    bool    \n",
      " 5    / Геймдев, VR, AR                                                    426 non-null    bool    \n",
      " 6    / Спорт                                                              426 non-null    bool    \n",
      " 7    / Программирование                                                   426 non-null    bool    \n",
      " 8    / Робототехника                                                      426 non-null    bool    \n",
      " 9    / 3D-моделирование                                                   426 non-null    bool    \n",
      " 10   / Решение математических задач                                       426 non-null    bool    \n",
      " 11   / Творчество: музыка, рисование, танцы и т.п.                        426 non-null    bool    \n",
      " 12   / Физика                                                             426 non-null    bool    \n",
      " 13  НЗ / Веб-разработкой                                                  426 non-null    category\n",
      " 14  НЗ / Системным администрированием                                     426 non-null    category\n",
      " 15  НЗ / Математикой                                                      426 non-null    category\n",
      " 16  НЗ / Работой с компьютерным оборудованием и сборкой ПК                426 non-null    category\n",
      " 17  НЗ / Биологией                                                        426 non-null    category\n",
      " 18  НЗ / Аналитикой данных                                                426 non-null    category\n",
      " 19  НЗ / Разработка графических интерфейсов - GUI                         426 non-null    category\n",
      " 20  НЗ / Написанием серверной части приложений - Back                     426 non-null    category\n",
      " 21  НЗ / Написанием клиентской части приложений - Front                   426 non-null    category\n",
      " 22  НЗ / Экономикой и финансами                                           426 non-null    category\n",
      " 23  НЗ / Поиском ошибок и уязвимостей на сайтах, в играх или приложениях  426 non-null    category\n",
      " 24  Вы поступили в университет, потому что сами этого хотели?             426 non-null    bool    \n",
      " 25  Вам важно получать хорошие отметки?                                   426 non-null    bool    \n",
      " 26  QA-тестировщик                                                        426 non-null    bool    \n",
      " 27  Аналитика данных                                                      426 non-null    bool    \n",
      " 28  Веб-разработка                                                        426 non-null    bool    \n",
      " 29  Искусственный интеллект и машинное обучение                           426 non-null    bool    \n",
      " 30  Кибербезопасность                                                     426 non-null    bool    \n",
      " 31  Мобильная разработка                                                  426 non-null    bool    \n",
      " 32  Облачные вычисления и DevOps                                          426 non-null    bool    \n",
      " 33  Разработка UI/UX                                                      426 non-null    bool    \n",
      " 34  Разработка игр                                                        426 non-null    bool    \n",
      " 35  Системное программирование                                            426 non-null    bool    \n",
      " 36  target                                                                426 non-null    object  \n",
      "dtypes: bool(24), category(11), int64(1), object(1)\n",
      "memory usage: 22.8+ KB\n"
     ]
    }
   ],
   "source": [
    "for col in data.select_dtypes(include='int64').columns:\n",
    "    if col != 'Сумма баллов ЕГЭ за 3 предмета':\n",
    "        data[col] = data[col].astype('category')\n",
    "data.info()"
   ]
  },
  {
   "cell_type": "code",
   "execution_count": 15,
   "metadata": {},
   "outputs": [],
   "source": [
    "frequency_table = data['Сумма баллов ЕГЭ за 3 предмета'].value_counts().reset_index()\n",
    "frequency_table.columns = ['Категория', 'Частота']\n",
    "counts = frequency_table.set_index('Категория')['Частота'].to_dict()\n",
    "\n",
    "category_params = {\n",
    "    1: (135, 4),\n",
    "    2: (175.5, 3.5),\n",
    "    3: (215.5, 2.5),\n",
    "    4: (245.5, 2),\n",
    "    5: (275, 4) \n",
    "}\n",
    "\n",
    "data['Средние баллы'] = data['Сумма баллов ЕГЭ за 3 предмета'].replace({k: v[0] for k, v in category_params.items()})\n",
    "\n",
    "categorical_samples = data['Средние баллы'].values\n",
    "\n",
    "def generate_scores_fixed_count(counts):\n",
    "    generated_scores = []\n",
    "\n",
    "    for category, count in counts.items():\n",
    "        mean, std_dev = category_params[category]\n",
    "\n",
    "        scores = np.random.normal(mean, std_dev, count)\n",
    "\n",
    "        if category == 1:\n",
    "            scores = np.clip(scores, 120, 150)\n",
    "        elif category == 2:\n",
    "            scores = np.clip(scores, 151, 200)\n",
    "        elif category == 3:\n",
    "            scores = np.clip(scores, 201, 230)\n",
    "        elif category == 4:\n",
    "            scores = np.clip(scores, 231, 260)\n",
    "        elif category == 5:\n",
    "            scores = np.clip(scores, 261, 280)\n",
    "\n",
    "        generated_scores.extend(scores)\n",
    "\n",
    "    return np.array(generated_scores)\n",
    "\n",
    "# Генерация новых баллов\n",
    "new_generated_scores = generate_scores_fixed_count(counts)\n",
    "\n",
    "data['Сумма баллов ЕГЭ за 3 предмета'] = new_generated_scores\n",
    "data = data.drop('Средние баллы', axis=1)"
   ]
  },
  {
   "cell_type": "code",
   "execution_count": 16,
   "metadata": {},
   "outputs": [],
   "source": [
    "data.to_csv('NSTU_Students_data_transformed.csv')"
   ]
  },
  {
   "cell_type": "code",
   "execution_count": null,
   "metadata": {},
   "outputs": [],
   "source": [
    "ready_data = pd.read_csv('NSTU_Students_data_transformed.csv')\n",
    "X = data.drop('target', axis=1) \n",
    "y = data['target'] \n",
    "\n",
    "from sklearn.preprocessing import OneHotEncoder\n",
    "encoder = OneHotEncoder(sparse_output=False)\n",
    "y_array = y.values.reshape(-1, 1)\n",
    "\n",
    "y_one_hot = encoder.fit_transform(y_array)\n",
    "y_labels = np.argmax(y_one_hot, axis=1) \n"
   ]
  },
  {
   "cell_type": "markdown",
   "metadata": {},
   "source": [
    "# Модель для предикта"
   ]
  },
  {
   "cell_type": "code",
   "execution_count": 93,
   "metadata": {},
   "outputs": [
    {
     "name": "stderr",
     "output_type": "stream",
     "text": [
      "c:\\Users\\user\\AppData\\Local\\Programs\\Python\\Python312\\Lib\\site-packages\\sklearn\\ensemble\\_weight_boosting.py:527: FutureWarning: The SAMME.R algorithm (the default) is deprecated and will be removed in 1.6. Use the SAMME algorithm to circumvent this warning.\n",
      "  warnings.warn(\n"
     ]
    }
   ],
   "source": [
    "model_all = AdaBoostClassifier(\n",
    "    estimator=RandomForestClassifier(n_estimators=3, max_depth=2, random_state=42),\n",
    "    n_estimators=100,\n",
    "    algorithm='SAMME.R',\n",
    "    random_state=42\n",
    ")\n",
    "\n",
    "model_all.fit(X, y_labels)\n",
    "probabilities_cv = model_all.predict_proba(X)\n",
    "pred_cv = model_all.predict(X)\n",
    "\n",
    "# def calculate_accuracy_top_n(probabilities, y_true, n):\n",
    "#     top_n_predictions = np.argsort(probabilities, axis=1)[:, -n:]\n",
    "#     correct_count = 0\n",
    "#     unique_classes = np.unique(y_true)\n",
    "\n",
    "#     for i, true_label in enumerate(y_true):\n",
    "#         predicted_indices = top_n_predictions[i]\n",
    "#         if true_label in unique_classes[predicted_indices]:\n",
    "#             correct_count += 1\n",
    "\n",
    "#     accuracy = correct_count / len(y_true)\n",
    "#     print(f'Процент правильных ответ для {n} рекомендаций: {accuracy:.2f}')\n",
    "\n",
    "\n",
    "# calculate_accuracy_top_n(probabilities_cv, y, n=1)\n",
    "# calculate_accuracy_top_n(probabilities_cv, y, n=2)\n",
    "# calculate_accuracy_top_n(probabilities_cv, y, n=3)"
   ]
  },
  {
   "cell_type": "code",
   "execution_count": 96,
   "metadata": {},
   "outputs": [
    {
     "data": {
      "text/plain": [
       "array(['Биотехнические системы и технологии',\n",
       "       'Информатика и вычислительная техника',\n",
       "       'Информационная безопасность',\n",
       "       'Информационная безопасность автоматизированных систем',\n",
       "       'Информационные системы и технологии', 'Приборостроение',\n",
       "       'Прикладная информатика', 'Программная инженерия',\n",
       "       'Управление в технических системах'], dtype=object)"
      ]
     },
     "execution_count": 96,
     "metadata": {},
     "output_type": "execute_result"
    }
   ],
   "source": [
    "categories = encoder.categories_[0]  \n",
    "categories"
   ]
  },
  {
   "cell_type": "code",
   "execution_count": 94,
   "metadata": {},
   "outputs": [
    {
     "data": {
      "text/plain": [
       "0.528169014084507"
      ]
     },
     "execution_count": 94,
     "metadata": {},
     "output_type": "execute_result"
    }
   ],
   "source": [
    "accuracy_score(pred_cv, y_labels)"
   ]
  },
  {
   "cell_type": "markdown",
   "metadata": {},
   "source": [
    "# ONNX MODEL"
   ]
  },
  {
   "cell_type": "markdown",
   "metadata": {},
   "source": [
    "## Создаем модель в файл"
   ]
  },
  {
   "cell_type": "code",
   "execution_count": 110,
   "metadata": {},
   "outputs": [],
   "source": [
    "from skl2onnx import convert_sklearn\n",
    "from skl2onnx.common.data_types import FloatTensorType\n",
    "from skl2onnx import convert\n",
    "\n",
    "initial_type = [('float_input', FloatTensorType([None, X.shape[1]]))]\n",
    "\n",
    "onnx_model = convert_sklearn(model_all, initial_types=initial_type, target_opset=13)\n",
    "\n",
    "with open(\"model_with_probabilities.onnx\", \"wb\") as f:\n",
    "    f.write(onnx_model.SerializeToString())\n"
   ]
  },
  {
   "cell_type": "markdown",
   "metadata": {},
   "source": [
    "## Импортируем модель и проверяем"
   ]
  },
  {
   "cell_type": "code",
   "execution_count": 109,
   "metadata": {},
   "outputs": [
    {
     "ename": "InvalidGraph",
     "evalue": "[ONNXRuntimeError] : 10 : INVALID_GRAPH : Load model from model_with_softmax.onnx failed:This is an invalid model. Type Error: Type 'tensor(string)' of input parameter (output_label) of operator (Softmax) in node () is invalid.",
     "output_type": "error",
     "traceback": [
      "\u001b[1;31m---------------------------------------------------------------------------\u001b[0m",
      "\u001b[1;31mInvalidGraph\u001b[0m                              Traceback (most recent call last)",
      "Cell \u001b[1;32mIn[109], line 1\u001b[0m\n\u001b[1;32m----> 1\u001b[0m session \u001b[38;5;241m=\u001b[39m \u001b[43mort\u001b[49m\u001b[38;5;241;43m.\u001b[39;49m\u001b[43mInferenceSession\u001b[49m\u001b[43m(\u001b[49m\u001b[38;5;124;43m\"\u001b[39;49m\u001b[38;5;124;43mmodel_with_softmax.onnx\u001b[39;49m\u001b[38;5;124;43m\"\u001b[39;49m\u001b[43m)\u001b[49m\n\u001b[0;32m      3\u001b[0m \u001b[38;5;66;03m# Подготовка входных данных: 2D массив для X (например, 100 примеров с 10 признаками)\u001b[39;00m\n\u001b[0;32m      4\u001b[0m inputs \u001b[38;5;241m=\u001b[39m {session\u001b[38;5;241m.\u001b[39mget_inputs()[\u001b[38;5;241m0\u001b[39m]\u001b[38;5;241m.\u001b[39mname: np\u001b[38;5;241m.\u001b[39marray(X, dtype\u001b[38;5;241m=\u001b[39mnp\u001b[38;5;241m.\u001b[39mfloat32)}\n",
      "File \u001b[1;32mc:\\Users\\user\\AppData\\Local\\Programs\\Python\\Python312\\Lib\\site-packages\\onnxruntime\\capi\\onnxruntime_inference_collection.py:419\u001b[0m, in \u001b[0;36mInferenceSession.__init__\u001b[1;34m(self, path_or_bytes, sess_options, providers, provider_options, **kwargs)\u001b[0m\n\u001b[0;32m    416\u001b[0m disabled_optimizers \u001b[38;5;241m=\u001b[39m kwargs\u001b[38;5;241m.\u001b[39mget(\u001b[38;5;124m\"\u001b[39m\u001b[38;5;124mdisabled_optimizers\u001b[39m\u001b[38;5;124m\"\u001b[39m)\n\u001b[0;32m    418\u001b[0m \u001b[38;5;28;01mtry\u001b[39;00m:\n\u001b[1;32m--> 419\u001b[0m     \u001b[38;5;28;43mself\u001b[39;49m\u001b[38;5;241;43m.\u001b[39;49m\u001b[43m_create_inference_session\u001b[49m\u001b[43m(\u001b[49m\u001b[43mproviders\u001b[49m\u001b[43m,\u001b[49m\u001b[43m \u001b[49m\u001b[43mprovider_options\u001b[49m\u001b[43m,\u001b[49m\u001b[43m \u001b[49m\u001b[43mdisabled_optimizers\u001b[49m\u001b[43m)\u001b[49m\n\u001b[0;32m    420\u001b[0m \u001b[38;5;28;01mexcept\u001b[39;00m (\u001b[38;5;167;01mValueError\u001b[39;00m, \u001b[38;5;167;01mRuntimeError\u001b[39;00m) \u001b[38;5;28;01mas\u001b[39;00m e:\n\u001b[0;32m    421\u001b[0m     \u001b[38;5;28;01mif\u001b[39;00m \u001b[38;5;28mself\u001b[39m\u001b[38;5;241m.\u001b[39m_enable_fallback:\n",
      "File \u001b[1;32mc:\\Users\\user\\AppData\\Local\\Programs\\Python\\Python312\\Lib\\site-packages\\onnxruntime\\capi\\onnxruntime_inference_collection.py:480\u001b[0m, in \u001b[0;36mInferenceSession._create_inference_session\u001b[1;34m(self, providers, provider_options, disabled_optimizers)\u001b[0m\n\u001b[0;32m    477\u001b[0m \u001b[38;5;28mself\u001b[39m\u001b[38;5;241m.\u001b[39m_register_ep_custom_ops(session_options, providers, provider_options, available_providers)\n\u001b[0;32m    479\u001b[0m \u001b[38;5;28;01mif\u001b[39;00m \u001b[38;5;28mself\u001b[39m\u001b[38;5;241m.\u001b[39m_model_path:\n\u001b[1;32m--> 480\u001b[0m     sess \u001b[38;5;241m=\u001b[39m \u001b[43mC\u001b[49m\u001b[38;5;241;43m.\u001b[39;49m\u001b[43mInferenceSession\u001b[49m\u001b[43m(\u001b[49m\u001b[43msession_options\u001b[49m\u001b[43m,\u001b[49m\u001b[43m \u001b[49m\u001b[38;5;28;43mself\u001b[39;49m\u001b[38;5;241;43m.\u001b[39;49m\u001b[43m_model_path\u001b[49m\u001b[43m,\u001b[49m\u001b[43m \u001b[49m\u001b[38;5;28;43;01mTrue\u001b[39;49;00m\u001b[43m,\u001b[49m\u001b[43m \u001b[49m\u001b[38;5;28;43mself\u001b[39;49m\u001b[38;5;241;43m.\u001b[39;49m\u001b[43m_read_config_from_model\u001b[49m\u001b[43m)\u001b[49m\n\u001b[0;32m    481\u001b[0m \u001b[38;5;28;01melse\u001b[39;00m:\n\u001b[0;32m    482\u001b[0m     sess \u001b[38;5;241m=\u001b[39m C\u001b[38;5;241m.\u001b[39mInferenceSession(session_options, \u001b[38;5;28mself\u001b[39m\u001b[38;5;241m.\u001b[39m_model_bytes, \u001b[38;5;28;01mFalse\u001b[39;00m, \u001b[38;5;28mself\u001b[39m\u001b[38;5;241m.\u001b[39m_read_config_from_model)\n",
      "\u001b[1;31mInvalidGraph\u001b[0m: [ONNXRuntimeError] : 10 : INVALID_GRAPH : Load model from model_with_softmax.onnx failed:This is an invalid model. Type Error: Type 'tensor(string)' of input parameter (output_label) of operator (Softmax) in node () is invalid."
     ]
    }
   ],
   "source": [
    "session = ort.InferenceSession(\"model_with_softmax.onnx\")\n",
    "\n",
    "# Подготовка входных данных: 2D массив для X (например, 100 примеров с 10 признаками)\n",
    "inputs = {session.get_inputs()[0].name: np.array(X, dtype=np.float32)}\n",
    "\n",
    "# Выполнение предсказания\n",
    "probabilities = session.run(None, inputs)\n",
    "\n",
    "# Проверка, что возвращается 2D массив\n",
    "print(probabilities[0].shape)  # Должен быть массив [n_samples, n_classes]"
   ]
  },
  {
   "cell_type": "code",
   "execution_count": 111,
   "metadata": {},
   "outputs": [
    {
     "name": "stdout",
     "output_type": "stream",
     "text": [
      "Input: float_input, type: 1\n",
      "Output: output_label, type: 7\n",
      "Output: output_probability, type: 0\n"
     ]
    }
   ],
   "source": [
    "import onnx\n",
    "from onnx import helper, TensorProto\n",
    "\n",
    "# Загружаем модель ONNX\n",
    "onnx_model = onnx.load(\"model_with_probabilities.onnx\")\n",
    "\n",
    "# Просмотр типов данных входных и выходных тензоров\n",
    "for input in onnx_model.graph.input:\n",
    "    print(f\"Input: {input.name}, type: {input.type.tensor_type.elem_type}\")\n",
    "\n",
    "for output in onnx_model.graph.output:\n",
    "    print(f\"Output: {output.name}, type: {output.type.tensor_type.elem_type}\")\n",
    "\n",
    "# Исправляем тип данных для оператора Softmax\n",
    "softmax_node = onnx_model.graph.node[-1]  # Получаем последний узел (Softmax)\n",
    "\n",
    "# Изменяем тип данных для выходных тензоров оператора Softmax\n",
    "for i in range(len(softmax_node.output)):\n",
    "    # Получаем выходной тензор\n",
    "    output_name = softmax_node.output[i]\n",
    "    \n",
    "    # Находим этот выход в графе\n",
    "    for value_info in onnx_model.graph.value_info:\n",
    "        if value_info.name == output_name:\n",
    "            # Меняем тип данных на float32\n",
    "            value_info.type.tensor_type.elem_type = TensorProto.FLOAT\n",
    "\n",
    "# Сохраняем исправленную модель\n",
    "onnx.save(onnx_model, \"model_with_softmax_fixed.onnx\")\n"
   ]
  },
  {
   "cell_type": "code",
   "execution_count": 2,
   "metadata": {},
   "outputs": [
    {
     "ename": "NameError",
     "evalue": "name 'ort' is not defined",
     "output_type": "error",
     "traceback": [
      "\u001b[1;31m---------------------------------------------------------------------------\u001b[0m",
      "\u001b[1;31mNameError\u001b[0m                                 Traceback (most recent call last)",
      "Cell \u001b[1;32mIn[2], line 10\u001b[0m\n\u001b[0;32m      6\u001b[0m onnx_model \u001b[38;5;241m=\u001b[39m onnx\u001b[38;5;241m.\u001b[39mload(\u001b[38;5;124m\"\u001b[39m\u001b[38;5;124mmodel.onnx\u001b[39m\u001b[38;5;124m\"\u001b[39m)\n\u001b[0;32m      8\u001b[0m onnx\u001b[38;5;241m.\u001b[39mchecker\u001b[38;5;241m.\u001b[39mcheck_model(onnx_model)\n\u001b[1;32m---> 10\u001b[0m ort_session \u001b[38;5;241m=\u001b[39m \u001b[43mort\u001b[49m\u001b[38;5;241m.\u001b[39mInferenceSession(\u001b[38;5;124m\"\u001b[39m\u001b[38;5;124mmodel.onnx\u001b[39m\u001b[38;5;124m\"\u001b[39m)\n",
      "\u001b[1;31mNameError\u001b[0m: name 'ort' is not defined"
     ]
    }
   ],
   "source": [
    "import onnx\n",
    "from skl2onnx import convert_sklearn\n",
    "from skl2onnx.common.data_types import FloatTensorType\n",
    "from skl2onnx import convert\n",
    "from onnx import helper, TensorProto\n",
    "onnx_model = onnx.load(\"model.onnx\")\n",
    "\n",
    "onnx.checker.check_model(onnx_model)\n",
    "\n",
    "ort_session = ort.InferenceSession(\"model.onnx\")"
   ]
  },
  {
   "cell_type": "code",
   "execution_count": 113,
   "metadata": {},
   "outputs": [],
   "source": [
    "input_data = X.astype(np.float32).values"
   ]
  },
  {
   "cell_type": "code",
   "execution_count": 114,
   "metadata": {},
   "outputs": [
    {
     "data": {
      "text/plain": [
       "array([  1.    , 245.1589,   1.    ,   1.    ,   0.    ,   0.    ,\n",
       "         1.    ,   1.    ,   0.    ,   0.    ,   0.    ,   0.    ,\n",
       "         0.    ,   3.    ,   1.    ,   2.    ,   2.    ,   1.    ,\n",
       "         3.    ,   1.    ,   3.    ,   2.    ,   2.    ,   1.    ,\n",
       "         1.    ,   1.    ,   0.    ,   0.    ,   0.    ,   1.    ,\n",
       "         0.    ,   0.    ,   0.    ,   0.    ,   0.    ,   0.    ],\n",
       "      dtype=float32)"
      ]
     },
     "execution_count": 114,
     "metadata": {},
     "output_type": "execute_result"
    }
   ],
   "source": [
    "input_data[0]"
   ]
  },
  {
   "cell_type": "code",
   "execution_count": 115,
   "metadata": {},
   "outputs": [],
   "source": [
    "ort_inputs = {ort_session.get_inputs()[0].name: input_data}\n",
    "ort_outs = ort_session.run(None, ort_inputs)\n",
    "\n",
    "predicted_class = ort_outs[0]"
   ]
  },
  {
   "cell_type": "code",
   "execution_count": 116,
   "metadata": {},
   "outputs": [
    {
     "data": {
      "text/plain": [
       "0.0"
      ]
     },
     "execution_count": 116,
     "metadata": {},
     "output_type": "execute_result"
    }
   ],
   "source": [
    "accuracy_score(predicted_class, y)"
   ]
  },
  {
   "cell_type": "code",
   "execution_count": 117,
   "metadata": {},
   "outputs": [
    {
     "data": {
      "text/plain": [
       "numpy.ndarray"
      ]
     },
     "execution_count": 117,
     "metadata": {},
     "output_type": "execute_result"
    }
   ],
   "source": [
    "type(predicted_class)"
   ]
  },
  {
   "cell_type": "code",
   "execution_count": 118,
   "metadata": {},
   "outputs": [
    {
     "data": {
      "text/plain": [
       "array([1, 1, 1, 2, 4, 2, 1, 2, 6, 1, 0, 1, 1, 0, 1, 2, 0, 6, 0, 2, 1, 0,\n",
       "       1, 6, 7, 1, 1, 1, 1, 6, 3, 6, 7, 1, 1, 1, 2, 2, 6, 6, 7, 1, 1, 0,\n",
       "       6, 1, 1, 2, 2, 1, 1, 1, 7, 1, 1, 2, 1, 1, 6, 1, 1, 2, 2, 6, 1, 1,\n",
       "       1, 1, 1, 1, 6, 7, 0, 0, 2, 2, 1, 1, 2, 6, 1, 4, 2, 7, 0, 7, 1, 1,\n",
       "       6, 6, 4, 7, 1, 7, 0, 6, 1, 6, 7, 1, 7, 7, 1, 1, 6, 6, 1, 2, 6, 4,\n",
       "       7, 1, 7, 3, 1, 1, 1, 2, 7, 0, 0, 1, 1, 2, 0, 7, 1, 7, 0, 6, 1, 1,\n",
       "       7, 0, 1, 6, 1, 2, 1, 4, 6, 7, 6, 5, 6, 6, 6, 6, 1, 6, 6, 6, 4, 6,\n",
       "       6, 1, 7, 7, 4, 1, 4, 7, 1, 0, 6, 2, 6, 1, 2, 1, 6, 1, 1, 1, 2, 1,\n",
       "       1, 5, 2, 1, 1, 1, 1, 5, 1, 1, 0, 5, 5, 7, 4, 5, 0, 7, 7, 0, 0, 0,\n",
       "       1, 2, 2, 0, 7, 1, 0, 2, 3, 7, 2, 7, 7, 1, 7, 7, 7, 3, 2, 2, 1, 0,\n",
       "       2, 2, 1, 3, 2, 7, 3, 3, 1, 1, 1, 7, 7, 1, 8, 8, 8, 8, 2, 8, 8, 3,\n",
       "       3, 1, 2, 1, 1, 1, 1, 7, 3, 1, 1, 1, 1, 3, 2, 7, 1, 2, 0, 8, 1, 3,\n",
       "       1, 8, 1, 3, 1, 3, 3, 2, 5, 3, 3, 3, 3, 7, 2, 2, 6, 8, 8, 2, 0, 1,\n",
       "       1, 1, 6, 1, 6, 2, 3, 3, 8, 6, 0, 3, 1, 7, 2, 3, 8, 3, 6, 6, 6, 8,\n",
       "       1, 1, 1, 2, 6, 1, 0, 6, 1, 1, 6, 5, 6, 4, 1, 6, 5, 0, 2, 1, 1, 4,\n",
       "       1, 0, 6, 2, 8, 1, 1, 1, 1, 2, 2, 1, 0, 4, 4, 1, 1, 1, 8, 4, 2, 1,\n",
       "       2, 1, 4, 4, 4, 7, 0, 4, 1, 4, 1, 5, 8, 1, 8, 0, 1, 1, 1, 0, 8, 8,\n",
       "       1, 1, 0, 0, 4, 0, 8, 8, 8, 7, 7, 1, 0, 8, 0, 1, 0, 1, 7, 0, 4, 8,\n",
       "       1, 8, 7, 0, 4, 1, 4, 0, 3, 3, 0, 3, 3, 8, 1, 5, 8, 3, 3, 3, 8, 7,\n",
       "       0, 8, 8, 0, 0, 2, 7, 1], dtype=int64)"
      ]
     },
     "execution_count": 118,
     "metadata": {},
     "output_type": "execute_result"
    }
   ],
   "source": [
    "predicted_class"
   ]
  },
  {
   "cell_type": "code",
   "execution_count": null,
   "metadata": {},
   "outputs": [],
   "source": []
  }
 ],
 "metadata": {
  "colab": {
   "authorship_tag": "ABX9TyOKFAql6vjGYiHZDPM5JEml",
   "provenance": []
  },
  "kernelspec": {
   "display_name": "Python 3",
   "name": "python3"
  },
  "language_info": {
   "codemirror_mode": {
    "name": "ipython",
    "version": 3
   },
   "file_extension": ".py",
   "mimetype": "text/x-python",
   "name": "python",
   "nbconvert_exporter": "python",
   "pygments_lexer": "ipython3",
   "version": "3.12.6"
  }
 },
 "nbformat": 4,
 "nbformat_minor": 0
}
