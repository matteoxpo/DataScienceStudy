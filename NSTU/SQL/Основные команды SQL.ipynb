{
 "cells": [
  {
   "cell_type": "markdown",
   "metadata": {},
   "source": [
    "# Основные команды SQL"
   ]
  },
  {
   "cell_type": "markdown",
   "metadata": {},
   "source": [
    "## Команда INSERT"
   ]
  },
  {
   "cell_type": "markdown",
   "metadata": {},
   "source": [
    "INSERT добавляет новые строки в таблицу. Обычно указываются конкретные значения для столбцов, которые мы хотим заполнить.\n",
    "\n",
    "Синтаксис:\n",
    "```SQL\n",
    "INSERT INTO table_name (column1, column2, ...)\n",
    "VALUES (value1, value2, ...);\n",
    "```\n",
    "Предположим, у нас есть таблица employees\n",
    "```SQL\n",
    "INSERT INTO employees (name, age, department_id) \n",
    "VALUES ('Alice', 30, 1);\n",
    "```\n",
    "Вставка нескольких строк\n",
    "```SQL\n",
    "INSERT INTO employees (name, age, department_id) \n",
    "VALUES \n",
    "    ('Bob', 25, 2),\n",
    "    ('Charlie', 35, 1);\n",
    "```"
   ]
  },
  {
   "cell_type": "markdown",
   "metadata": {},
   "source": [
    "### Практическое задание"
   ]
  },
  {
   "cell_type": "markdown",
   "metadata": {},
   "source": [
    "* Создай таблицу customers с полями id, name, email.\n",
    "* Вставь 3–5 записей в эту таблицу."
   ]
  },
  {
   "cell_type": "code",
   "execution_count": 22,
   "metadata": {},
   "outputs": [],
   "source": [
    "import sqlite3\n",
    "\n",
    "connection = sqlite3.connect('departament.db')\n",
    "cursor = connection.cursor()"
   ]
  },
  {
   "cell_type": "code",
   "execution_count": 23,
   "metadata": {},
   "outputs": [],
   "source": [
    "cursor.execute(\n",
    "'''\n",
    "CREATE TABLE IF NOT EXISTS customers(\n",
    "    id INT PRIMARY KEY,\n",
    "    name VARCHAR(50),\n",
    "    age INT,\n",
    "    email VARCHAR(50)\n",
    ");\n",
    "'''\n",
    ")\n",
    "cursor.execute(\n",
    "'''\n",
    "INSERT INTO customers(name,age, email)\n",
    "VALUES\n",
    "    ('Serj', 21, 's-hromin@mail.ru'),\n",
    "    ('Liza', 20, 'liza@mail.ru');\n",
    "'''\n",
    ")\n",
    "connection.commit()\n"
   ]
  },
  {
   "cell_type": "code",
   "execution_count": 24,
   "metadata": {},
   "outputs": [
    {
     "name": "stdout",
     "output_type": "stream",
     "text": [
      "(None, 'Serj', 21, 's-hromin@mail.ru')\n",
      "(None, 'Liza', 20, 'liza@mail.ru')\n"
     ]
    }
   ],
   "source": [
    "cursor.execute(\n",
    "'''\n",
    "SELECT * FROM customers\n",
    "'''\n",
    ")\n",
    "for row in cursor.fetchall():\n",
    "    print(row)"
   ]
  },
  {
   "cell_type": "code",
   "execution_count": 25,
   "metadata": {},
   "outputs": [],
   "source": [
    "connection.close()"
   ]
  },
  {
   "cell_type": "markdown",
   "metadata": {},
   "source": [
    "## Команда UPDATE"
   ]
  },
  {
   "cell_type": "markdown",
   "metadata": {},
   "source": [
    "UPDATE позволяет изменять значения в уже существующих строках таблицы. Важно использовать WHERE, чтобы обновить только нужные строки, иначе изменение затронет все строки в таблице.\n",
    "\n",
    "Синтаксис:\n",
    "```SQL\n",
    "UPDATE table_name\n",
    "SET column1 = value1, column2 = value2, ...\n",
    "WHERE condition;\n",
    "```\n",
    "Пример\n",
    "```SQL\n",
    "UPDATE employees\n",
    "SET age = 31\n",
    "WHERE name = 'Alice';\n",
    "```\n",
    "Обновление нескольких\n",
    "```SQL\n",
    "UPDATE employees\n",
    "SET age = 32, department_id = 2\n",
    "WHERE name = 'Alice';\n",
    "```"
   ]
  },
  {
   "cell_type": "markdown",
   "metadata": {},
   "source": [
    "### Практическое задание"
   ]
  },
  {
   "cell_type": "markdown",
   "metadata": {},
   "source": [
    "* Обнови возраст одного из клиентов в таблице customers.\n",
    "* Попробуй изменить email нескольких клиентов сразу."
   ]
  },
  {
   "cell_type": "code",
   "execution_count": 26,
   "metadata": {},
   "outputs": [],
   "source": [
    "import sqlite3\n",
    "\n",
    "connection = sqlite3.connect('departament.db')\n",
    "cursor = connection.cursor()"
   ]
  },
  {
   "cell_type": "code",
   "execution_count": 27,
   "metadata": {},
   "outputs": [
    {
     "name": "stdout",
     "output_type": "stream",
     "text": [
      "(None, 'Serj', 21, 's-hromin@mail.ru')\n",
      "(None, 'Liza', 21, 'liza@mail.ru')\n"
     ]
    }
   ],
   "source": [
    "cursor.execute(\n",
    "'''\n",
    "UPDATE customers\n",
    "SET age = 21 \n",
    "WHERE name = 'Liza';\n",
    "'''\n",
    ")\n",
    "connection.commit()\n",
    "\n",
    "cursor.execute(\n",
    "'''\n",
    "SELECT * FROM customers\n",
    "'''\n",
    ")\n",
    "\n",
    "for row in cursor.fetchall():\n",
    "    print(row)"
   ]
  },
  {
   "cell_type": "code",
   "execution_count": 28,
   "metadata": {},
   "outputs": [],
   "source": [
    "connection.close()"
   ]
  },
  {
   "cell_type": "markdown",
   "metadata": {},
   "source": [
    "## Команда DELETE"
   ]
  },
  {
   "cell_type": "markdown",
   "metadata": {},
   "source": [
    "DELETE удаляет строки из таблицы. Как и с UPDATE, нужно аккуратно использовать WHERE, чтобы не удалить все строки.\n",
    "\n",
    "Синтаксис:\n",
    "```SQL\n",
    "DELETE FROM table_name WHERE condition;\n",
    "```\n",
    "Пример использования:\n",
    "```SQL\n",
    "DELETE FROM employees WHERE name = 'Charlie';\n",
    "```\n",
    "Удаление всех строк\n",
    "Чтобы удалить все строки в таблице, можно не указывать условие WHERE (выполняется с осторожностью, так как вся таблица будет очищена):\n",
    "```SQL\n",
    "DELETE FROM employees;\n",
    "```"
   ]
  },
  {
   "cell_type": "markdown",
   "metadata": {},
   "source": [
    "### Практическое задание"
   ]
  },
  {
   "cell_type": "markdown",
   "metadata": {},
   "source": [
    "* Удали одного из клиентов из таблицы customers по имени.\n",
    "* Удали всех клиентов, у которых нет email (используй IS NULL для проверки на NULL)."
   ]
  },
  {
   "cell_type": "code",
   "execution_count": 29,
   "metadata": {},
   "outputs": [],
   "source": [
    "import sqlite3\n",
    "\n",
    "connection = sqlite3.connect('departament.db')\n",
    "cursor = connection.cursor()"
   ]
  },
  {
   "cell_type": "code",
   "execution_count": 31,
   "metadata": {},
   "outputs": [
    {
     "name": "stdout",
     "output_type": "stream",
     "text": [
      "(None, 'Liza', 21, 'liza@mail.ru')\n"
     ]
    }
   ],
   "source": [
    "cursor.execute(\n",
    "'''\n",
    "DELETE FROM customers WHERE name = 'Serj'\n",
    "'''\n",
    ")\n",
    "connection.commit()\n",
    "\n",
    "cursor.execute(\n",
    "'''\n",
    "SELECT * FROM customers\n",
    "'''\n",
    ")\n",
    "\n",
    "for row in cursor.fetchall():\n",
    "    print(row)"
   ]
  },
  {
   "cell_type": "code",
   "execution_count": 32,
   "metadata": {},
   "outputs": [],
   "source": [
    "connection.close()"
   ]
  },
  {
   "cell_type": "markdown",
   "metadata": {},
   "source": [
    "## Команда SELECT "
   ]
  },
  {
   "cell_type": "markdown",
   "metadata": {},
   "source": [
    "SELECT — это основная команда для выборки данных из таблицы. С её помощью можно указать, какие столбцы или данные нас интересуют.\n",
    "\n",
    "Синтаксис:\n",
    "```SQL\n",
    "SELECT column1, column2, ...\n",
    "FROM table_name;\n",
    "```\n",
    "Пример использования:  \n",
    "Предположим, у нас есть таблица employees с данными о сотрудниках.\n",
    "```SQL\n",
    "SELECT name, age FROM employees;\n",
    "```\n",
    "Этот запрос выберет только столбцы name и age из таблицы employees.\n",
    "\n",
    "Специальные команды:\n",
    "* SELECT *: выберет все столбцы таблицы.\n",
    "* AS: позволяет задать псевдонимы для столбцов, чтобы временно изменить их название.\n",
    "```SQL\n",
    "SELECT name AS employee_name, age AS employee_age FROM employees;\n",
    "```"
   ]
  },
  {
   "cell_type": "markdown",
   "metadata": {},
   "source": [
    "### Практическое задание"
   ]
  },
  {
   "cell_type": "markdown",
   "metadata": {},
   "source": [
    "* Создай таблицу products с полями id, name, price, quantity.\n",
    "* Вставь в неё 3-5 товаров.\n",
    "* Напиши запрос, который выберет только имена и цены всех товаров."
   ]
  },
  {
   "cell_type": "code",
   "execution_count": 1,
   "metadata": {},
   "outputs": [
    {
     "name": "stdout",
     "output_type": "stream",
     "text": [
      "('P - A', 123.45)\n",
      "('P - B', 456.78)\n",
      "('P - C', 789.01)\n",
      "('P - D', 123.45)\n",
      "('P - F', 456.78)\n",
      "('P - G', 789.01)\n"
     ]
    }
   ],
   "source": [
    "import sqlite3\n",
    "\n",
    "connection = sqlite3.connect(\"shop.db\")\n",
    "cursor = connection.cursor()\n",
    "\n",
    "cursor.execute('''\n",
    "CREATE TABLE IF NOT EXISTS products (\n",
    "    id INTEGER PRIMARY KEY,\n",
    "    name VARCHAR(50),\n",
    "    price DECIMAL,\n",
    "    quantity INT\n",
    ")               \n",
    "''')\n",
    "\n",
    "cursor.execute('''\n",
    "INSERT INTO products(name, price, quantity) VALUES\n",
    "('P - D', 123.45, 3),\n",
    "('P - F', 456.78, 2),               \n",
    "('P - G', 789.01, 1)               \n",
    "''')\n",
    "\n",
    "connection.commit()\n",
    "\n",
    "cursor.execute('SELECT name, price FROM products')\n",
    "\n",
    "for row in cursor.fetchall():\n",
    "    print(row)\n",
    "    \n",
    "connection.close()"
   ]
  },
  {
   "cell_type": "markdown",
   "metadata": {},
   "source": [
    "## Команда WHERE "
   ]
  },
  {
   "cell_type": "markdown",
   "metadata": {},
   "source": [
    "WHERE позволяет добавлять условия, чтобы выбрать только те строки, которые удовлетворяют определённым критериям.\n",
    "\n",
    "Синтаксис:\n",
    "```SQL\n",
    "SELECT column1, column2, ...\n",
    "FROM table_name\n",
    "WHERE condition;\n",
    "```\n",
    "Пример использования:\n",
    "```SQL\n",
    "SELECT name, price FROM products WHERE price > 50;\n",
    "```\n",
    "Этот запрос выберет только те товары, у которых цена выше 50.\n",
    "\n",
    "Операторы сравнения:\n",
    "* =: равно\n",
    "* <> или !=: не равно\n",
    "* \\>: больше\n",
    "* <: меньше\n",
    "* \\>=: больше или равно\n",
    "* <=: меньше или равно\n",
    "\n",
    "Логические операторы:\n",
    "* AND: объединяет условия (все условия должны быть истинны).\n",
    "* OR: объединяет условия (хотя бы одно условие должно быть истинно).\n",
    "* NOT: используется для отрицания.\n",
    "\n",
    "Пример\n",
    "```SQL\n",
    "SELECT name, price FROM products WHERE price > 50 AND quantity < 100;\n",
    "```"
   ]
  },
  {
   "cell_type": "markdown",
   "metadata": {},
   "source": [
    "### Практическое задание"
   ]
  },
  {
   "cell_type": "markdown",
   "metadata": {},
   "source": [
    "* Добавь условия в запрос, чтобы выбрать только те товары, у которых количество меньше 150 и цена больше 20.\n",
    "* Попробуй написать запрос с использованием OR и NOT."
   ]
  },
  {
   "cell_type": "code",
   "execution_count": 2,
   "metadata": {},
   "outputs": [],
   "source": [
    "import sqlite3\n",
    "\n",
    "connection = sqlite3.connect(\"shop.db\")\n",
    "cursor = connection.cursor()"
   ]
  },
  {
   "cell_type": "code",
   "execution_count": 3,
   "metadata": {},
   "outputs": [
    {
     "name": "stdout",
     "output_type": "stream",
     "text": [
      "('P - A', 123.45)\n",
      "('P - C', 789.01)\n",
      "('P - D', 123.45)\n",
      "('P - G', 789.01)\n"
     ]
    }
   ],
   "source": [
    "cursor.execute('''\n",
    "SELECT name, price FROM products WHERE (price > 100 AND price < 200) or  price = 789.01\n",
    "''')\n",
    "\n",
    "for row in cursor.fetchall():\n",
    "    print(row)"
   ]
  },
  {
   "cell_type": "code",
   "execution_count": 4,
   "metadata": {},
   "outputs": [],
   "source": [
    "connection.close()"
   ]
  },
  {
   "cell_type": "markdown",
   "metadata": {},
   "source": [
    "## Команда ORDER BY"
   ]
  },
  {
   "cell_type": "markdown",
   "metadata": {},
   "source": [
    "ORDER BY используется для сортировки результатов запроса по одному или нескольким столбцам.\n",
    "\n",
    "Синтаксис:\n",
    "```SQL\n",
    "SELECT column1, column2, ...\n",
    "FROM table_name\n",
    "ORDER BY column1 [ASC|DESC], column2 [ASC|DESC];\n",
    "```\n",
    "* ASC: сортировка по возрастанию (по умолчанию).\n",
    "* DESC: сортировка по убыванию.\n",
    "Пример\n",
    "```SQL\n",
    "SELECT name, price FROM products ORDER BY price DESC;\n",
    "```\n",
    "Этот запрос вернёт товары, отсортированные по цене в порядке убывания.\n",
    "\n",
    "Пример по нескольким столбцам\n",
    "```SQL\n",
    "SELECT name, price, quantity FROM products ORDER BY price DESC, quantity ASC;\n",
    "```\n"
   ]
  },
  {
   "cell_type": "markdown",
   "metadata": {},
   "source": [
    "### Практическое задание"
   ]
  },
  {
   "cell_type": "markdown",
   "metadata": {},
   "source": [
    "* Напиши запрос, который выберет все товары и отсортирует их по количеству по возрастанию.\n",
    "* Попробуй добавить несколько условий в ORDER BY, например, сортировать сначала по цене, затем по названию товара в алфавитном порядке."
   ]
  },
  {
   "cell_type": "code",
   "execution_count": 5,
   "metadata": {},
   "outputs": [],
   "source": [
    "import sqlite3\n",
    "\n",
    "connection = sqlite3.connect('shop.db')\n",
    "cursor = connection.cursor()"
   ]
  },
  {
   "cell_type": "code",
   "execution_count": 7,
   "metadata": {},
   "outputs": [
    {
     "name": "stdout",
     "output_type": "stream",
     "text": [
      "(3, 'P - C', 789.01, 1)\n",
      "(6, 'P - G', 789.01, 1)\n",
      "(2, 'P - B', 456.78, 2)\n",
      "(5, 'P - F', 456.78, 2)\n",
      "(1, 'P - A', 123.45, 3)\n",
      "(4, 'P - D', 123.45, 3)\n"
     ]
    }
   ],
   "source": [
    "cursor.execute(\n",
    "'''\n",
    "SELECT * FROM products ORDER BY quantity      \n",
    "'''\n",
    ")\n",
    "\n",
    "for row in cursor.fetchall():\n",
    "    print(row)"
   ]
  },
  {
   "cell_type": "code",
   "execution_count": 9,
   "metadata": {},
   "outputs": [
    {
     "name": "stdout",
     "output_type": "stream",
     "text": [
      "(1, 'P - A', 123.45, 3)\n",
      "(4, 'P - D', 123.45, 3)\n",
      "(2, 'P - B', 456.78, 2)\n",
      "(5, 'P - F', 456.78, 2)\n",
      "(3, 'P - C', 789.01, 1)\n",
      "(6, 'P - G', 789.01, 1)\n"
     ]
    }
   ],
   "source": [
    "cursor.execute(\n",
    "'''\n",
    "SELECT * FROM products ORDER BY price, name;    \n",
    "'''\n",
    ")\n",
    "\n",
    "for row in cursor.fetchall():\n",
    "    print(row)"
   ]
  },
  {
   "cell_type": "code",
   "execution_count": 10,
   "metadata": {},
   "outputs": [],
   "source": [
    "connection.close()"
   ]
  }
 ],
 "metadata": {
  "kernelspec": {
   "display_name": "Python 3",
   "language": "python",
   "name": "python3"
  },
  "language_info": {
   "codemirror_mode": {
    "name": "ipython",
    "version": 3
   },
   "file_extension": ".py",
   "mimetype": "text/x-python",
   "name": "python",
   "nbconvert_exporter": "python",
   "pygments_lexer": "ipython3",
   "version": "3.12.6"
  }
 },
 "nbformat": 4,
 "nbformat_minor": 2
}
