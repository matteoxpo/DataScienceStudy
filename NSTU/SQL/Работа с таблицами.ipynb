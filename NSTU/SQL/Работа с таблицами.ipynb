{
 "cells": [
  {
   "cell_type": "markdown",
   "metadata": {},
   "source": [
    "# Работа с таблицами"
   ]
  },
  {
   "cell_type": "markdown",
   "metadata": {},
   "source": [
    "## Команда CREATE TABLE"
   ]
  },
  {
   "cell_type": "markdown",
   "metadata": {},
   "source": [
    "CREATE TABLE создаёт новую таблицу с указанными столбцами и типами данных. При создании таблицы можно также задать ограничения, например, PRIMARY KEY или FOREIGN KEY.\n",
    "\n",
    "Синтаксис:\n",
    "```SQL\n",
    "CREATE TABLE table_name (\n",
    "    column1 datatype constraint,\n",
    "    column2 datatype constraint,\n",
    "    ...\n",
    ");\n",
    "```\n",
    "Пример использования\n",
    "```SQL\n",
    "CREATE TABLE employees (\n",
    "    id INTEGER PRIMARY KEY,\n",
    "    name VARCHAR(100),\n",
    "    age INTEGER,\n",
    "    department_id INTEGER\n",
    ");\n",
    "```\n",
    "* id — первичный ключ (PRIMARY KEY), который идентифицирует каждую запись.\n",
    "* department_id — внешний ключ, который может ссылаться на таблицу departments."
   ]
  },
  {
   "cell_type": "markdown",
   "metadata": {},
   "source": [
    "### Практическое задание"
   ]
  },
  {
   "cell_type": "markdown",
   "metadata": {},
   "source": [
    "* Создай таблицу departments с полями id (целое число, первичный ключ) и department_name (строка).\n",
    "* Добавь несколько отделов."
   ]
  },
  {
   "cell_type": "code",
   "execution_count": 2,
   "metadata": {},
   "outputs": [],
   "source": [
    "import sqlite3\n",
    "\n",
    "connection = sqlite3.connect('departament.db')\n",
    "cursor = connection.cursor()"
   ]
  },
  {
   "cell_type": "code",
   "execution_count": null,
   "metadata": {},
   "outputs": [],
   "source": [
    "cursor.execute( \n",
    "'''\n",
    "CREATE TABLE departament (\n",
    "    id INTEGER PRIMARY KEY,\n",
    "    departament_name VARCHAR(50),\n",
    ")\n",
    "\n",
    "\n",
    "INSERT INTO departament(departament_name)\n",
    "'''               \n",
    ")"
   ]
  },
  {
   "cell_type": "code",
   "execution_count": 3,
   "metadata": {},
   "outputs": [],
   "source": [
    "connection.close()"
   ]
  }
 ],
 "metadata": {
  "kernelspec": {
   "display_name": "Python 3",
   "language": "python",
   "name": "python3"
  },
  "language_info": {
   "codemirror_mode": {
    "name": "ipython",
    "version": 3
   },
   "file_extension": ".py",
   "mimetype": "text/x-python",
   "name": "python",
   "nbconvert_exporter": "python",
   "pygments_lexer": "ipython3",
   "version": "3.12.6"
  }
 },
 "nbformat": 4,
 "nbformat_minor": 2
}
