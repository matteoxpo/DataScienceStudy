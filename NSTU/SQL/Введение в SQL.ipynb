{
 "cells": [
  {
   "cell_type": "markdown",
   "metadata": {},
   "source": [
    "# Введение в SQL и его связь с Python\n"
   ]
  },
  {
   "cell_type": "markdown",
   "metadata": {},
   "source": [
    "SQL (Structured Query Language) — это стандартный язык для управления реляционными базами данных. С его помощью можно выполнять такие операции, как выборка, вставка, обновление и удаление данных.\n",
    "\n",
    "## Основные базы данных\n",
    "Существует множество реляционных баз данных, но наиболее распространенные:\n",
    "\n",
    "* MySQL: Одна из самых популярных СУБД, часто используется для веб-приложений.\n",
    "* PostgreSQL: Обеспечивает более сложные функции, такие как работа с JSON и расширяемые типы данных.\n",
    "* SQLite: Легкая, встроенная база данных, часто используется для разработки и тестирования.\n",
    "\n",
    "Как Python работает с SQL\n",
    "Python может взаимодействовать с базами данных с помощью различных библиотек. Вот некоторые из них:\n",
    "\n",
    "* sqlite3: Стандартная библиотека для работы с SQLite.\n",
    "* SQLAlchemy: ORM (Object-Relational Mapping) библиотека для работы с различными СУБД.\n",
    "* pandas: Позволяет загружать данные из SQL в DataFrame для анализа."
   ]
  },
  {
   "cell_type": "code",
   "execution_count": 1,
   "metadata": {},
   "outputs": [],
   "source": [
    "import sqlite3\n",
    "\n",
    "connection = sqlite3.connect('example.db')\n",
    "cursor = connection.cursor()\n",
    "\n",
    "cursor.execute('''\n",
    "CREATE TABLE IF NOT EXISTS users (\n",
    "    id INTEGER PRIMARY KEY,\n",
    "    name TEXT,\n",
    "    age INTEGER\n",
    ")\n",
    "''')\n",
    "\n",
    "cursor.execute('''\n",
    "INSERT INTO users (name, age) VALUES\n",
    "('Alice', 30),\n",
    "('Bob', 25)\n",
    "''')\n",
    "\n",
    "connection.commit()\n",
    "connection.close()"
   ]
  },
  {
   "cell_type": "markdown",
   "metadata": {},
   "source": [
    "## Основные типы данных в SQL"
   ]
  },
  {
   "cell_type": "markdown",
   "metadata": {},
   "source": [
    "### Числовые типы данных\n",
    "INT (или INTEGER): Целочисленные значения. Пример: 1, 42, -10.  \n",
    "FLOAT: Числа с плавающей запятой. Пример: 3.14, -0.001.  \n",
    "DOUBLE: Двойная точность для чисел с плавающей запятой. Обычно используется для хранения более точных значений.  \n",
    "DECIMAL (или NUMERIC): Числа с фиксированной точкой, подходящие для финансовых расчетов. Например, DECIMAL(10, 2) может хранить значения до 10 цифр, из которых 2 находятся после запятой (например, 12345678.90).  \n",
    "\n",
    "### Строковые типы данных\n",
    "CHAR(n): Строка фиксированной длины. Если строка короче указанного размера, она будет дополнена пробелами. Пример: CHAR(5) может хранить \"abc \".  \n",
    "VARCHAR(n): Строка переменной длины. Может хранить до n символов, не добавляя пробелы. Пример: VARCHAR(50) может хранить \"Hello World\".  \n",
    "TEXT: Длинные строки, используемые для хранения текстовых данных. Не имеет фиксированного размера, но может занимать много места.  \n",
    "\n",
    "### Типы данных для даты и времени\n",
    "DATE: Хранит даты. Пример: 2024-10-29.  \n",
    "TIME: Хранит время (часы, минуты, секунды). Пример: 14:30:00.  \n",
    "DATETIME: Хранит как дату, так и время. Пример: 2024-10-29 14:30:00.  \n",
    "TIMESTAMP: Сохраняет момент времени в формате UNIX (количество секунд с 1 января 1970 года).  \n",
    "\n",
    "### Логические типы данных\n",
    "BOOLEAN: Хранит логические значения TRUE или FALSE. Некоторые базы данных используют TINYINT (0 или 1) вместо этого.  \n",
    "\n",
    "### Специальные типы данных\n",
    "BLOB: Используется для хранения двоичных данных, таких как изображения или файлы.  \n",
    "JSON: В некоторых базах данных (например, PostgreSQL) поддерживается тип данных для хранения JSON-объектов.  "
   ]
  },
  {
   "cell_type": "markdown",
   "metadata": {},
   "source": [
    "```SQL\n",
    "CREATE TABLE employees (\n",
    "    id INT PRIMARY KEY,\n",
    "    name VARCHAR(50),\n",
    "    salary DECIMAL(10, 2),\n",
    "    hire_date DATE,\n",
    "    is_active BOOLEAN\n",
    ");\n",
    "```"
   ]
  },
  {
   "cell_type": "markdown",
   "metadata": {},
   "source": [
    "# Практическое задание"
   ]
  },
  {
   "cell_type": "markdown",
   "metadata": {},
   "source": [
    "<li>Создай простую базу данных с помощью библиотеки sqlite3 в Python.\n",
    "<li>Создай таблицу products с полями id, name, price и quantity.\n",
    "<li>Вставь несколько строк в таблицу products (например, 3-5 продуктов).\n",
    "<li>Выведи содержимое таблицы products.\n"
   ]
  },
  {
   "cell_type": "code",
   "execution_count": 4,
   "metadata": {},
   "outputs": [
    {
     "data": {
      "text/plain": [
       "<sqlite3.Cursor at 0x1e431396040>"
      ]
     },
     "execution_count": 4,
     "metadata": {},
     "output_type": "execute_result"
    }
   ],
   "source": [
    "import sqlite3\n",
    "\n",
    "connection = sqlite3.connect(\"shop.db\")\n",
    "cursor = connection.cursor()\n",
    "\n",
    "cursor.execute('''\n",
    "CREATE TABLE IF NOT EXISTS products (\n",
    "    id INTEGER PRIMARY KEY,\n",
    "    name VARCHAR(50),\n",
    "    price DECIMAL,\n",
    "    quantity INT\n",
    ")               \n",
    "''')"
   ]
  },
  {
   "cell_type": "code",
   "execution_count": 5,
   "metadata": {},
   "outputs": [],
   "source": [
    "cursor.execute('''\n",
    "INSERT INTO products(name, price, quantity) VALUES\n",
    "('P - A', 123.45, 3),\n",
    "('P - B', 456.78, 2),               \n",
    "('P - C', 789.01, 1)               \n",
    "''')\n",
    "\n",
    "connection.commit()"
   ]
  },
  {
   "cell_type": "code",
   "execution_count": 6,
   "metadata": {},
   "outputs": [
    {
     "name": "stdout",
     "output_type": "stream",
     "text": [
      "(1, 'P - A', 123.45, 3)\n",
      "(2, 'P - B', 456.78, 2)\n",
      "(3, 'P - C', 789.01, 1)\n"
     ]
    }
   ],
   "source": [
    "\n",
    "cursor.execute('SELECT * FROM products')\n",
    "\n",
    "for row in cursor.fetchall():\n",
    "    print(row)\n",
    "    \n",
    "connection.close()"
   ]
  }
 ],
 "metadata": {
  "kernelspec": {
   "display_name": "Python 3",
   "language": "python",
   "name": "python3"
  },
  "language_info": {
   "codemirror_mode": {
    "name": "ipython",
    "version": 3
   },
   "file_extension": ".py",
   "mimetype": "text/x-python",
   "name": "python",
   "nbconvert_exporter": "python",
   "pygments_lexer": "ipython3",
   "version": "3.12.6"
  }
 },
 "nbformat": 4,
 "nbformat_minor": 2
}
