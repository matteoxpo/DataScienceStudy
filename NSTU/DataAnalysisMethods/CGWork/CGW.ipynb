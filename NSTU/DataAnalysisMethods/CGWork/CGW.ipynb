{
 "cells": [
  {
   "cell_type": "markdown",
   "metadata": {},
   "source": [
    "# Вводные"
   ]
  },
  {
   "cell_type": "markdown",
   "metadata": {},
   "source": [
    "## Цель работы"
   ]
  },
  {
   "cell_type": "markdown",
   "metadata": {},
   "source": [
    "изучение методов кластеризации"
   ]
  },
  {
   "cell_type": "markdown",
   "metadata": {},
   "source": [
    "## Задание "
   ]
  },
  {
   "cell_type": "markdown",
   "metadata": {},
   "source": [
    "1. Выбрать массив данных (рекомендуются базы по ссылкам No 3-4 из \n",
    "списка  литературы),  описать  параметры.  Примечание:  тип  задачи \n",
    "«классификация», «кластеризация». \n",
    "2. Провести  дескриптивный  анализ,  оценить  близость  выборок  к \n",
    "нормальной.  В  соответствии  с  результатами  обосновать  выбор \n",
    "методов кластеризации. \n",
    "3. Стандартизировать переменные. \n",
    "4. Изучить  пример  решения  задачи  кластеризации  (ссылка  No2  из \n",
    "списка литературы). \n",
    "5. Построить  диаграммы  рассеивания  (составные  диаграммы \n",
    "рассеивания,  категоризованные  диаграммы  рассеяния)  по \n",
    "выбранным  переменным.  Интерпретировать  результаты,  оценить \n",
    "возможное количество кластеров. \n",
    "6. Решить  задачу  кластеризации  двумя  методами  (k-средних, \n",
    "иерархический, EM, DBSCAN, карта Кохонена и др). \n",
    "7. Оценить  качество  построенных  моделей  (в  т.ч.  расстояние  между \n",
    "кластерами, внутрикластерные расстояния, компактность кластеров, \n",
    "центры кластеров и т.д.). \n",
    "8. Провести сравнительный анализ решений. \n",
    "9. Исследовать  влияние  параметров  одного  из  методов  на  качество \n",
    "решения, оценить полученные результаты. \n",
    "10. Интерпретировать результаты. \n",
    "11. Оформить отчет. \n",
    " \n",
    "Содержание отчета \n",
    "1. Титульный лист. \n",
    "2. Цель работы. \n",
    "3. Описание исходных данных. \n",
    "4. Результаты дескриптивного анализа. \n",
    "5. Диаграммы рассеивания. \n",
    "6. Интерпретация результатов (количество кластеров). \n",
    "7. Обоснование выбора методов кластеризации. \n",
    "8. Параметры выбранных методов. \n",
    "9. Оценка адекватности полученных решений. \n",
    "10. Сравнительный анализ решений и интерпретация результатов. \n",
    "11. Результаты  исследования  влияния  параметров  алгоритма  на \n",
    "качество решения.  \n"
   ]
  },
  {
   "cell_type": "markdown",
   "metadata": {},
   "source": [
    "# Основная часть"
   ]
  },
  {
   "cell_type": "code",
   "execution_count": 35,
   "metadata": {},
   "outputs": [],
   "source": [
    "import pandas as pd\n",
    "from sklearn.preprocessing import StandardScaler\n",
    "from scipy.stats import kurtosis, skew\n",
    "import matplotlib.pyplot as plt\n",
    "import seaborn as sns\n"
   ]
  },
  {
   "cell_type": "markdown",
   "metadata": {},
   "source": [
    "## Описание исходных данных"
   ]
  },
  {
   "cell_type": "markdown",
   "metadata": {},
   "source": [
    "Датасет представляет из себя набор данных об учащихся:\n",
    "1. Id - уникальный номер учащегося (строка)\n",
    "2. Exam -тип экзамена (категориальная переменная)\n",
    "3. Score - набранный балл (число)\n",
    "4. Advanced - обучался ли в специализированном классе (категория)"
   ]
  },
  {
   "cell_type": "code",
   "execution_count": 36,
   "metadata": {},
   "outputs": [
    {
     "data": {
      "text/html": [
       "<div>\n",
       "<style scoped>\n",
       "    .dataframe tbody tr th:only-of-type {\n",
       "        vertical-align: middle;\n",
       "    }\n",
       "\n",
       "    .dataframe tbody tr th {\n",
       "        vertical-align: top;\n",
       "    }\n",
       "\n",
       "    .dataframe thead th {\n",
       "        text-align: right;\n",
       "    }\n",
       "</style>\n",
       "<table border=\"1\" class=\"dataframe\">\n",
       "  <thead>\n",
       "    <tr style=\"text-align: right;\">\n",
       "      <th></th>\n",
       "      <th>Id</th>\n",
       "      <th>Exam</th>\n",
       "      <th>Score</th>\n",
       "      <th>Advanced</th>\n",
       "    </tr>\n",
       "  </thead>\n",
       "  <tbody>\n",
       "    <tr>\n",
       "      <th>0</th>\n",
       "      <td>ID1</td>\n",
       "      <td>TOEFL</td>\n",
       "      <td>77.0</td>\n",
       "      <td>NO</td>\n",
       "    </tr>\n",
       "    <tr>\n",
       "      <th>1</th>\n",
       "      <td>ID10</td>\n",
       "      <td>TOEFL</td>\n",
       "      <td>105.0</td>\n",
       "      <td>NO</td>\n",
       "    </tr>\n",
       "    <tr>\n",
       "      <th>2</th>\n",
       "      <td>ID100</td>\n",
       "      <td>TOEFL</td>\n",
       "      <td>107.0</td>\n",
       "      <td>YES</td>\n",
       "    </tr>\n",
       "    <tr>\n",
       "      <th>3</th>\n",
       "      <td>ID101</td>\n",
       "      <td>TOEFL</td>\n",
       "      <td>72.0</td>\n",
       "      <td>NO</td>\n",
       "    </tr>\n",
       "    <tr>\n",
       "      <th>4</th>\n",
       "      <td>ID102</td>\n",
       "      <td>TOEFL</td>\n",
       "      <td>120.0</td>\n",
       "      <td>YES</td>\n",
       "    </tr>\n",
       "  </tbody>\n",
       "</table>\n",
       "</div>"
      ],
      "text/plain": [
       "      Id   Exam  Score Advanced\n",
       "0    ID1  TOEFL   77.0       NO\n",
       "1   ID10  TOEFL  105.0       NO\n",
       "2  ID100  TOEFL  107.0      YES\n",
       "3  ID101  TOEFL   72.0       NO\n",
       "4  ID102  TOEFL  120.0      YES"
      ]
     },
     "execution_count": 36,
     "metadata": {},
     "output_type": "execute_result"
    }
   ],
   "source": [
    "eng = pd.read_csv('eng_test.csv', sep=';')\n",
    "eng.head()"
   ]
  },
  {
   "cell_type": "code",
   "execution_count": 37,
   "metadata": {},
   "outputs": [
    {
     "data": {
      "text/plain": [
       "274"
      ]
     },
     "execution_count": 37,
     "metadata": {},
     "output_type": "execute_result"
    }
   ],
   "source": [
    "len(eng)"
   ]
  },
  {
   "cell_type": "markdown",
   "metadata": {},
   "source": [
    "### Препроцессинг"
   ]
  },
  {
   "cell_type": "markdown",
   "metadata": {},
   "source": [
    "Id не несет в себе уникальной информации и представляет из себя некоторый порядковый номер. Обезличим данные."
   ]
  },
  {
   "cell_type": "code",
   "execution_count": 38,
   "metadata": {},
   "outputs": [
    {
     "name": "stdout",
     "output_type": "stream",
     "text": [
      "True\n"
     ]
    },
    {
     "data": {
      "text/html": [
       "<div>\n",
       "<style scoped>\n",
       "    .dataframe tbody tr th:only-of-type {\n",
       "        vertical-align: middle;\n",
       "    }\n",
       "\n",
       "    .dataframe tbody tr th {\n",
       "        vertical-align: top;\n",
       "    }\n",
       "\n",
       "    .dataframe thead th {\n",
       "        text-align: right;\n",
       "    }\n",
       "</style>\n",
       "<table border=\"1\" class=\"dataframe\">\n",
       "  <thead>\n",
       "    <tr style=\"text-align: right;\">\n",
       "      <th></th>\n",
       "      <th>Exam</th>\n",
       "      <th>Score</th>\n",
       "      <th>Advanced</th>\n",
       "    </tr>\n",
       "  </thead>\n",
       "  <tbody>\n",
       "    <tr>\n",
       "      <th>0</th>\n",
       "      <td>TOEFL</td>\n",
       "      <td>77.0</td>\n",
       "      <td>NO</td>\n",
       "    </tr>\n",
       "    <tr>\n",
       "      <th>1</th>\n",
       "      <td>TOEFL</td>\n",
       "      <td>105.0</td>\n",
       "      <td>NO</td>\n",
       "    </tr>\n",
       "    <tr>\n",
       "      <th>2</th>\n",
       "      <td>TOEFL</td>\n",
       "      <td>107.0</td>\n",
       "      <td>YES</td>\n",
       "    </tr>\n",
       "    <tr>\n",
       "      <th>3</th>\n",
       "      <td>TOEFL</td>\n",
       "      <td>72.0</td>\n",
       "      <td>NO</td>\n",
       "    </tr>\n",
       "    <tr>\n",
       "      <th>4</th>\n",
       "      <td>TOEFL</td>\n",
       "      <td>120.0</td>\n",
       "      <td>YES</td>\n",
       "    </tr>\n",
       "  </tbody>\n",
       "</table>\n",
       "</div>"
      ],
      "text/plain": [
       "    Exam  Score Advanced\n",
       "0  TOEFL   77.0       NO\n",
       "1  TOEFL  105.0       NO\n",
       "2  TOEFL  107.0      YES\n",
       "3  TOEFL   72.0       NO\n",
       "4  TOEFL  120.0      YES"
      ]
     },
     "execution_count": 38,
     "metadata": {},
     "output_type": "execute_result"
    }
   ],
   "source": [
    "print(len(eng['Id'].unique()) == len(eng))\n",
    "\n",
    "eng = eng.drop(columns='Id')\n",
    "eng.head()"
   ]
  },
  {
   "cell_type": "markdown",
   "metadata": {},
   "source": [
    "Стадартизируем переменную Score"
   ]
  },
  {
   "cell_type": "code",
   "execution_count": 39,
   "metadata": {},
   "outputs": [
    {
     "data": {
      "text/html": [
       "<div>\n",
       "<style scoped>\n",
       "    .dataframe tbody tr th:only-of-type {\n",
       "        vertical-align: middle;\n",
       "    }\n",
       "\n",
       "    .dataframe tbody tr th {\n",
       "        vertical-align: top;\n",
       "    }\n",
       "\n",
       "    .dataframe thead th {\n",
       "        text-align: right;\n",
       "    }\n",
       "</style>\n",
       "<table border=\"1\" class=\"dataframe\">\n",
       "  <thead>\n",
       "    <tr style=\"text-align: right;\">\n",
       "      <th></th>\n",
       "      <th>Exam</th>\n",
       "      <th>Score</th>\n",
       "      <th>Advanced</th>\n",
       "    </tr>\n",
       "  </thead>\n",
       "  <tbody>\n",
       "    <tr>\n",
       "      <th>0</th>\n",
       "      <td>TOEFL</td>\n",
       "      <td>0.680342</td>\n",
       "      <td>NO</td>\n",
       "    </tr>\n",
       "    <tr>\n",
       "      <th>1</th>\n",
       "      <td>TOEFL</td>\n",
       "      <td>1.300429</td>\n",
       "      <td>NO</td>\n",
       "    </tr>\n",
       "    <tr>\n",
       "      <th>2</th>\n",
       "      <td>TOEFL</td>\n",
       "      <td>1.344721</td>\n",
       "      <td>YES</td>\n",
       "    </tr>\n",
       "    <tr>\n",
       "      <th>3</th>\n",
       "      <td>TOEFL</td>\n",
       "      <td>0.569612</td>\n",
       "      <td>NO</td>\n",
       "    </tr>\n",
       "    <tr>\n",
       "      <th>4</th>\n",
       "      <td>TOEFL</td>\n",
       "      <td>1.632618</td>\n",
       "      <td>YES</td>\n",
       "    </tr>\n",
       "  </tbody>\n",
       "</table>\n",
       "</div>"
      ],
      "text/plain": [
       "    Exam     Score Advanced\n",
       "0  TOEFL  0.680342       NO\n",
       "1  TOEFL  1.300429       NO\n",
       "2  TOEFL  1.344721      YES\n",
       "3  TOEFL  0.569612       NO\n",
       "4  TOEFL  1.632618      YES"
      ]
     },
     "execution_count": 39,
     "metadata": {},
     "output_type": "execute_result"
    }
   ],
   "source": [
    "eng['Score'] = pd.DataFrame(StandardScaler().fit_transform(eng[['Score']]))\n",
    "\n",
    "eng.head()"
   ]
  },
  {
   "cell_type": "code",
   "execution_count": 40,
   "metadata": {},
   "outputs": [
    {
     "data": {
      "text/plain": [
       "0.0"
      ]
     },
     "execution_count": 40,
     "metadata": {},
     "output_type": "execute_result"
    }
   ],
   "source": [
    "eng['Score'].mean()"
   ]
  },
  {
   "cell_type": "markdown",
   "metadata": {},
   "source": [
    "## Дискрептивный анализ"
   ]
  },
  {
   "cell_type": "code",
   "execution_count": 41,
   "metadata": {},
   "outputs": [
    {
     "data": {
      "text/html": [
       "<div>\n",
       "<style scoped>\n",
       "    .dataframe tbody tr th:only-of-type {\n",
       "        vertical-align: middle;\n",
       "    }\n",
       "\n",
       "    .dataframe tbody tr th {\n",
       "        vertical-align: top;\n",
       "    }\n",
       "\n",
       "    .dataframe thead th {\n",
       "        text-align: right;\n",
       "    }\n",
       "</style>\n",
       "<table border=\"1\" class=\"dataframe\">\n",
       "  <thead>\n",
       "    <tr style=\"text-align: right;\">\n",
       "      <th></th>\n",
       "      <th>Exam</th>\n",
       "      <th>Score</th>\n",
       "      <th>Advanced</th>\n",
       "    </tr>\n",
       "  </thead>\n",
       "  <tbody>\n",
       "    <tr>\n",
       "      <th>0</th>\n",
       "      <td>TOEFL</td>\n",
       "      <td>0.680342</td>\n",
       "      <td>NO</td>\n",
       "    </tr>\n",
       "    <tr>\n",
       "      <th>1</th>\n",
       "      <td>TOEFL</td>\n",
       "      <td>1.300429</td>\n",
       "      <td>NO</td>\n",
       "    </tr>\n",
       "    <tr>\n",
       "      <th>2</th>\n",
       "      <td>TOEFL</td>\n",
       "      <td>1.344721</td>\n",
       "      <td>YES</td>\n",
       "    </tr>\n",
       "    <tr>\n",
       "      <th>3</th>\n",
       "      <td>TOEFL</td>\n",
       "      <td>0.569612</td>\n",
       "      <td>NO</td>\n",
       "    </tr>\n",
       "    <tr>\n",
       "      <th>4</th>\n",
       "      <td>TOEFL</td>\n",
       "      <td>1.632618</td>\n",
       "      <td>YES</td>\n",
       "    </tr>\n",
       "  </tbody>\n",
       "</table>\n",
       "</div>"
      ],
      "text/plain": [
       "    Exam     Score Advanced\n",
       "0  TOEFL  0.680342       NO\n",
       "1  TOEFL  1.300429       NO\n",
       "2  TOEFL  1.344721      YES\n",
       "3  TOEFL  0.569612       NO\n",
       "4  TOEFL  1.632618      YES"
      ]
     },
     "execution_count": 41,
     "metadata": {},
     "output_type": "execute_result"
    }
   ],
   "source": [
    "eng.head()"
   ]
  },
  {
   "cell_type": "markdown",
   "metadata": {},
   "source": [
    "##"
   ]
  },
  {
   "cell_type": "markdown",
   "metadata": {},
   "source": [
    "Основные метрики"
   ]
  },
  {
   "cell_type": "code",
   "execution_count": 46,
   "metadata": {},
   "outputs": [
    {
     "data": {
      "text/html": [
       "<div>\n",
       "<style scoped>\n",
       "    .dataframe tbody tr th:only-of-type {\n",
       "        vertical-align: middle;\n",
       "    }\n",
       "\n",
       "    .dataframe tbody tr th {\n",
       "        vertical-align: top;\n",
       "    }\n",
       "\n",
       "    .dataframe thead th {\n",
       "        text-align: right;\n",
       "    }\n",
       "</style>\n",
       "<table border=\"1\" class=\"dataframe\">\n",
       "  <thead>\n",
       "    <tr style=\"text-align: right;\">\n",
       "      <th></th>\n",
       "      <th>Метрика</th>\n",
       "      <th>Значение</th>\n",
       "    </tr>\n",
       "  </thead>\n",
       "  <tbody>\n",
       "    <tr>\n",
       "      <th>0</th>\n",
       "      <td>Среднее</td>\n",
       "      <td>0.000000</td>\n",
       "    </tr>\n",
       "    <tr>\n",
       "      <th>1</th>\n",
       "      <td>Максимальное</td>\n",
       "      <td>1.632618</td>\n",
       "    </tr>\n",
       "    <tr>\n",
       "      <th>2</th>\n",
       "      <td>Минимальное</td>\n",
       "      <td>-0.936313</td>\n",
       "    </tr>\n",
       "    <tr>\n",
       "      <th>3</th>\n",
       "      <td>Медиана</td>\n",
       "      <td>-0.831120</td>\n",
       "    </tr>\n",
       "    <tr>\n",
       "      <th>4</th>\n",
       "      <td>Стандартное отклонение</td>\n",
       "      <td>1.001830</td>\n",
       "    </tr>\n",
       "    <tr>\n",
       "      <th>5</th>\n",
       "      <td>Дисперсия</td>\n",
       "      <td>1.003663</td>\n",
       "    </tr>\n",
       "    <tr>\n",
       "      <th>6</th>\n",
       "      <td>Эксцесс</td>\n",
       "      <td>-1.688155</td>\n",
       "    </tr>\n",
       "    <tr>\n",
       "      <th>7</th>\n",
       "      <td>Асимметрия</td>\n",
       "      <td>0.355642</td>\n",
       "    </tr>\n",
       "    <tr>\n",
       "      <th>8</th>\n",
       "      <td>25-й процентиль (Q1)</td>\n",
       "      <td>-0.880949</td>\n",
       "    </tr>\n",
       "    <tr>\n",
       "      <th>9</th>\n",
       "      <td>75-й процентиль (Q3)</td>\n",
       "      <td>0.990385</td>\n",
       "    </tr>\n",
       "  </tbody>\n",
       "</table>\n",
       "</div>"
      ],
      "text/plain": [
       "                  Метрика  Значение\n",
       "0                 Среднее  0.000000\n",
       "1            Максимальное  1.632618\n",
       "2             Минимальное -0.936313\n",
       "3                 Медиана -0.831120\n",
       "4  Стандартное отклонение  1.001830\n",
       "5               Дисперсия  1.003663\n",
       "6                 Эксцесс -1.688155\n",
       "7              Асимметрия  0.355642\n",
       "8    25-й процентиль (Q1) -0.880949\n",
       "9    75-й процентиль (Q3)  0.990385"
      ]
     },
     "execution_count": 46,
     "metadata": {},
     "output_type": "execute_result"
    }
   ],
   "source": [
    "mean_score = eng['Score'].mean()\n",
    "median_score = eng['Score'].median()\n",
    "max_score = eng['Score'].max()\n",
    "min_score = eng['Score'].min()\n",
    "std_dev_score = eng['Score'].std()\n",
    "var_score = eng['Score'].var()\n",
    "kurtosis_score = kurtosis(eng['Score'], fisher=True)\n",
    "skewness_score = skew(eng['Score'])\n",
    "q1_score = eng['Score'].quantile(0.25)\n",
    "q3_score = eng['Score'].quantile(0.75)\n",
    "\n",
    "descriptive_stats = pd.DataFrame({\n",
    "    \"Метрика\": [\"Среднее\", \"Максимальное\",\"Минимальное\", \"Медиана\", \"Стандартное отклонение\", \"Дисперсия\", \n",
    "                \"Эксцесс\", \"Асимметрия\", \"25-й процентиль (Q1)\", \"75-й процентиль (Q3)\"],\n",
    "    \"Значение\": [mean_score,max_score, min_score, median_score, std_dev_score, var_score, \n",
    "                 kurtosis_score, skewness_score, q1_score, q3_score]\n",
    "})\n",
    "\n",
    "descriptive_stats\n"
   ]
  },
  {
   "cell_type": "markdown",
   "metadata": {},
   "source": [
    "Визуализация квантилей"
   ]
  },
  {
   "cell_type": "code",
   "execution_count": null,
   "metadata": {},
   "outputs": [
    {
     "data": {
      "image/png": "[encoded data removed]",
      "text/plain": [
       "<Figure size 640x480 with 1 Axes>"
      ]
     },
     "metadata": {},
     "output_type": "display_data"
    }
   ],
   "source": [
    "sns.histplot(eng['Score'], kde=True, color='blue')\n",
    "plt.axvline(x=q1_score, color='red', linestyle='--', label='25-й процентиль (Q1)')\n",
    "plt.axvline(x=median_score, color='green', linestyle='--', label='Медиана')\n",
    "plt.axvline(x=q3_score, color='orange', linestyle='--', label='75-й процентиль (Q3)')\n",
    "plt.title('Гистограмма с квартилями')\n",
    "plt.legend()\n",
    "plt.show()\n"
   ]
  },
  {
   "cell_type": "code",
   "execution_count": null,
   "metadata": {},
   "outputs": [
    {
     "data": {
      "image/png": "[encoded data removed]",
      "text/plain": [
       "<Figure size 640x480 with 1 Axes>"
      ]
     },
     "metadata": {},
     "output_type": "display_data"
    },
    {
     "name": "stdout",
     "output_type": "stream",
     "text": [
      "Шапиро-Уилк: Stat=0.7577879647638587, p=8.666383413870224e-20\n",
      "Данные не соответствуют нормальному распределению\n",
      "Андерсон-Дарлинг:\n",
      "AndersonResult(statistic=30.415716974200052, critical_values=array([0.568, 0.647, 0.776, 0.905, 1.077]), significance_level=array([15. , 10. ,  5. ,  2.5,  1. ]), fit_result=  params: FitParams(loc=0.0, scale=1.0018298276968018)\n",
      " success: True\n",
      " message: '`anderson` successfully fit the distribution to the data.')\n",
      "Данные не соответствуют нормальному распределению\n"
     ]
    }
   ],
   "source": [
    "import matplotlib.pyplot as plt\n",
    "import seaborn as sns\n",
    "from scipy.stats import shapiro, normaltest, anderson\n",
    "\n",
    "# Визуализация распределения\n",
    "sns.histplot(eng['Score'], kde=True)\n",
    "plt.title(\"Гистограмма и KDE для Score\")\n",
    "plt.show()\n",
    "\n",
    "# Тест Шапиро-Уилка\n",
    "stat, p = shapiro(eng['Score'])\n",
    "print(f\"Шапиро-Уилк: Stat={stat}, p={p}\")\n",
    "if p > 0.05:\n",
    "    print(\"Данные похожи на нормальное распределение\")\n",
    "else:\n",
    "    print(\"Данные не соответствуют нормальному распределению\")\n",
    "\n",
    "# Дополнительный тест: Андерсона-Дарлинга\n",
    "result = anderson(eng['Score'])\n",
    "print(\"Андерсон-Дарлинг:\")\n",
    "print(result)\n",
    "if result.statistic < result.critical_values[2]:  # Проверка по уровню значимости 5%\n",
    "    print(\"Данные нормально распределены\")\n",
    "else:\n",
    "    print(\"Данные не соответствуют нормальному распределению\")\n"
   ]
  }
 ],
 "metadata": {
  "kernelspec": {
   "display_name": "Python 3",
   "language": "python",
   "name": "python3"
  },
  "language_info": {
   "codemirror_mode": {
    "name": "ipython",
    "version": 3
   },
   "file_extension": ".py",
   "mimetype": "text/x-python",
   "name": "python",
   "nbconvert_exporter": "python",
   "pygments_lexer": "ipython3",
   "version": "3.12.6"
  }
 },
 "nbformat": 4,
 "nbformat_minor": 2
}
