{
  "cells": [
    {
      "cell_type": "markdown",
      "metadata": {
        "id": "EsonS9rYfD_l"
      },
      "source": [
        "Сегодня мы будем работать с линейной регрессией в библиотеке sklearn. Воспользуемся классами с различным типом регуляризации и подберем оптимальные гипер-параметры для этих моделей. Решать будем задачу с Kaggle про предсказание длины поездки в такси [New York City Taxi Trip Duration](https://www.kaggle.com/c/nyc-taxi-trip-duration/overview).\n",
        "\n",
        "Первым делом необходимо скачать данные. Воспользуйтесь следующей инструкцией: [Как скачать данные с kaggle в colab.](https://pikabu.ru/story/perevodim_dataset_iz_kaggle_v_google_collabs_9095726) Ниже есть необходимый код, вам нужно лишь запрость токен на kaggle и загрузить его."
      ]
    },
    {
      "cell_type": "markdown",
      "metadata": {
        "id": "kTT0DTuOKgfc"
      },
      "source": [
        "Загрузка данных из соревнования по названию"
      ]
    },
    {
      "cell_type": "markdown",
      "metadata": {
        "id": "RFUP6F8K_kLv"
      },
      "source": [
        "Распакуем данные, которые мы загрузили. Работать будем только с train частью, так как там имеются значения предсказываемой переменной."
      ]
    },
    {
      "cell_type": "code",
      "execution_count": 10,
      "metadata": {
        "id": "b1jiU7hKiTUm"
      },
      "outputs": [],
      "source": [
        "import pandas as pd\n",
        "import seaborn as sns\n",
        "from matplotlib import pyplot as plt\n",
        "\n",
        "df = pd.read_csv('data/train.zip', compression='zip', header=0, sep=',', quotechar='\"')"
      ]
    },
    {
      "cell_type": "code",
      "execution_count": 11,
      "metadata": {
        "colab": {
          "base_uri": "https://localhost:8080/",
          "height": 309
        },
        "id": "Dl-adIw4kONn",
        "outputId": "0a1ab2d2-3daf-4a37-e153-4f9712706703"
      },
      "outputs": [
        {
          "data": {
            "text/html": [
              "<div>\n",
              "<style scoped>\n",
              "    .dataframe tbody tr th:only-of-type {\n",
              "        vertical-align: middle;\n",
              "    }\n",
              "\n",
              "    .dataframe tbody tr th {\n",
              "        vertical-align: top;\n",
              "    }\n",
              "\n",
              "    .dataframe thead th {\n",
              "        text-align: right;\n",
              "    }\n",
              "</style>\n",
              "<table border=\"1\" class=\"dataframe\">\n",
              "  <thead>\n",
              "    <tr style=\"text-align: right;\">\n",
              "      <th></th>\n",
              "      <th>id</th>\n",
              "      <th>vendor_id</th>\n",
              "      <th>pickup_datetime</th>\n",
              "      <th>dropoff_datetime</th>\n",
              "      <th>passenger_count</th>\n",
              "      <th>pickup_longitude</th>\n",
              "      <th>pickup_latitude</th>\n",
              "      <th>dropoff_longitude</th>\n",
              "      <th>dropoff_latitude</th>\n",
              "      <th>store_and_fwd_flag</th>\n",
              "      <th>trip_duration</th>\n",
              "    </tr>\n",
              "  </thead>\n",
              "  <tbody>\n",
              "    <tr>\n",
              "      <th>0</th>\n",
              "      <td>id2875421</td>\n",
              "      <td>2</td>\n",
              "      <td>2016-03-14 17:24:55</td>\n",
              "      <td>2016-03-14 17:32:30</td>\n",
              "      <td>1</td>\n",
              "      <td>-73.982155</td>\n",
              "      <td>40.767937</td>\n",
              "      <td>-73.964630</td>\n",
              "      <td>40.765602</td>\n",
              "      <td>N</td>\n",
              "      <td>455</td>\n",
              "    </tr>\n",
              "    <tr>\n",
              "      <th>1</th>\n",
              "      <td>id2377394</td>\n",
              "      <td>1</td>\n",
              "      <td>2016-06-12 00:43:35</td>\n",
              "      <td>2016-06-12 00:54:38</td>\n",
              "      <td>1</td>\n",
              "      <td>-73.980415</td>\n",
              "      <td>40.738564</td>\n",
              "      <td>-73.999481</td>\n",
              "      <td>40.731152</td>\n",
              "      <td>N</td>\n",
              "      <td>663</td>\n",
              "    </tr>\n",
              "    <tr>\n",
              "      <th>2</th>\n",
              "      <td>id3858529</td>\n",
              "      <td>2</td>\n",
              "      <td>2016-01-19 11:35:24</td>\n",
              "      <td>2016-01-19 12:10:48</td>\n",
              "      <td>1</td>\n",
              "      <td>-73.979027</td>\n",
              "      <td>40.763939</td>\n",
              "      <td>-74.005333</td>\n",
              "      <td>40.710087</td>\n",
              "      <td>N</td>\n",
              "      <td>2124</td>\n",
              "    </tr>\n",
              "    <tr>\n",
              "      <th>3</th>\n",
              "      <td>id3504673</td>\n",
              "      <td>2</td>\n",
              "      <td>2016-04-06 19:32:31</td>\n",
              "      <td>2016-04-06 19:39:40</td>\n",
              "      <td>1</td>\n",
              "      <td>-74.010040</td>\n",
              "      <td>40.719971</td>\n",
              "      <td>-74.012268</td>\n",
              "      <td>40.706718</td>\n",
              "      <td>N</td>\n",
              "      <td>429</td>\n",
              "    </tr>\n",
              "    <tr>\n",
              "      <th>4</th>\n",
              "      <td>id2181028</td>\n",
              "      <td>2</td>\n",
              "      <td>2016-03-26 13:30:55</td>\n",
              "      <td>2016-03-26 13:38:10</td>\n",
              "      <td>1</td>\n",
              "      <td>-73.973053</td>\n",
              "      <td>40.793209</td>\n",
              "      <td>-73.972923</td>\n",
              "      <td>40.782520</td>\n",
              "      <td>N</td>\n",
              "      <td>435</td>\n",
              "    </tr>\n",
              "  </tbody>\n",
              "</table>\n",
              "</div>"
            ],
            "text/plain": [
              "          id  vendor_id      pickup_datetime     dropoff_datetime  \\\n",
              "0  id2875421          2  2016-03-14 17:24:55  2016-03-14 17:32:30   \n",
              "1  id2377394          1  2016-06-12 00:43:35  2016-06-12 00:54:38   \n",
              "2  id3858529          2  2016-01-19 11:35:24  2016-01-19 12:10:48   \n",
              "3  id3504673          2  2016-04-06 19:32:31  2016-04-06 19:39:40   \n",
              "4  id2181028          2  2016-03-26 13:30:55  2016-03-26 13:38:10   \n",
              "\n",
              "   passenger_count  pickup_longitude  pickup_latitude  dropoff_longitude  \\\n",
              "0                1        -73.982155        40.767937         -73.964630   \n",
              "1                1        -73.980415        40.738564         -73.999481   \n",
              "2                1        -73.979027        40.763939         -74.005333   \n",
              "3                1        -74.010040        40.719971         -74.012268   \n",
              "4                1        -73.973053        40.793209         -73.972923   \n",
              "\n",
              "   dropoff_latitude store_and_fwd_flag  trip_duration  \n",
              "0         40.765602                  N            455  \n",
              "1         40.731152                  N            663  \n",
              "2         40.710087                  N           2124  \n",
              "3         40.706718                  N            429  \n",
              "4         40.782520                  N            435  "
            ]
          },
          "execution_count": 11,
          "metadata": {},
          "output_type": "execute_result"
        }
      ],
      "source": [
        "df.head()"
      ]
    },
    {
      "cell_type": "markdown",
      "metadata": {
        "id": "gfj1afXBl0y-"
      },
      "source": [
        "Мы видим информацию о каждой поездке. Нам известны координаты, время начала поездки, количество пассажиров и т.д. Удалим колонку, которая есть только в обучающей выборке `dropoff_datetime`. Из названия понятно, что используя эту колонку и `pickup_datetime` мы сможем восстановить длину поездки. Очевидно, что в начале поездки `dropoff_datetime` нам недоступна, а значит и для предсказания ее использовать нельзя."
      ]
    },
    {
      "cell_type": "code",
      "execution_count": 12,
      "metadata": {
        "id": "3X1R-uB_jE2h"
      },
      "outputs": [],
      "source": [
        "df = df.drop('dropoff_datetime', axis=1)"
      ]
    },
    {
      "cell_type": "markdown",
      "metadata": {
        "id": "R9U6zQ0nl5ju"
      },
      "source": [
        "Сейчас даты записаны в виде строк. Давайте преобразуем их в питонячие datetime объекты. Таким образом мы сможем выполнять арифметические операции с датами и вытаскивать нужную информацию, не работая со строками."
      ]
    },
    {
      "cell_type": "code",
      "execution_count": 13,
      "metadata": {
        "id": "7RmJ9B5kjJgJ"
      },
      "outputs": [],
      "source": [
        "df.pickup_datetime = pd.to_datetime(df.pickup_datetime)"
      ]
    },
    {
      "cell_type": "code",
      "execution_count": 14,
      "metadata": {
        "id": "E4PGcOF4kjHh"
      },
      "outputs": [],
      "source": [
        "df = df.sort_values(by='pickup_datetime')"
      ]
    },
    {
      "cell_type": "code",
      "execution_count": 15,
      "metadata": {
        "colab": {
          "base_uri": "https://localhost:8080/",
          "height": 309
        },
        "id": "LbnQNS502lXy",
        "outputId": "763c1d1b-1da7-420c-d42d-6399b08f1297"
      },
      "outputs": [
        {
          "data": {
            "text/html": [
              "<div>\n",
              "<style scoped>\n",
              "    .dataframe tbody tr th:only-of-type {\n",
              "        vertical-align: middle;\n",
              "    }\n",
              "\n",
              "    .dataframe tbody tr th {\n",
              "        vertical-align: top;\n",
              "    }\n",
              "\n",
              "    .dataframe thead th {\n",
              "        text-align: right;\n",
              "    }\n",
              "</style>\n",
              "<table border=\"1\" class=\"dataframe\">\n",
              "  <thead>\n",
              "    <tr style=\"text-align: right;\">\n",
              "      <th></th>\n",
              "      <th>id</th>\n",
              "      <th>vendor_id</th>\n",
              "      <th>pickup_datetime</th>\n",
              "      <th>passenger_count</th>\n",
              "      <th>pickup_longitude</th>\n",
              "      <th>pickup_latitude</th>\n",
              "      <th>dropoff_longitude</th>\n",
              "      <th>dropoff_latitude</th>\n",
              "      <th>store_and_fwd_flag</th>\n",
              "      <th>trip_duration</th>\n",
              "    </tr>\n",
              "  </thead>\n",
              "  <tbody>\n",
              "    <tr>\n",
              "      <th>96469</th>\n",
              "      <td>id0190469</td>\n",
              "      <td>2</td>\n",
              "      <td>2016-01-01 00:00:17</td>\n",
              "      <td>5</td>\n",
              "      <td>-73.981743</td>\n",
              "      <td>40.719158</td>\n",
              "      <td>-73.938828</td>\n",
              "      <td>40.829182</td>\n",
              "      <td>N</td>\n",
              "      <td>849</td>\n",
              "    </tr>\n",
              "    <tr>\n",
              "      <th>223872</th>\n",
              "      <td>id1665586</td>\n",
              "      <td>1</td>\n",
              "      <td>2016-01-01 00:00:53</td>\n",
              "      <td>1</td>\n",
              "      <td>-73.985085</td>\n",
              "      <td>40.747166</td>\n",
              "      <td>-73.958038</td>\n",
              "      <td>40.717491</td>\n",
              "      <td>N</td>\n",
              "      <td>1294</td>\n",
              "    </tr>\n",
              "    <tr>\n",
              "      <th>713067</th>\n",
              "      <td>id1210365</td>\n",
              "      <td>2</td>\n",
              "      <td>2016-01-01 00:01:01</td>\n",
              "      <td>5</td>\n",
              "      <td>-73.965279</td>\n",
              "      <td>40.801041</td>\n",
              "      <td>-73.947479</td>\n",
              "      <td>40.815170</td>\n",
              "      <td>N</td>\n",
              "      <td>408</td>\n",
              "    </tr>\n",
              "    <tr>\n",
              "      <th>652463</th>\n",
              "      <td>id3888279</td>\n",
              "      <td>1</td>\n",
              "      <td>2016-01-01 00:01:14</td>\n",
              "      <td>1</td>\n",
              "      <td>-73.982292</td>\n",
              "      <td>40.751331</td>\n",
              "      <td>-73.991341</td>\n",
              "      <td>40.750340</td>\n",
              "      <td>N</td>\n",
              "      <td>280</td>\n",
              "    </tr>\n",
              "    <tr>\n",
              "      <th>722901</th>\n",
              "      <td>id0924227</td>\n",
              "      <td>1</td>\n",
              "      <td>2016-01-01 00:01:20</td>\n",
              "      <td>1</td>\n",
              "      <td>-73.970108</td>\n",
              "      <td>40.759800</td>\n",
              "      <td>-73.989357</td>\n",
              "      <td>40.742989</td>\n",
              "      <td>N</td>\n",
              "      <td>736</td>\n",
              "    </tr>\n",
              "  </tbody>\n",
              "</table>\n",
              "</div>"
            ],
            "text/plain": [
              "               id  vendor_id     pickup_datetime  passenger_count  \\\n",
              "96469   id0190469          2 2016-01-01 00:00:17                5   \n",
              "223872  id1665586          1 2016-01-01 00:00:53                1   \n",
              "713067  id1210365          2 2016-01-01 00:01:01                5   \n",
              "652463  id3888279          1 2016-01-01 00:01:14                1   \n",
              "722901  id0924227          1 2016-01-01 00:01:20                1   \n",
              "\n",
              "        pickup_longitude  pickup_latitude  dropoff_longitude  \\\n",
              "96469         -73.981743        40.719158         -73.938828   \n",
              "223872        -73.985085        40.747166         -73.958038   \n",
              "713067        -73.965279        40.801041         -73.947479   \n",
              "652463        -73.982292        40.751331         -73.991341   \n",
              "722901        -73.970108        40.759800         -73.989357   \n",
              "\n",
              "        dropoff_latitude store_and_fwd_flag  trip_duration  \n",
              "96469          40.829182                  N            849  \n",
              "223872         40.717491                  N           1294  \n",
              "713067         40.815170                  N            408  \n",
              "652463         40.750340                  N            280  \n",
              "722901         40.742989                  N            736  "
            ]
          },
          "execution_count": 15,
          "metadata": {},
          "output_type": "execute_result"
        }
      ],
      "source": [
        "df.head()"
      ]
    },
    {
      "cell_type": "markdown",
      "metadata": {
        "id": "NerTyfJWl9w4"
      },
      "source": [
        "Давайте разобьем выборку на train и test. Применить функцию `train_test_split` в этот раз не получиться. Мы теперь имеем дело с временными данными и на практике наша модель должна уметь работать во временных периодах, которых нет в обучающей выборке. Поэтому разбивать мы будем датасет по хронологии. Для этого отсортируем датасет по дате и возьмем первые N строк."
      ]
    },
    {
      "cell_type": "code",
      "execution_count": 16,
      "metadata": {
        "id": "Qzhbddk_2nnt"
      },
      "outputs": [],
      "source": [
        "df_train = df[:10 ** 6]\n",
        "df_test = df[10 ** 6:]"
      ]
    },
    {
      "cell_type": "markdown",
      "metadata": {
        "id": "jGh5vdplm3P9"
      },
      "source": [
        "Напомню, что мы будем пресказывать переменную trip_duration. Посмотрим на target переменную."
      ]
    },
    {
      "cell_type": "code",
      "execution_count": 17,
      "metadata": {
        "colab": {
          "base_uri": "https://localhost:8080/",
          "height": 480
        },
        "id": "aSL_26dbm053",
        "outputId": "9936a86c-7571-4dca-9a47-f09a1b8d481f"
      },
      "outputs": [
        {
          "data": {
            "text/plain": [
              "<Axes: >"
            ]
          },
          "execution_count": 17,
          "metadata": {},
          "output_type": "execute_result"
        },
        {
          "data": {
            "image/png": "[encoded data removed]",
            "text/plain": [
              "<Figure size 640x480 with 1 Axes>"
            ]
          },
          "metadata": {},
          "output_type": "display_data"
        }
      ],
      "source": [
        "df_train.trip_duration.hist(bins=100, grid=False, )"
      ]
    },
    {
      "cell_type": "markdown",
      "metadata": {
        "id": "56ZsuT-dnhB6"
      },
      "source": [
        "Что то пошло не так. Вероятно, есть очень длинные поездки и короткие. Попробуем взять `log(1 + x)` от длины поездки. Единицу мы прибавляем, чтобы избежать проблем с поездками, которые например мнгновенно завершились."
      ]
    },
    {
      "cell_type": "code",
      "execution_count": 18,
      "metadata": {
        "colab": {
          "base_uri": "https://localhost:8080/",
          "height": 447
        },
        "id": "zhGXOWYGmjxS",
        "outputId": "91b2e283-9b56-43e7-b611-4daaae2fd133"
      },
      "outputs": [
        {
          "data": {
            "text/plain": [
              "<Axes: >"
            ]
          },
          "execution_count": 18,
          "metadata": {},
          "output_type": "execute_result"
        },
        {
          "data": {
            "image/png": "[encoded data removed]",
            "text/plain": [
              "<Figure size 640x480 with 1 Axes>"
            ]
          },
          "metadata": {},
          "output_type": "display_data"
        }
      ],
      "source": [
        "import numpy as np\n",
        "np.log1p(df_train.trip_duration).hist(bins=100, grid=False, )"
      ]
    },
    {
      "cell_type": "markdown",
      "metadata": {
        "id": "CITyr98_weNh"
      },
      "source": [
        "Мы получили куда более ясную картину, распределение стало похоже на нормальное. Работать будем теперь с логарифмом. Так линейной регрессии будет куда проще выучить корректную зависимость. А если захотим вернуться к исходным данным, возведем предсказание в экспоненту."
      ]
    },
    {
      "cell_type": "code",
      "execution_count": 19,
      "metadata": {
        "colab": {
          "base_uri": "https://localhost:8080/"
        },
        "id": "XdDc4PQUnPaI",
        "outputId": "25f37de1-2d34-4f58-afeb-967e63ffb752"
      },
      "outputs": [
        {
          "name": "stderr",
          "output_type": "stream",
          "text": [
            "C:\\Users\\s-hro\\AppData\\Local\\Temp\\ipykernel_8576\\3188718710.py:1: SettingWithCopyWarning: \n",
            "A value is trying to be set on a copy of a slice from a DataFrame.\n",
            "Try using .loc[row_indexer,col_indexer] = value instead\n",
            "\n",
            "See the caveats in the documentation: https://pandas.pydata.org/pandas-docs/stable/user_guide/indexing.html#returning-a-view-versus-a-copy\n",
            "  df_train['log_trip_duration'] = np.log1p(df_train.trip_duration)\n",
            "C:\\Users\\s-hro\\AppData\\Local\\Temp\\ipykernel_8576\\3188718710.py:2: SettingWithCopyWarning: \n",
            "A value is trying to be set on a copy of a slice from a DataFrame.\n",
            "Try using .loc[row_indexer,col_indexer] = value instead\n",
            "\n",
            "See the caveats in the documentation: https://pandas.pydata.org/pandas-docs/stable/user_guide/indexing.html#returning-a-view-versus-a-copy\n",
            "  df_test['log_trip_duration'] = np.log1p(df_test.trip_duration)\n"
          ]
        }
      ],
      "source": [
        "df_train['log_trip_duration'] = np.log1p(df_train.trip_duration)\n",
        "df_test['log_trip_duration'] = np.log1p(df_test.trip_duration)"
      ]
    },
    {
      "cell_type": "code",
      "execution_count": 20,
      "metadata": {
        "id": "2nEREh5dsC20"
      },
      "outputs": [],
      "source": [
        "df.pickup_datetime = pd.to_datetime(df.pickup_datetime)"
      ]
    },
    {
      "cell_type": "markdown",
      "metadata": {
        "id": "ELugKcXGoRFT"
      },
      "source": [
        "Посмотрим на наши признаки. Давайте нарисуем, как выглядит распределение количества поездок по дням."
      ]
    },
    {
      "cell_type": "code",
      "execution_count": 22,
      "metadata": {
        "colab": {
          "base_uri": "https://localhost:8080/",
          "height": 310
        },
        "id": "TBjQxEKLoywT",
        "outputId": "e9e28e7c-f80d-4d55-cba7-5dc7c226933f"
      },
      "outputs": [
        {
          "name": "stderr",
          "output_type": "stream",
          "text": [
            "C:\\Users\\s-hro\\AppData\\Local\\Temp\\ipykernel_8576\\314821692.py:7: UserWarning: set_ticklabels() should only be used with a fixed number of ticks, i.e. after set_ticks() or using a FixedLocator.\n",
            "  date_count_plot.set_xticklabels(date_count_plot.get_xticklabels(), rotation=90)\n"
          ]
        },
        {
          "data": {
            "text/plain": [
              "[Text(0, 0, '2016-01-01'),\n",
              " Text(1, 0, '2016-01-02'),\n",
              " Text(2, 0, '2016-01-03'),\n",
              " Text(3, 0, '2016-01-04'),\n",
              " Text(4, 0, '2016-01-05'),\n",
              " Text(5, 0, '2016-01-06'),\n",
              " Text(6, 0, '2016-01-07'),\n",
              " Text(7, 0, '2016-01-08'),\n",
              " Text(8, 0, '2016-01-09'),\n",
              " Text(9, 0, '2016-01-10'),\n",
              " Text(10, 0, '2016-01-11'),\n",
              " Text(11, 0, '2016-01-12'),\n",
              " Text(12, 0, '2016-01-13'),\n",
              " Text(13, 0, '2016-01-14'),\n",
              " Text(14, 0, '2016-01-15'),\n",
              " Text(15, 0, '2016-01-16'),\n",
              " Text(16, 0, '2016-01-17'),\n",
              " Text(17, 0, '2016-01-18'),\n",
              " Text(18, 0, '2016-01-19'),\n",
              " Text(19, 0, '2016-01-20'),\n",
              " Text(20, 0, '2016-01-21'),\n",
              " Text(21, 0, '2016-01-22'),\n",
              " Text(22, 0, '2016-01-23'),\n",
              " Text(23, 0, '2016-01-24'),\n",
              " Text(24, 0, '2016-01-25'),\n",
              " Text(25, 0, '2016-01-26'),\n",
              " Text(26, 0, '2016-01-27'),\n",
              " Text(27, 0, '2016-01-28'),\n",
              " Text(28, 0, '2016-01-29'),\n",
              " Text(29, 0, '2016-01-30'),\n",
              " Text(30, 0, '2016-01-31'),\n",
              " Text(31, 0, '2016-02-01'),\n",
              " Text(32, 0, '2016-02-02'),\n",
              " Text(33, 0, '2016-02-03'),\n",
              " Text(34, 0, '2016-02-04'),\n",
              " Text(35, 0, '2016-02-05'),\n",
              " Text(36, 0, '2016-02-06'),\n",
              " Text(37, 0, '2016-02-07'),\n",
              " Text(38, 0, '2016-02-08'),\n",
              " Text(39, 0, '2016-02-09'),\n",
              " Text(40, 0, '2016-02-10'),\n",
              " Text(41, 0, '2016-02-11'),\n",
              " Text(42, 0, '2016-02-12'),\n",
              " Text(43, 0, '2016-02-13'),\n",
              " Text(44, 0, '2016-02-14'),\n",
              " Text(45, 0, '2016-02-15'),\n",
              " Text(46, 0, '2016-02-16'),\n",
              " Text(47, 0, '2016-02-17'),\n",
              " Text(48, 0, '2016-02-18'),\n",
              " Text(49, 0, '2016-02-19'),\n",
              " Text(50, 0, '2016-02-20'),\n",
              " Text(51, 0, '2016-02-21'),\n",
              " Text(52, 0, '2016-02-22'),\n",
              " Text(53, 0, '2016-02-23'),\n",
              " Text(54, 0, '2016-02-24'),\n",
              " Text(55, 0, '2016-02-25'),\n",
              " Text(56, 0, '2016-02-26'),\n",
              " Text(57, 0, '2016-02-27'),\n",
              " Text(58, 0, '2016-02-28'),\n",
              " Text(59, 0, '2016-02-29'),\n",
              " Text(60, 0, '2016-03-01'),\n",
              " Text(61, 0, '2016-03-02'),\n",
              " Text(62, 0, '2016-03-03'),\n",
              " Text(63, 0, '2016-03-04'),\n",
              " Text(64, 0, '2016-03-05'),\n",
              " Text(65, 0, '2016-03-06'),\n",
              " Text(66, 0, '2016-03-07'),\n",
              " Text(67, 0, '2016-03-08'),\n",
              " Text(68, 0, '2016-03-09'),\n",
              " Text(69, 0, '2016-03-10'),\n",
              " Text(70, 0, '2016-03-11'),\n",
              " Text(71, 0, '2016-03-12'),\n",
              " Text(72, 0, '2016-03-13'),\n",
              " Text(73, 0, '2016-03-14'),\n",
              " Text(74, 0, '2016-03-15'),\n",
              " Text(75, 0, '2016-03-16'),\n",
              " Text(76, 0, '2016-03-17'),\n",
              " Text(77, 0, '2016-03-18'),\n",
              " Text(78, 0, '2016-03-19'),\n",
              " Text(79, 0, '2016-03-20'),\n",
              " Text(80, 0, '2016-03-21'),\n",
              " Text(81, 0, '2016-03-22'),\n",
              " Text(82, 0, '2016-03-23'),\n",
              " Text(83, 0, '2016-03-24'),\n",
              " Text(84, 0, '2016-03-25'),\n",
              " Text(85, 0, '2016-03-26'),\n",
              " Text(86, 0, '2016-03-27'),\n",
              " Text(87, 0, '2016-03-28'),\n",
              " Text(88, 0, '2016-03-29'),\n",
              " Text(89, 0, '2016-03-30'),\n",
              " Text(90, 0, '2016-03-31'),\n",
              " Text(91, 0, '2016-04-01'),\n",
              " Text(92, 0, '2016-04-02'),\n",
              " Text(93, 0, '2016-04-03'),\n",
              " Text(94, 0, '2016-04-04'),\n",
              " Text(95, 0, '2016-04-05'),\n",
              " Text(96, 0, '2016-04-06'),\n",
              " Text(97, 0, '2016-04-07'),\n",
              " Text(98, 0, '2016-04-08'),\n",
              " Text(99, 0, '2016-04-09'),\n",
              " Text(100, 0, '2016-04-10'),\n",
              " Text(101, 0, '2016-04-11'),\n",
              " Text(102, 0, '2016-04-12'),\n",
              " Text(103, 0, '2016-04-13'),\n",
              " Text(104, 0, '2016-04-14'),\n",
              " Text(105, 0, '2016-04-15'),\n",
              " Text(106, 0, '2016-04-16'),\n",
              " Text(107, 0, '2016-04-17'),\n",
              " Text(108, 0, '2016-04-18'),\n",
              " Text(109, 0, '2016-04-19'),\n",
              " Text(110, 0, '2016-04-20'),\n",
              " Text(111, 0, '2016-04-21'),\n",
              " Text(112, 0, '2016-04-22'),\n",
              " Text(113, 0, '2016-04-23'),\n",
              " Text(114, 0, '2016-04-24'),\n",
              " Text(115, 0, '2016-04-25'),\n",
              " Text(116, 0, '2016-04-26'),\n",
              " Text(117, 0, '2016-04-27'),\n",
              " Text(118, 0, '2016-04-28'),\n",
              " Text(119, 0, '2016-04-29'),\n",
              " Text(120, 0, '2016-04-30'),\n",
              " Text(121, 0, '2016-05-01'),\n",
              " Text(122, 0, '2016-05-02'),\n",
              " Text(123, 0, '2016-05-03'),\n",
              " Text(124, 0, '2016-05-04')]"
            ]
          },
          "execution_count": 22,
          "metadata": {},
          "output_type": "execute_result"
        },
        {
          "data": {
            "image/png": "[encoded data removed]",
            "text/plain": [
              "<Figure size 2500x500 with 1 Axes>"
            ]
          },
          "metadata": {},
          "output_type": "display_data"
        }
      ],
      "source": [
        "date_sorted = df_train.pickup_datetime.apply(lambda x: x.date()).sort_values()\n",
        "\n",
        "plt.figure(figsize=(25, 5))\n",
        "date_count_plot = sns.countplot(\n",
        "  x=date_sorted,\n",
        ")\n",
        "date_count_plot.set_xticklabels(date_count_plot.get_xticklabels(), rotation=90)"
      ]
    },
    {
      "cell_type": "markdown",
      "metadata": {
        "id": "RjjpG_w7xMwC"
      },
      "source": [
        "Мы можем увидеть паттерны, которые повторяются каждую неделю. Также мы можем наблюдать несколько аномальных правалов в количестве поездок. Посмотрим, как выглядит распределение по часам."
      ]
    },
    {
      "cell_type": "code",
      "execution_count": 23,
      "metadata": {
        "colab": {
          "base_uri": "https://localhost:8080/",
          "height": 453
        },
        "id": "YuwD_kpgqCzX",
        "outputId": "0c77c94c-b133-4145-f82e-ff76588c83a5"
      },
      "outputs": [
        {
          "name": "stderr",
          "output_type": "stream",
          "text": [
            "C:\\Users\\s-hro\\AppData\\Local\\Temp\\ipykernel_8576\\2367666649.py:6: UserWarning: set_ticklabels() should only be used with a fixed number of ticks, i.e. after set_ticks() or using a FixedLocator.\n",
            "  date_count_plot.set_xticklabels(date_count_plot.get_xticklabels(), rotation=90)\n"
          ]
        },
        {
          "data": {
            "text/plain": [
              "[Text(0, 0, '0'),\n",
              " Text(1, 0, '1'),\n",
              " Text(2, 0, '2'),\n",
              " Text(3, 0, '3'),\n",
              " Text(4, 0, '4'),\n",
              " Text(5, 0, '5'),\n",
              " Text(6, 0, '6'),\n",
              " Text(7, 0, '7'),\n",
              " Text(8, 0, '8'),\n",
              " Text(9, 0, '9'),\n",
              " Text(10, 0, '10'),\n",
              " Text(11, 0, '11'),\n",
              " Text(12, 0, '12'),\n",
              " Text(13, 0, '13'),\n",
              " Text(14, 0, '14'),\n",
              " Text(15, 0, '15'),\n",
              " Text(16, 0, '16'),\n",
              " Text(17, 0, '17'),\n",
              " Text(18, 0, '18'),\n",
              " Text(19, 0, '19'),\n",
              " Text(20, 0, '20'),\n",
              " Text(21, 0, '21'),\n",
              " Text(22, 0, '22'),\n",
              " Text(23, 0, '23')]"
            ]
          },
          "execution_count": 23,
          "metadata": {},
          "output_type": "execute_result"
        },
        {
          "data": {
            "image/png": "[encoded data removed]",
            "text/plain": [
              "<Figure size 640x480 with 1 Axes>"
            ]
          },
          "metadata": {},
          "output_type": "display_data"
        }
      ],
      "source": [
        "date_sorted = df_train.pickup_datetime.apply(lambda x: x.hour).sort_values()\n",
        "\n",
        "date_count_plot = sns.countplot(\n",
        "  x=date_sorted,\n",
        ")\n",
        "date_count_plot.set_xticklabels(date_count_plot.get_xticklabels(), rotation=90)"
      ]
    },
    {
      "cell_type": "markdown",
      "metadata": {
        "id": "EHyKa6Jmx1ZV"
      },
      "source": [
        "Теперь давайте посмотрим, как связан день и длина поездки."
      ]
    },
    {
      "cell_type": "code",
      "execution_count": 24,
      "metadata": {
        "colab": {
          "base_uri": "https://localhost:8080/",
          "height": 507
        },
        "id": "0sORx23Ex-nH",
        "outputId": "d6009139-28e3-4f54-c97b-ddb0a30132ed"
      },
      "outputs": [
        {
          "data": {
            "image/png": "[encoded data removed]",
            "text/plain": [
              "<Figure size 500x500 with 1 Axes>"
            ]
          },
          "metadata": {},
          "output_type": "display_data"
        }
      ],
      "source": [
        "group_by_weekday = df_train.groupby(df_train.pickup_datetime.apply(lambda x: x.date()))\n",
        "sns.relplot(data=group_by_weekday.log_trip_duration.aggregate('mean'), kind='line');"
      ]
    },
    {
      "cell_type": "markdown",
      "metadata": {
        "id": "h6Ir1nIN3B_e"
      },
      "source": [
        "Мы видим явный тренд. Более того, наблюдается такая вещь как сезонность: повторяющиеся временные паттерны. В нашем случае период равен неделе."
      ]
    },
    {
      "cell_type": "markdown",
      "metadata": {
        "id": "NsIqgRCu3EDe"
      },
      "source": [
        "Теперь подготовим датасет. Включим в него день года и час дня. Для этого напишем функцию `create_features`, которая будет собирать нам нужные признаки в отдельный `pandas.DataFrame`. В итоге, мы сможем воспользоваться этой функцией, как для train подвыборки, так и для test."
      ]
    },
    {
      "cell_type": "code",
      "execution_count": 26,
      "metadata": {
        "id": "FRZNQw5jyyZN"
      },
      "outputs": [],
      "source": [
        "import datetime\n",
        "def create_features(data_frame):\n",
        "  X = pd.concat([\n",
        "      data_frame.pickup_datetime.apply(lambda x: x.timetuple().tm_yday),\n",
        "      data_frame.pickup_datetime.apply(lambda x: x.hour),\n",
        "     ], axis=1, keys=['day', 'hour',]\n",
        "  )\n",
        "\n",
        "  return X, data_frame.log_trip_duration"
      ]
    },
    {
      "cell_type": "code",
      "execution_count": 27,
      "metadata": {
        "id": "ZGbjX11l3zwl"
      },
      "outputs": [],
      "source": [
        "X_train, y_train = create_features(df_train)\n",
        "X_test, y_test = create_features(df_test)"
      ]
    },
    {
      "cell_type": "code",
      "execution_count": 28,
      "metadata": {
        "colab": {
          "base_uri": "https://localhost:8080/",
          "height": 204
        },
        "id": "A7p_3ov-5Wx1",
        "outputId": "39bbfacb-37ef-4631-d273-ecf6e5947c2b"
      },
      "outputs": [
        {
          "data": {
            "text/html": [
              "<div>\n",
              "<style scoped>\n",
              "    .dataframe tbody tr th:only-of-type {\n",
              "        vertical-align: middle;\n",
              "    }\n",
              "\n",
              "    .dataframe tbody tr th {\n",
              "        vertical-align: top;\n",
              "    }\n",
              "\n",
              "    .dataframe thead th {\n",
              "        text-align: right;\n",
              "    }\n",
              "</style>\n",
              "<table border=\"1\" class=\"dataframe\">\n",
              "  <thead>\n",
              "    <tr style=\"text-align: right;\">\n",
              "      <th></th>\n",
              "      <th>day</th>\n",
              "      <th>hour</th>\n",
              "    </tr>\n",
              "  </thead>\n",
              "  <tbody>\n",
              "    <tr>\n",
              "      <th>96469</th>\n",
              "      <td>1</td>\n",
              "      <td>0</td>\n",
              "    </tr>\n",
              "    <tr>\n",
              "      <th>223872</th>\n",
              "      <td>1</td>\n",
              "      <td>0</td>\n",
              "    </tr>\n",
              "    <tr>\n",
              "      <th>713067</th>\n",
              "      <td>1</td>\n",
              "      <td>0</td>\n",
              "    </tr>\n",
              "    <tr>\n",
              "      <th>652463</th>\n",
              "      <td>1</td>\n",
              "      <td>0</td>\n",
              "    </tr>\n",
              "    <tr>\n",
              "      <th>722901</th>\n",
              "      <td>1</td>\n",
              "      <td>0</td>\n",
              "    </tr>\n",
              "  </tbody>\n",
              "</table>\n",
              "</div>"
            ],
            "text/plain": [
              "        day  hour\n",
              "96469     1     0\n",
              "223872    1     0\n",
              "713067    1     0\n",
              "652463    1     0\n",
              "722901    1     0"
            ]
          },
          "execution_count": 28,
          "metadata": {},
          "output_type": "execute_result"
        }
      ],
      "source": [
        "X_train.head()"
      ]
    },
    {
      "cell_type": "markdown",
      "metadata": {
        "id": "Cc7tOlmM293O"
      },
      "source": [
        "Переменная час, хоть и является целым числом, не может трактоваться как вещественная. Дело в том, что после 23 идет 0, и что будет означать коэффициент регрессии в таком случае, совсем не ясно. Поэтому применим к этой переменной one -hot кодирование. В тоже время, переменная день должна остаться вещественной, так как значения из обучающей выборке не встреться нам на тестовом подмножестве."
      ]
    },
    {
      "cell_type": "code",
      "execution_count": 29,
      "metadata": {
        "id": "XIZockBO84_e"
      },
      "outputs": [],
      "source": [
        "from sklearn.preprocessing import OneHotEncoder\n",
        "from sklearn.compose import ColumnTransformer"
      ]
    },
    {
      "cell_type": "code",
      "execution_count": 31,
      "metadata": {
        "id": "k6C91eF_9Dk6"
      },
      "outputs": [],
      "source": [
        "ohe = ColumnTransformer([(\"One hot\", OneHotEncoder(sparse_output=False),[1])], remainder=\"passthrough\")"
      ]
    },
    {
      "cell_type": "code",
      "execution_count": 32,
      "metadata": {
        "colab": {
          "base_uri": "https://localhost:8080/"
        },
        "id": "t-6JkRQh9TG5",
        "outputId": "300919a8-937a-4b03-9bca-99089524352b"
      },
      "outputs": [],
      "source": [
        "X_train = ohe.fit_transform(X_train)\n",
        "X_test = ohe.transform(X_test)"
      ]
    },
    {
      "cell_type": "markdown",
      "metadata": {
        "id": "LsKBfV5R5bal"
      },
      "source": [
        "Воспользуемся классом `Ridge` и обучим модель."
      ]
    },
    {
      "cell_type": "code",
      "execution_count": 33,
      "metadata": {
        "id": "bveATviV_VYj"
      },
      "outputs": [],
      "source": [
        "from sklearn.linear_model import Ridge\n",
        "from sklearn.metrics import mean_squared_error"
      ]
    },
    {
      "cell_type": "code",
      "execution_count": 34,
      "metadata": {
        "id": "jzFjG0M0F6ji"
      },
      "outputs": [],
      "source": [
        "ridge = Ridge(alpha=1000).fit(X_train, y_train)"
      ]
    },
    {
      "cell_type": "code",
      "execution_count": 35,
      "metadata": {
        "colab": {
          "base_uri": "https://localhost:8080/"
        },
        "id": "xYEjJt5YGBnh",
        "outputId": "489c921d-0589-4304-8298-324cfeafd917"
      },
      "outputs": [
        {
          "data": {
            "text/plain": [
              "0.6539687819760848"
            ]
          },
          "execution_count": 35,
          "metadata": {},
          "output_type": "execute_result"
        }
      ],
      "source": [
        "mean_squared_error(ridge.predict(X_test), y_test)"
      ]
    },
    {
      "cell_type": "markdown",
      "metadata": {
        "id": "jjtPvTRX5h8w"
      },
      "source": [
        "Давайте попробуем сделать лучше и подберем гиперпараметры модели."
      ]
    },
    {
      "cell_type": "code",
      "execution_count": 36,
      "metadata": {
        "id": "QSftI2qPI8U6"
      },
      "outputs": [],
      "source": [
        "from sklearn.model_selection import GridSearchCV\n",
        "\n",
        "grid_searcher = GridSearchCV(Ridge(),\n",
        "                             param_grid={'alpha': np.linspace(100, 750, 10)},\n",
        "                             cv=5).fit(X_train, y_train)"
      ]
    },
    {
      "cell_type": "code",
      "execution_count": 37,
      "metadata": {
        "colab": {
          "base_uri": "https://localhost:8080/"
        },
        "id": "wZojalcgKgZh",
        "outputId": "dbd16cfa-6955-4fbb-9d11-c5a064f625e7"
      },
      "outputs": [
        {
          "data": {
            "text/plain": [
              "0.6538784861219816"
            ]
          },
          "execution_count": 37,
          "metadata": {},
          "output_type": "execute_result"
        }
      ],
      "source": [
        "mean_squared_error(grid_searcher.predict(X_test), y_test)"
      ]
    },
    {
      "cell_type": "code",
      "execution_count": 38,
      "metadata": {
        "colab": {
          "base_uri": "https://localhost:8080/"
        },
        "id": "rf9m8dQkKmKD",
        "outputId": "21a53549-c313-4d56-b2f2-6c995a5363f6"
      },
      "outputs": [
        {
          "data": {
            "text/plain": [
              "{'alpha': 388.8888888888889}"
            ]
          },
          "execution_count": 38,
          "metadata": {},
          "output_type": "execute_result"
        }
      ],
      "source": [
        "grid_searcher.best_params_"
      ]
    },
    {
      "cell_type": "markdown",
      "metadata": {
        "id": "3FEX2OFZ9kS8"
      },
      "source": [
        "# Задание 1\n",
        "Постройте график соответствующий количеству поездок в зависимости от дня недели по обучающей выборке. Какой из этих графиков соответствует правильному?\n"
      ]
    },
    {
      "cell_type": "code",
      "execution_count": null,
      "metadata": {
        "id": "N0uqPZzMJhju"
      },
      "outputs": [],
      "source": []
    },
    {
      "cell_type": "markdown",
      "metadata": {
        "id": "r64ZH4jTD4W1"
      },
      "source": [
        "# Задание 2\n",
        "Добавьте к признакам бинарную переменную, которая равна 1 для двух аномальных дней и 0 во все остальные дни.\n",
        "Для этого вам понадобиться модифицировать функцию create_features."
      ]
    },
    {
      "cell_type": "code",
      "execution_count": null,
      "metadata": {
        "id": "xTsEacAIJ3w2"
      },
      "outputs": [],
      "source": []
    },
    {
      "cell_type": "markdown",
      "metadata": {
        "id": "lp4fhXBY_cr5"
      },
      "source": [
        "# Задание 3\n",
        "1. Добавьте день недели в качестве признака для обучения. Удобнее всего - модифицировать функцию create_features.\n",
        "\n",
        "2. Заново проведите one-hot кодирование. Сколько признаков у вас получилось?"
      ]
    },
    {
      "cell_type": "code",
      "execution_count": null,
      "metadata": {
        "id": "wQFyJl0sEFE4"
      },
      "outputs": [],
      "source": []
    },
    {
      "cell_type": "markdown",
      "metadata": {
        "id": "WE8Tn-_3F82I"
      },
      "source": [
        "# Вопрос 4\n",
        "\n",
        "1. Отмасштабируйте единственный вещественный признак.\n",
        "2. Обучите на полученных данных Lasso регрессию, в качества параметра  `alpha` возьмите 2.65e-05.\n",
        "\n",
        "Какое качество в терминах MSE вы получили?\n",
        "\n",
        "Сколько признаков было отобрано? В качестве критерия зануления признака используйте сравнение с $10^{-6}$ (с точностью до 3 знаков после запятой).\n"
      ]
    },
    {
      "cell_type": "code",
      "execution_count": null,
      "metadata": {
        "id": "32w6gqNkIeWX"
      },
      "outputs": [],
      "source": []
    }
  ],
  "metadata": {
    "colab": {
      "provenance": []
    },
    "kernelspec": {
      "display_name": "Python 3",
      "name": "python3"
    },
    "language_info": {
      "codemirror_mode": {
        "name": "ipython",
        "version": 3
      },
      "file_extension": ".py",
      "mimetype": "text/x-python",
      "name": "python",
      "nbconvert_exporter": "python",
      "pygments_lexer": "ipython3",
      "version": "3.12.0"
    }
  },
  "nbformat": 4,
  "nbformat_minor": 0
}
