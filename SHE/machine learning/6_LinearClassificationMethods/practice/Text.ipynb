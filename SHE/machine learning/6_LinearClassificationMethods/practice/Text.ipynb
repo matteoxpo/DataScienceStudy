{
  "cells": [
    {
      "cell_type": "code",
      "execution_count": 2,
      "metadata": {
        "id": "8jSVwwV0ZSib"
      },
      "outputs": [],
      "source": [
        "import warnings\n",
        "warnings.filterwarnings(\"ignore\", category=FutureWarning)\n",
        "warnings.filterwarnings(\"ignore\")"
      ]
    },
    {
      "cell_type": "markdown",
      "metadata": {
        "id": "EyOBT_yuOPbt"
      },
      "source": [
        "## 20Newsgroups"
      ]
    },
    {
      "cell_type": "code",
      "execution_count": 3,
      "metadata": {
        "id": "0pXEYBa1irKy"
      },
      "outputs": [],
      "source": [
        "from sklearn.datasets import fetch_20newsgroups"
      ]
    },
    {
      "cell_type": "code",
      "execution_count": 4,
      "metadata": {
        "id": "6kPs28eIizK7"
      },
      "outputs": [],
      "source": [
        "newsgroups_train = fetch_20newsgroups(subset='train')\n",
        "newsgroups_test = fetch_20newsgroups(subset='test')"
      ]
    },
    {
      "cell_type": "code",
      "execution_count": 5,
      "metadata": {
        "colab": {
          "base_uri": "https://localhost:8080/",
          "height": 35
        },
        "id": "-TJi0Cpvi0GB",
        "outputId": "a7f4a420-5f9b-4196-b161-c4584a5cb66d"
      },
      "outputs": [
        {
          "data": {
            "text/plain": [
              "dict_keys(['data', 'filenames', 'target_names', 'target', 'DESCR'])"
            ]
          },
          "execution_count": 5,
          "metadata": {},
          "output_type": "execute_result"
        }
      ],
      "source": [
        "newsgroups_train.keys()"
      ]
    },
    {
      "cell_type": "code",
      "execution_count": 6,
      "metadata": {
        "colab": {
          "base_uri": "https://localhost:8080/",
          "height": 397
        },
        "id": "3bS4nDRNi0Ju",
        "outputId": "dda50cf5-97ef-4fb7-d0a8-84091e1566e1"
      },
      "outputs": [
        {
          "name": "stdout",
          "output_type": "stream",
          "text": [
            "From: lerxst@wam.umd.edu (where's my thing)\n",
            "Subject: WHAT car is this!?\n",
            "Nntp-Posting-Host: rac3.wam.umd.edu\n",
            "Organization: University of Maryland, College Park\n",
            "Lines: 15\n",
            "\n",
            " I was wondering if anyone out there could enlighten me on this car I saw\n",
            "the other day. It was a 2-door sports car, looked to be from the late 60s/\n",
            "early 70s. It was called a Bricklin. The doors were really small. In addition,\n",
            "the front bumper was separate from the rest of the body. This is \n",
            "all I know. If anyone can tellme a model name, engine specs, years\n",
            "of production, where this car is made, history, or whatever info you\n",
            "have on this funky looking car, please e-mail.\n",
            "\n",
            "Thanks,\n",
            "- IL\n",
            "   ---- brought to you by your neighborhood Lerxst ----\n",
            "\n",
            "\n",
            "\n",
            "\n",
            "\n"
          ]
        }
      ],
      "source": [
        "print (newsgroups_train.data[0])"
      ]
    },
    {
      "cell_type": "markdown",
      "metadata": {
        "id": "4gyFClg2Oi3q"
      },
      "source": [
        "### 1. Предварительная обработка текста"
      ]
    },
    {
      "cell_type": "code",
      "execution_count": 9,
      "metadata": {
        "colab": {
          "base_uri": "https://localhost:8080/",
          "height": 86
        },
        "id": "NLzaHw-_i0su",
        "outputId": "3a95ead1-aa15-4220-b569-dfa17876d42c"
      },
      "outputs": [
        {
          "name": "stderr",
          "output_type": "stream",
          "text": [
            "[nltk_data] Downloading package stopwords to\n",
            "[nltk_data]     C:\\Users\\s-hro\\AppData\\Roaming\\nltk_data...\n",
            "[nltk_data]   Package stopwords is already up-to-date!\n",
            "[nltk_data] Downloading package punkt to\n",
            "[nltk_data]     C:\\Users\\s-hro\\AppData\\Roaming\\nltk_data...\n",
            "[nltk_data]   Package punkt is already up-to-date!\n",
            "[nltk_data] Downloading package punkt_tab to\n",
            "[nltk_data]     C:\\Users\\s-hro\\AppData\\Roaming\\nltk_data...\n",
            "[nltk_data]   Package punkt_tab is already up-to-date!\n"
          ]
        }
      ],
      "source": [
        "import nltk\n",
        "nltk.download('stopwords')\n",
        "nltk.download('punkt')  \n",
        "nltk.download('punkt_tab')  \n",
        "\n",
        "from nltk.corpus import stopwords\n",
        "from nltk.tokenize import word_tokenize\n",
        "import re\n",
        "import tqdm"
      ]
    },
    {
      "cell_type": "code",
      "execution_count": 11,
      "metadata": {},
      "outputs": [],
      "source": [
        "def preprocess_text(texts):\n",
        "    stop_words = set(stopwords.words('english'))\n",
        "    regex = re.compile('[^a-z A-Z]')\n",
        "    preprocess_texts = []\n",
        "    for i in  tqdm.tqdm(range(len(texts))):\n",
        "        text = texts[i].lower()\n",
        "        text = regex.sub(' ', text)\n",
        "        word_tokens = word_tokenize(text)\n",
        "        filtered_sentence = [w for w in word_tokens if not w in stop_words]\n",
        "        preprocess_texts.append( ' '.join(filtered_sentence))\n",
        "\n",
        "    return preprocess_texts\n"
      ]
    },
    {
      "cell_type": "code",
      "execution_count": 12,
      "metadata": {},
      "outputs": [
        {
          "name": "stderr",
          "output_type": "stream",
          "text": [
            "100%|██████████| 11314/11314 [00:06<00:00, 1693.31it/s]\n"
          ]
        }
      ],
      "source": [
        "newsgroups_train['preprocess_data'] = preprocess_text(newsgroups_train.data)\n"
      ]
    },
    {
      "cell_type": "code",
      "execution_count": 13,
      "metadata": {
        "colab": {
          "base_uri": "https://localhost:8080/",
          "height": 35
        },
        "id": "S-7Y15RKi0vg",
        "outputId": "50517bb0-7e1e-4693-830f-5f3da0da3301"
      },
      "outputs": [
        {
          "name": "stderr",
          "output_type": "stream",
          "text": [
            "100%|██████████| 11314/11314 [00:06<00:00, 1705.31it/s]\n"
          ]
        }
      ],
      "source": [
        "newsgroups_train['preprocess_data'] = preprocess_text(newsgroups_train.data)"
      ]
    },
    {
      "cell_type": "code",
      "execution_count": 14,
      "metadata": {
        "colab": {
          "base_uri": "https://localhost:8080/",
          "height": 35
        },
        "id": "okehw7-zjIqK",
        "outputId": "3b8032bd-5025-4bfe-cb0a-e03f0fb5a8b5"
      },
      "outputs": [
        {
          "name": "stderr",
          "output_type": "stream",
          "text": [
            "100%|██████████| 7532/7532 [00:04<00:00, 1822.32it/s]\n"
          ]
        }
      ],
      "source": [
        "newsgroups_test['preprocess_data'] = preprocess_text(newsgroups_test.data)"
      ]
    },
    {
      "cell_type": "code",
      "execution_count": 22,
      "metadata": {
        "colab": {
          "base_uri": "https://localhost:8080/",
          "height": 55
        },
        "id": "zTWtrSHAjItA",
        "outputId": "f9afc854-bdfd-4d4c-8467-bf1591be93a6"
      },
      "outputs": [
        {
          "name": "stdout",
          "output_type": "stream",
          "text": [
            "lerxst wam umd edu thing subject car nntp posting host rac wam umd edu organization university maryland college park lines wondering anyone could enlighten car saw day door sports car looked late early called bricklin doors really small addition front bumper separate rest body know anyone tellme model name engine specs years production car made history whatever info funky looking car please e mail thanks il brought neighborhood lerxst\n"
          ]
        }
      ],
      "source": [
        "print(newsgroups_train['preprocess_data'][0])"
      ]
    },
    {
      "cell_type": "code",
      "execution_count": 23,
      "metadata": {
        "id": "tZYKnEeYjIv1"
      },
      "outputs": [],
      "source": [
        "from nltk.stem.lancaster import LancasterStemmer"
      ]
    },
    {
      "cell_type": "code",
      "execution_count": 24,
      "metadata": {
        "id": "LZCOP9HFjIyR"
      },
      "outputs": [],
      "source": [
        "def stemming_texts(texts):\n",
        "  st = LancasterStemmer()\n",
        "  stem_text = []\n",
        "  for text in tqdm.tqdm(texts):\n",
        "    word_tokens = word_tokenize(text)\n",
        "    stem_text.append(' '.join([st.stem(word) for word in word_tokens]))\n",
        "  return stem_text"
      ]
    },
    {
      "cell_type": "markdown",
      "metadata": {},
      "source": []
    },
    {
      "cell_type": "code",
      "execution_count": 25,
      "metadata": {
        "colab": {
          "base_uri": "https://localhost:8080/",
          "height": 35
        },
        "id": "D0h_D9xujI1E",
        "outputId": "143559f8-6c9c-4897-ff5f-515b46173a0b"
      },
      "outputs": [
        {
          "name": "stderr",
          "output_type": "stream",
          "text": [
            "100%|██████████| 11314/11314 [00:17<00:00, 643.06it/s]\n"
          ]
        }
      ],
      "source": [
        "newsgroups_train['data_stemming'] = \\\n",
        "                           stemming_texts(newsgroups_train.preprocess_data)"
      ]
    },
    {
      "cell_type": "code",
      "execution_count": 26,
      "metadata": {
        "colab": {
          "base_uri": "https://localhost:8080/",
          "height": 35
        },
        "id": "0IgwyKC0jI3g",
        "outputId": "4fd8cd4c-2002-463f-fd37-c5a01fe86306"
      },
      "outputs": [
        {
          "name": "stderr",
          "output_type": "stream",
          "text": [
            "100%|██████████| 7532/7532 [00:11<00:00, 655.07it/s]\n"
          ]
        }
      ],
      "source": [
        "newsgroups_test['data_stemming'] = \\\n",
        "                            stemming_texts(newsgroups_test.preprocess_data)"
      ]
    },
    {
      "cell_type": "code",
      "execution_count": 30,
      "metadata": {
        "colab": {
          "base_uri": "https://localhost:8080/",
          "height": 55
        },
        "id": "lPpe-b5zvmUW",
        "outputId": "d04ba9e2-9ee5-41c6-fa45-2ecfa5884df3"
      },
      "outputs": [
        {
          "name": "stdout",
          "output_type": "stream",
          "text": [
            "lerxst wam umd edu thing subject car nntp posting host rac wam umd edu organization university maryland college park lines wondering anyone could enlighten car saw day door sports car looked late early called bricklin doors really small addition front bumper separate rest body know anyone tellme model name engine specs years production car made history whatever info funky looking car please e mail thanks il brought neighborhood lerxst\n"
          ]
        }
      ],
      "source": [
        "print(newsgroups_train.preprocess_data[0])"
      ]
    },
    {
      "cell_type": "code",
      "execution_count": 31,
      "metadata": {
        "colab": {
          "base_uri": "https://localhost:8080/",
          "height": 55
        },
        "id": "N0GU53hfjI6C",
        "outputId": "0ccd8ccc-06ec-43e5-aa82-093f98c7dacd"
      },
      "outputs": [
        {
          "name": "stdout",
          "output_type": "stream",
          "text": [
            "lerxst wam umd edu thing subject car nntp post host rac wam umd edu org univers maryland colleg park lin wond anyon could enlight car saw day door sport car look lat ear cal bricklin door real smal addit front bump sep rest body know anyon tellm model nam engin spec year produc car mad hist whatev info funky look car pleas e mail thank il brought neighb lerxst\n"
          ]
        }
      ],
      "source": [
        "print(newsgroups_train.data_stemming[0])"
      ]
    },
    {
      "cell_type": "markdown",
      "metadata": {
        "id": "etnaHjcgOzu6"
      },
      "source": [
        "### 2. Перевод текста в вещественное пространство признаков"
      ]
    },
    {
      "cell_type": "markdown",
      "metadata": {
        "id": "Wk1VkR5IO7oO"
      },
      "source": [
        "#### 2.1 Bag of Words (мешок слов)"
      ]
    },
    {
      "cell_type": "markdown",
      "metadata": {
        "id": "hI8oo_G1PClx"
      },
      "source": [
        "Основное предположение данного метода — порядок слов в документе не важен,\n",
        "\n",
        "а все документы представляются в виде матрицы $ T = (t)_{d,w}$,\n",
        "\n",
        "каждая строка в которой соответствует отдельному документу или тексту,\n",
        "\n",
        "а каждый столбец — определенному слову.\n",
        "\n",
        "Элемент $t_{d,w}$ соответствует количеству вхождений слова $w$ в документ $d$.\n",
        "\n",
        "\n",
        "\n",
        "\n",
        "\n"
      ]
    },
    {
      "cell_type": "code",
      "execution_count": 86,
      "metadata": {
        "id": "WocMYLbTv9vC"
      },
      "outputs": [],
      "source": [
        "from sklearn.feature_extraction.text import CountVectorizer, TfidfVectorizer"
      ]
    },
    {
      "cell_type": "code",
      "execution_count": 87,
      "metadata": {
        "id": "VC_57sTEQBMa"
      },
      "outputs": [],
      "source": [
        "vectorizer = CountVectorizer()"
      ]
    },
    {
      "cell_type": "code",
      "execution_count": 88,
      "metadata": {},
      "outputs": [],
      "source": [
        "documents = [\"метод для восстановления зависимости между двумя переменными\",\"статистический метод используемый для задач\",\"набор алгоритмов обучения с учителем используемый для задач\"]"
      ]
    },
    {
      "cell_type": "code",
      "execution_count": 100,
      "metadata": {},
      "outputs": [
        {
          "name": "stdout",
          "output_type": "stream",
          "text": [
            "CountVectorizer feature names: ['алгоритмов' 'восстановления' 'двумя' 'для' 'зависимости' 'задач'\n",
            " 'используемый' 'между' 'метод' 'набор' 'обучения' 'переменными'\n",
            " 'статистический' 'учителем']\n",
            "CountVectorizer document-term matrix:\n",
            "[[0 1 1 1 1 0 0 1 1 0 0 1 0 0]\n",
            " [0 0 0 1 0 1 1 0 1 0 0 0 1 0]\n",
            " [1 0 0 1 0 1 1 0 0 1 1 0 0 1]]\n",
            "(3, 14)\n"
          ]
        }
      ],
      "source": [
        "count_vectorizer = CountVectorizer()\n",
        "X_count = count_vectorizer.fit_transform(documents)\n",
        "feature_names_count = count_vectorizer.get_feature_names_out()\n",
        "print(\"CountVectorizer feature names:\", feature_names_count)\n",
        "print(\"CountVectorizer document-term matrix:\")\n",
        "print(X_count.toarray())\n",
        "print(X_count.toarray().shape)"
      ]
    },
    {
      "cell_type": "code",
      "execution_count": 98,
      "metadata": {},
      "outputs": [
        {
          "ename": "TypeError",
          "evalue": "'csr_matrix' object is not callable",
          "output_type": "error",
          "traceback": [
            "\u001b[1;31m---------------------------------------------------------------------------\u001b[0m",
            "\u001b[1;31mTypeError\u001b[0m                                 Traceback (most recent call last)",
            "Cell \u001b[1;32mIn[98], line 1\u001b[0m\n\u001b[1;32m----> 1\u001b[0m sorted_weights \u001b[38;5;241m=\u001b[39m \u001b[38;5;28msorted\u001b[39m(\u001b[38;5;28mzip\u001b[39m(\u001b[43mX_tfidf\u001b[49m\u001b[43m(\u001b[49m\u001b[43m)\u001b[49m[\u001b[38;5;241m1\u001b[39m], feature_names_tfidf), reverse\u001b[38;5;241m=\u001b[39m\u001b[38;5;28;01mTrue\u001b[39;00m)\n",
            "\u001b[1;31mTypeError\u001b[0m: 'csr_matrix' object is not callable"
          ]
        }
      ],
      "source": [
        "sorted_weights = sorted(zip(X_tfidf()[1], feature_names_tfidf), reverse=True)"
      ]
    },
    {
      "cell_type": "code",
      "execution_count": 34,
      "metadata": {
        "colab": {
          "base_uri": "https://localhost:8080/",
          "height": 121
        },
        "id": "Aybc8qotQHh8",
        "outputId": "bb0be84e-fac9-4b1d-fc9c-29ccc6235ad5"
      },
      "outputs": [
        {
          "data": {
            "text/html": [
              "<style>#sk-container-id-1 {\n",
              "  /* Definition of color scheme common for light and dark mode */\n",
              "  --sklearn-color-text: black;\n",
              "  --sklearn-color-line: gray;\n",
              "  /* Definition of color scheme for unfitted estimators */\n",
              "  --sklearn-color-unfitted-level-0: #fff5e6;\n",
              "  --sklearn-color-unfitted-level-1: #f6e4d2;\n",
              "  --sklearn-color-unfitted-level-2: #ffe0b3;\n",
              "  --sklearn-color-unfitted-level-3: chocolate;\n",
              "  /* Definition of color scheme for fitted estimators */\n",
              "  --sklearn-color-fitted-level-0: #f0f8ff;\n",
              "  --sklearn-color-fitted-level-1: #d4ebff;\n",
              "  --sklearn-color-fitted-level-2: #b3dbfd;\n",
              "  --sklearn-color-fitted-level-3: cornflowerblue;\n",
              "\n",
              "  /* Specific color for light theme */\n",
              "  --sklearn-color-text-on-default-background: var(--sg-text-color, var(--theme-code-foreground, var(--jp-content-font-color1, black)));\n",
              "  --sklearn-color-background: var(--sg-background-color, var(--theme-background, var(--jp-layout-color0, white)));\n",
              "  --sklearn-color-border-box: var(--sg-text-color, var(--theme-code-foreground, var(--jp-content-font-color1, black)));\n",
              "  --sklearn-color-icon: #696969;\n",
              "\n",
              "  @media (prefers-color-scheme: dark) {\n",
              "    /* Redefinition of color scheme for dark theme */\n",
              "    --sklearn-color-text-on-default-background: var(--sg-text-color, var(--theme-code-foreground, var(--jp-content-font-color1, white)));\n",
              "    --sklearn-color-background: var(--sg-background-color, var(--theme-background, var(--jp-layout-color0, #111)));\n",
              "    --sklearn-color-border-box: var(--sg-text-color, var(--theme-code-foreground, var(--jp-content-font-color1, white)));\n",
              "    --sklearn-color-icon: #878787;\n",
              "  }\n",
              "}\n",
              "\n",
              "#sk-container-id-1 {\n",
              "  color: var(--sklearn-color-text);\n",
              "}\n",
              "\n",
              "#sk-container-id-1 pre {\n",
              "  padding: 0;\n",
              "}\n",
              "\n",
              "#sk-container-id-1 input.sk-hidden--visually {\n",
              "  border: 0;\n",
              "  clip: rect(1px 1px 1px 1px);\n",
              "  clip: rect(1px, 1px, 1px, 1px);\n",
              "  height: 1px;\n",
              "  margin: -1px;\n",
              "  overflow: hidden;\n",
              "  padding: 0;\n",
              "  position: absolute;\n",
              "  width: 1px;\n",
              "}\n",
              "\n",
              "#sk-container-id-1 div.sk-dashed-wrapped {\n",
              "  border: 1px dashed var(--sklearn-color-line);\n",
              "  margin: 0 0.4em 0.5em 0.4em;\n",
              "  box-sizing: border-box;\n",
              "  padding-bottom: 0.4em;\n",
              "  background-color: var(--sklearn-color-background);\n",
              "}\n",
              "\n",
              "#sk-container-id-1 div.sk-container {\n",
              "  /* jupyter's `normalize.less` sets `[hidden] { display: none; }`\n",
              "     but bootstrap.min.css set `[hidden] { display: none !important; }`\n",
              "     so we also need the `!important` here to be able to override the\n",
              "     default hidden behavior on the sphinx rendered scikit-learn.org.\n",
              "     See: https://github.com/scikit-learn/scikit-learn/issues/21755 */\n",
              "  display: inline-block !important;\n",
              "  position: relative;\n",
              "}\n",
              "\n",
              "#sk-container-id-1 div.sk-text-repr-fallback {\n",
              "  display: none;\n",
              "}\n",
              "\n",
              "div.sk-parallel-item,\n",
              "div.sk-serial,\n",
              "div.sk-item {\n",
              "  /* draw centered vertical line to link estimators */\n",
              "  background-image: linear-gradient(var(--sklearn-color-text-on-default-background), var(--sklearn-color-text-on-default-background));\n",
              "  background-size: 2px 100%;\n",
              "  background-repeat: no-repeat;\n",
              "  background-position: center center;\n",
              "}\n",
              "\n",
              "/* Parallel-specific style estimator block */\n",
              "\n",
              "#sk-container-id-1 div.sk-parallel-item::after {\n",
              "  content: \"\";\n",
              "  width: 100%;\n",
              "  border-bottom: 2px solid var(--sklearn-color-text-on-default-background);\n",
              "  flex-grow: 1;\n",
              "}\n",
              "\n",
              "#sk-container-id-1 div.sk-parallel {\n",
              "  display: flex;\n",
              "  align-items: stretch;\n",
              "  justify-content: center;\n",
              "  background-color: var(--sklearn-color-background);\n",
              "  position: relative;\n",
              "}\n",
              "\n",
              "#sk-container-id-1 div.sk-parallel-item {\n",
              "  display: flex;\n",
              "  flex-direction: column;\n",
              "}\n",
              "\n",
              "#sk-container-id-1 div.sk-parallel-item:first-child::after {\n",
              "  align-self: flex-end;\n",
              "  width: 50%;\n",
              "}\n",
              "\n",
              "#sk-container-id-1 div.sk-parallel-item:last-child::after {\n",
              "  align-self: flex-start;\n",
              "  width: 50%;\n",
              "}\n",
              "\n",
              "#sk-container-id-1 div.sk-parallel-item:only-child::after {\n",
              "  width: 0;\n",
              "}\n",
              "\n",
              "/* Serial-specific style estimator block */\n",
              "\n",
              "#sk-container-id-1 div.sk-serial {\n",
              "  display: flex;\n",
              "  flex-direction: column;\n",
              "  align-items: center;\n",
              "  background-color: var(--sklearn-color-background);\n",
              "  padding-right: 1em;\n",
              "  padding-left: 1em;\n",
              "}\n",
              "\n",
              "\n",
              "/* Toggleable style: style used for estimator/Pipeline/ColumnTransformer box that is\n",
              "clickable and can be expanded/collapsed.\n",
              "- Pipeline and ColumnTransformer use this feature and define the default style\n",
              "- Estimators will overwrite some part of the style using the `sk-estimator` class\n",
              "*/\n",
              "\n",
              "/* Pipeline and ColumnTransformer style (default) */\n",
              "\n",
              "#sk-container-id-1 div.sk-toggleable {\n",
              "  /* Default theme specific background. It is overwritten whether we have a\n",
              "  specific estimator or a Pipeline/ColumnTransformer */\n",
              "  background-color: var(--sklearn-color-background);\n",
              "}\n",
              "\n",
              "/* Toggleable label */\n",
              "#sk-container-id-1 label.sk-toggleable__label {\n",
              "  cursor: pointer;\n",
              "  display: block;\n",
              "  width: 100%;\n",
              "  margin-bottom: 0;\n",
              "  padding: 0.5em;\n",
              "  box-sizing: border-box;\n",
              "  text-align: center;\n",
              "}\n",
              "\n",
              "#sk-container-id-1 label.sk-toggleable__label-arrow:before {\n",
              "  /* Arrow on the left of the label */\n",
              "  content: \"▸\";\n",
              "  float: left;\n",
              "  margin-right: 0.25em;\n",
              "  color: var(--sklearn-color-icon);\n",
              "}\n",
              "\n",
              "#sk-container-id-1 label.sk-toggleable__label-arrow:hover:before {\n",
              "  color: var(--sklearn-color-text);\n",
              "}\n",
              "\n",
              "/* Toggleable content - dropdown */\n",
              "\n",
              "#sk-container-id-1 div.sk-toggleable__content {\n",
              "  max-height: 0;\n",
              "  max-width: 0;\n",
              "  overflow: hidden;\n",
              "  text-align: left;\n",
              "  /* unfitted */\n",
              "  background-color: var(--sklearn-color-unfitted-level-0);\n",
              "}\n",
              "\n",
              "#sk-container-id-1 div.sk-toggleable__content.fitted {\n",
              "  /* fitted */\n",
              "  background-color: var(--sklearn-color-fitted-level-0);\n",
              "}\n",
              "\n",
              "#sk-container-id-1 div.sk-toggleable__content pre {\n",
              "  margin: 0.2em;\n",
              "  border-radius: 0.25em;\n",
              "  color: var(--sklearn-color-text);\n",
              "  /* unfitted */\n",
              "  background-color: var(--sklearn-color-unfitted-level-0);\n",
              "}\n",
              "\n",
              "#sk-container-id-1 div.sk-toggleable__content.fitted pre {\n",
              "  /* unfitted */\n",
              "  background-color: var(--sklearn-color-fitted-level-0);\n",
              "}\n",
              "\n",
              "#sk-container-id-1 input.sk-toggleable__control:checked~div.sk-toggleable__content {\n",
              "  /* Expand drop-down */\n",
              "  max-height: 200px;\n",
              "  max-width: 100%;\n",
              "  overflow: auto;\n",
              "}\n",
              "\n",
              "#sk-container-id-1 input.sk-toggleable__control:checked~label.sk-toggleable__label-arrow:before {\n",
              "  content: \"▾\";\n",
              "}\n",
              "\n",
              "/* Pipeline/ColumnTransformer-specific style */\n",
              "\n",
              "#sk-container-id-1 div.sk-label input.sk-toggleable__control:checked~label.sk-toggleable__label {\n",
              "  color: var(--sklearn-color-text);\n",
              "  background-color: var(--sklearn-color-unfitted-level-2);\n",
              "}\n",
              "\n",
              "#sk-container-id-1 div.sk-label.fitted input.sk-toggleable__control:checked~label.sk-toggleable__label {\n",
              "  background-color: var(--sklearn-color-fitted-level-2);\n",
              "}\n",
              "\n",
              "/* Estimator-specific style */\n",
              "\n",
              "/* Colorize estimator box */\n",
              "#sk-container-id-1 div.sk-estimator input.sk-toggleable__control:checked~label.sk-toggleable__label {\n",
              "  /* unfitted */\n",
              "  background-color: var(--sklearn-color-unfitted-level-2);\n",
              "}\n",
              "\n",
              "#sk-container-id-1 div.sk-estimator.fitted input.sk-toggleable__control:checked~label.sk-toggleable__label {\n",
              "  /* fitted */\n",
              "  background-color: var(--sklearn-color-fitted-level-2);\n",
              "}\n",
              "\n",
              "#sk-container-id-1 div.sk-label label.sk-toggleable__label,\n",
              "#sk-container-id-1 div.sk-label label {\n",
              "  /* The background is the default theme color */\n",
              "  color: var(--sklearn-color-text-on-default-background);\n",
              "}\n",
              "\n",
              "/* On hover, darken the color of the background */\n",
              "#sk-container-id-1 div.sk-label:hover label.sk-toggleable__label {\n",
              "  color: var(--sklearn-color-text);\n",
              "  background-color: var(--sklearn-color-unfitted-level-2);\n",
              "}\n",
              "\n",
              "/* Label box, darken color on hover, fitted */\n",
              "#sk-container-id-1 div.sk-label.fitted:hover label.sk-toggleable__label.fitted {\n",
              "  color: var(--sklearn-color-text);\n",
              "  background-color: var(--sklearn-color-fitted-level-2);\n",
              "}\n",
              "\n",
              "/* Estimator label */\n",
              "\n",
              "#sk-container-id-1 div.sk-label label {\n",
              "  font-family: monospace;\n",
              "  font-weight: bold;\n",
              "  display: inline-block;\n",
              "  line-height: 1.2em;\n",
              "}\n",
              "\n",
              "#sk-container-id-1 div.sk-label-container {\n",
              "  text-align: center;\n",
              "}\n",
              "\n",
              "/* Estimator-specific */\n",
              "#sk-container-id-1 div.sk-estimator {\n",
              "  font-family: monospace;\n",
              "  border: 1px dotted var(--sklearn-color-border-box);\n",
              "  border-radius: 0.25em;\n",
              "  box-sizing: border-box;\n",
              "  margin-bottom: 0.5em;\n",
              "  /* unfitted */\n",
              "  background-color: var(--sklearn-color-unfitted-level-0);\n",
              "}\n",
              "\n",
              "#sk-container-id-1 div.sk-estimator.fitted {\n",
              "  /* fitted */\n",
              "  background-color: var(--sklearn-color-fitted-level-0);\n",
              "}\n",
              "\n",
              "/* on hover */\n",
              "#sk-container-id-1 div.sk-estimator:hover {\n",
              "  /* unfitted */\n",
              "  background-color: var(--sklearn-color-unfitted-level-2);\n",
              "}\n",
              "\n",
              "#sk-container-id-1 div.sk-estimator.fitted:hover {\n",
              "  /* fitted */\n",
              "  background-color: var(--sklearn-color-fitted-level-2);\n",
              "}\n",
              "\n",
              "/* Specification for estimator info (e.g. \"i\" and \"?\") */\n",
              "\n",
              "/* Common style for \"i\" and \"?\" */\n",
              "\n",
              ".sk-estimator-doc-link,\n",
              "a:link.sk-estimator-doc-link,\n",
              "a:visited.sk-estimator-doc-link {\n",
              "  float: right;\n",
              "  font-size: smaller;\n",
              "  line-height: 1em;\n",
              "  font-family: monospace;\n",
              "  background-color: var(--sklearn-color-background);\n",
              "  border-radius: 1em;\n",
              "  height: 1em;\n",
              "  width: 1em;\n",
              "  text-decoration: none !important;\n",
              "  margin-left: 1ex;\n",
              "  /* unfitted */\n",
              "  border: var(--sklearn-color-unfitted-level-1) 1pt solid;\n",
              "  color: var(--sklearn-color-unfitted-level-1);\n",
              "}\n",
              "\n",
              ".sk-estimator-doc-link.fitted,\n",
              "a:link.sk-estimator-doc-link.fitted,\n",
              "a:visited.sk-estimator-doc-link.fitted {\n",
              "  /* fitted */\n",
              "  border: var(--sklearn-color-fitted-level-1) 1pt solid;\n",
              "  color: var(--sklearn-color-fitted-level-1);\n",
              "}\n",
              "\n",
              "/* On hover */\n",
              "div.sk-estimator:hover .sk-estimator-doc-link:hover,\n",
              ".sk-estimator-doc-link:hover,\n",
              "div.sk-label-container:hover .sk-estimator-doc-link:hover,\n",
              ".sk-estimator-doc-link:hover {\n",
              "  /* unfitted */\n",
              "  background-color: var(--sklearn-color-unfitted-level-3);\n",
              "  color: var(--sklearn-color-background);\n",
              "  text-decoration: none;\n",
              "}\n",
              "\n",
              "div.sk-estimator.fitted:hover .sk-estimator-doc-link.fitted:hover,\n",
              ".sk-estimator-doc-link.fitted:hover,\n",
              "div.sk-label-container:hover .sk-estimator-doc-link.fitted:hover,\n",
              ".sk-estimator-doc-link.fitted:hover {\n",
              "  /* fitted */\n",
              "  background-color: var(--sklearn-color-fitted-level-3);\n",
              "  color: var(--sklearn-color-background);\n",
              "  text-decoration: none;\n",
              "}\n",
              "\n",
              "/* Span, style for the box shown on hovering the info icon */\n",
              ".sk-estimator-doc-link span {\n",
              "  display: none;\n",
              "  z-index: 9999;\n",
              "  position: relative;\n",
              "  font-weight: normal;\n",
              "  right: .2ex;\n",
              "  padding: .5ex;\n",
              "  margin: .5ex;\n",
              "  width: min-content;\n",
              "  min-width: 20ex;\n",
              "  max-width: 50ex;\n",
              "  color: var(--sklearn-color-text);\n",
              "  box-shadow: 2pt 2pt 4pt #999;\n",
              "  /* unfitted */\n",
              "  background: var(--sklearn-color-unfitted-level-0);\n",
              "  border: .5pt solid var(--sklearn-color-unfitted-level-3);\n",
              "}\n",
              "\n",
              ".sk-estimator-doc-link.fitted span {\n",
              "  /* fitted */\n",
              "  background: var(--sklearn-color-fitted-level-0);\n",
              "  border: var(--sklearn-color-fitted-level-3);\n",
              "}\n",
              "\n",
              ".sk-estimator-doc-link:hover span {\n",
              "  display: block;\n",
              "}\n",
              "\n",
              "/* \"?\"-specific style due to the `<a>` HTML tag */\n",
              "\n",
              "#sk-container-id-1 a.estimator_doc_link {\n",
              "  float: right;\n",
              "  font-size: 1rem;\n",
              "  line-height: 1em;\n",
              "  font-family: monospace;\n",
              "  background-color: var(--sklearn-color-background);\n",
              "  border-radius: 1rem;\n",
              "  height: 1rem;\n",
              "  width: 1rem;\n",
              "  text-decoration: none;\n",
              "  /* unfitted */\n",
              "  color: var(--sklearn-color-unfitted-level-1);\n",
              "  border: var(--sklearn-color-unfitted-level-1) 1pt solid;\n",
              "}\n",
              "\n",
              "#sk-container-id-1 a.estimator_doc_link.fitted {\n",
              "  /* fitted */\n",
              "  border: var(--sklearn-color-fitted-level-1) 1pt solid;\n",
              "  color: var(--sklearn-color-fitted-level-1);\n",
              "}\n",
              "\n",
              "/* On hover */\n",
              "#sk-container-id-1 a.estimator_doc_link:hover {\n",
              "  /* unfitted */\n",
              "  background-color: var(--sklearn-color-unfitted-level-3);\n",
              "  color: var(--sklearn-color-background);\n",
              "  text-decoration: none;\n",
              "}\n",
              "\n",
              "#sk-container-id-1 a.estimator_doc_link.fitted:hover {\n",
              "  /* fitted */\n",
              "  background-color: var(--sklearn-color-fitted-level-3);\n",
              "}\n",
              "</style><div id=\"sk-container-id-1\" class=\"sk-top-container\"><div class=\"sk-text-repr-fallback\"><pre>CountVectorizer()</pre><b>In a Jupyter environment, please rerun this cell to show the HTML representation or trust the notebook. <br />On GitHub, the HTML representation is unable to render, please try loading this page with nbviewer.org.</b></div><div class=\"sk-container\" hidden><div class=\"sk-item\"><div class=\"sk-estimator fitted sk-toggleable\"><input class=\"sk-toggleable__control sk-hidden--visually\" id=\"sk-estimator-id-1\" type=\"checkbox\" checked><label for=\"sk-estimator-id-1\" class=\"sk-toggleable__label fitted sk-toggleable__label-arrow fitted\">&nbsp;&nbsp;CountVectorizer<a class=\"sk-estimator-doc-link fitted\" rel=\"noreferrer\" target=\"_blank\" href=\"https://scikit-learn.org/1.5/modules/generated/sklearn.feature_extraction.text.CountVectorizer.html\">?<span>Documentation for CountVectorizer</span></a><span class=\"sk-estimator-doc-link fitted\">i<span>Fitted</span></span></label><div class=\"sk-toggleable__content fitted\"><pre>CountVectorizer()</pre></div> </div></div></div></div>"
            ],
            "text/plain": [
              "CountVectorizer()"
            ]
          },
          "execution_count": 34,
          "metadata": {},
          "output_type": "execute_result"
        }
      ],
      "source": [
        "vectorizer.fit(['порядок слов в документе не важен', 'мешок слов'])\n",
        "# обучаем на 2-х документах типа"
      ]
    },
    {
      "cell_type": "code",
      "execution_count": 36,
      "metadata": {
        "colab": {
          "base_uri": "https://localhost:8080/",
          "height": 35
        },
        "id": "LM1spxAeQe3q",
        "outputId": "4558eac4-6bfe-4f63-b00d-2f8d38955a25"
      },
      "outputs": [
        {
          "data": {
            "text/plain": [
              "array(['важен', 'документе', 'мешок', 'не', 'порядок', 'слов'],\n",
              "      dtype=object)"
            ]
          },
          "execution_count": 36,
          "metadata": {},
          "output_type": "execute_result"
        }
      ],
      "source": [
        "vectorizer.get_feature_names_out()"
      ]
    },
    {
      "cell_type": "code",
      "execution_count": 37,
      "metadata": {
        "colab": {
          "base_uri": "https://localhost:8080/",
          "height": 52
        },
        "id": "dvG4o-1kQn3z",
        "outputId": "77607385-eb9b-4930-f737-25a7736301b3"
      },
      "outputs": [
        {
          "data": {
            "text/plain": [
              "array([[1, 0, 0, 0, 1, 0],\n",
              "       [0, 0, 1, 2, 1, 0]])"
            ]
          },
          "execution_count": 37,
          "metadata": {},
          "output_type": "execute_result"
        }
      ],
      "source": [
        "vectorizer.transform(['важен порядок', 'не мешок не порядок']).toarray()"
      ]
    },
    {
      "cell_type": "code",
      "execution_count": 38,
      "metadata": {
        "id": "4fednKkjeE-_"
      },
      "outputs": [],
      "source": [
        "def bow(vectorizer, train, test):\n",
        "  train_bow = vectorizer.fit_transform(train)\n",
        "  test_bow = vectorizer.transform(test)\n",
        "  return train_bow, test_bow"
      ]
    },
    {
      "cell_type": "code",
      "execution_count": 39,
      "metadata": {
        "id": "LEPL9R0jfUc-"
      },
      "outputs": [],
      "source": [
        "X_train_bow, X_test_bow = bow(vectorizer,\n",
        "                              newsgroups_train.data,\n",
        "                              newsgroups_test.data)"
      ]
    },
    {
      "cell_type": "code",
      "execution_count": 40,
      "metadata": {
        "colab": {
          "base_uri": "https://localhost:8080/",
          "height": 35
        },
        "id": "xaETMkjcfuTv",
        "outputId": "30b796a8-e1d3-47d5-ac21-14fde414f992"
      },
      "outputs": [
        {
          "data": {
            "text/plain": [
              "(11314, 130107)"
            ]
          },
          "execution_count": 40,
          "metadata": {},
          "output_type": "execute_result"
        }
      ],
      "source": [
        "X_train_bow.shape"
      ]
    },
    {
      "cell_type": "code",
      "execution_count": 41,
      "metadata": {
        "colab": {
          "base_uri": "https://localhost:8080/",
          "height": 35
        },
        "id": "VXwbJ1OBf1SV",
        "outputId": "3eec8e8f-45a5-4bd4-8d15-36cc74bbb67a"
      },
      "outputs": [
        {
          "data": {
            "text/plain": [
              "(7532, 130107)"
            ]
          },
          "execution_count": 41,
          "metadata": {},
          "output_type": "execute_result"
        }
      ],
      "source": [
        "X_test_bow.shape"
      ]
    },
    {
      "cell_type": "code",
      "execution_count": 42,
      "metadata": {
        "id": "IEfDbzuRgDSY"
      },
      "outputs": [],
      "source": [
        "X_train_bow_preprocess, X_test_bow_preprocess = bow(vectorizer,\n",
        "                                                    newsgroups_train.preprocess_data,\n",
        "                                                    newsgroups_test.preprocess_data)"
      ]
    },
    {
      "cell_type": "code",
      "execution_count": 43,
      "metadata": {
        "colab": {
          "base_uri": "https://localhost:8080/",
          "height": 35
        },
        "id": "D2BHnhodjIIs",
        "outputId": "3b336a68-9087-4a38-e8ee-a0090bf05469"
      },
      "outputs": [
        {
          "data": {
            "text/plain": [
              "(11314, 88863)"
            ]
          },
          "execution_count": 43,
          "metadata": {},
          "output_type": "execute_result"
        }
      ],
      "source": [
        "X_train_bow_preprocess.shape"
      ]
    },
    {
      "cell_type": "code",
      "execution_count": 44,
      "metadata": {
        "colab": {
          "base_uri": "https://localhost:8080/",
          "height": 35
        },
        "id": "-vxGrCfejLVX",
        "outputId": "186a8c1b-8a1b-4f37-acee-e6531c8af76f"
      },
      "outputs": [
        {
          "data": {
            "text/plain": [
              "(7532, 88863)"
            ]
          },
          "execution_count": 44,
          "metadata": {},
          "output_type": "execute_result"
        }
      ],
      "source": [
        "X_test_bow_preprocess.shape"
      ]
    },
    {
      "cell_type": "code",
      "execution_count": 45,
      "metadata": {
        "id": "ftID74NijN7q"
      },
      "outputs": [],
      "source": [
        "X_train_bow_stem, X_test_bow_stem = bow(vectorizer,\n",
        "                                        newsgroups_train.data_stemming,\n",
        "                                        newsgroups_test.data_stemming)"
      ]
    },
    {
      "cell_type": "code",
      "execution_count": 46,
      "metadata": {
        "colab": {
          "base_uri": "https://localhost:8080/",
          "height": 35
        },
        "id": "BDErCxTPjgr1",
        "outputId": "b245b699-212b-4cf2-e357-4f1f12b86fc8"
      },
      "outputs": [
        {
          "data": {
            "text/plain": [
              "(11314, 61221)"
            ]
          },
          "execution_count": 46,
          "metadata": {},
          "output_type": "execute_result"
        }
      ],
      "source": [
        "X_train_bow_stem.shape"
      ]
    },
    {
      "cell_type": "code",
      "execution_count": 47,
      "metadata": {
        "colab": {
          "base_uri": "https://localhost:8080/",
          "height": 35
        },
        "id": "xoTAihrHjlnk",
        "outputId": "85065200-c0ff-4e10-ec79-beb7205b1240"
      },
      "outputs": [
        {
          "data": {
            "text/plain": [
              "(7532, 61221)"
            ]
          },
          "execution_count": 47,
          "metadata": {},
          "output_type": "execute_result"
        }
      ],
      "source": [
        "X_test_bow_stem.shape"
      ]
    },
    {
      "cell_type": "markdown",
      "metadata": {
        "id": "8JvGQleCSvHS"
      },
      "source": [
        "#### 2.2 Bag of Words & TF IDF"
      ]
    },
    {
      "cell_type": "markdown",
      "metadata": {
        "id": "8YSNwHr2SRMh"
      },
      "source": [
        "$TF-IDF$ — это статистическая мера, используемая для оценки\n",
        "\n",
        "важности слова в контексте документа. Вычисляется по формуле:\n",
        "\n",
        "$$TF-IDF(w, d, D) = TF(w, d) × IDF(w, D)$$\n",
        "\n",
        "$TF$ — частота слова, оценивает важность слова $w_i$ в пределах отдельного документа.\n",
        "\n",
        "$$TF(w, d) = \\frac{n_i}{\\sum_k n_k}$$\n",
        "\n",
        "$n_i$ — число вхождений слова $i$ в документ.\n",
        "\n",
        "$\\sum_k n_k$ — общее число слов в данном документе.\n",
        "\n",
        "$IDF$ — обратная частота документа.\n",
        "\n",
        "Учёт $IDF$ уменьшает вес широко употребляемых слов.\n",
        "$$IDF(w, D) = \\log \\frac{|D|}{|w_i \\subset d_i|}, \\text{где}$$\n",
        "\n",
        "$|D|$ — количество документов в корпусе.\n",
        "\n",
        "$|w_i \\subset d_i|$ — количество документов,\n",
        "\n",
        "в которых встречается слово $w_i$."
      ]
    },
    {
      "cell_type": "code",
      "execution_count": 48,
      "metadata": {
        "id": "rteG9u1zjovT"
      },
      "outputs": [],
      "source": [
        "from sklearn.feature_extraction.text import TfidfVectorizer"
      ]
    },
    {
      "cell_type": "code",
      "execution_count": 49,
      "metadata": {
        "id": "FKZDpujwkIdK"
      },
      "outputs": [],
      "source": [
        "vectorizer_tf_idf = TfidfVectorizer()"
      ]
    },
    {
      "cell_type": "code",
      "execution_count": 50,
      "metadata": {
        "id": "KlDqTbIFkSq2"
      },
      "outputs": [],
      "source": [
        "X_train_tfidf, X_test_tfidf = bow(vectorizer_tf_idf,\n",
        "                                  newsgroups_train.data,\n",
        "                                  newsgroups_test.data)"
      ]
    },
    {
      "cell_type": "code",
      "execution_count": 51,
      "metadata": {
        "id": "1JTYu0JEkqVi"
      },
      "outputs": [],
      "source": [
        "X_train_tfidf_preprocess, X_test_tfidf_preprocess = bow(vectorizer_tf_idf,\n",
        "                                                        newsgroups_train.preprocess_data,\n",
        "                                                        newsgroups_test.preprocess_data)"
      ]
    },
    {
      "cell_type": "code",
      "execution_count": 52,
      "metadata": {
        "id": "0zmpdGT1lIWL"
      },
      "outputs": [],
      "source": [
        "X_train_tfidf_stem, X_test_tfidf_stem = bow(vectorizer_tf_idf,\n",
        "                                            newsgroups_train.data_stemming,\n",
        "                                            newsgroups_test.data_stemming)"
      ]
    },
    {
      "cell_type": "code",
      "execution_count": 53,
      "metadata": {
        "id": "3u-SKgBXlbRq"
      },
      "outputs": [],
      "source": [
        "vectorizer_ngram = TfidfVectorizer(ngram_range=(1,2))"
      ]
    },
    {
      "cell_type": "code",
      "execution_count": 54,
      "metadata": {
        "id": "eFKYG1uRmZgV"
      },
      "outputs": [],
      "source": [
        "X_train_ngram_stem, X_test_ngram_stem = bow(vectorizer_ngram,\n",
        "                                            newsgroups_train.data_stemming,\n",
        "                                            newsgroups_test.data_stemming)"
      ]
    },
    {
      "cell_type": "code",
      "execution_count": 55,
      "metadata": {
        "colab": {
          "base_uri": "https://localhost:8080/",
          "height": 35
        },
        "id": "D4xEOvcanTgN",
        "outputId": "1dab3d27-770d-4f84-9c42-c2fef0bf7906"
      },
      "outputs": [
        {
          "data": {
            "text/plain": [
              "(11314, 934463)"
            ]
          },
          "execution_count": 55,
          "metadata": {},
          "output_type": "execute_result"
        }
      ],
      "source": [
        "X_train_ngram_stem.shape"
      ]
    },
    {
      "cell_type": "code",
      "execution_count": 56,
      "metadata": {
        "colab": {
          "base_uri": "https://localhost:8080/",
          "height": 35
        },
        "id": "Vq4oBoQwnaU-",
        "outputId": "2133a654-d4fe-43a5-a5f9-ff106b4ca2e7"
      },
      "outputs": [
        {
          "data": {
            "text/plain": [
              "(7532, 934463)"
            ]
          },
          "execution_count": 56,
          "metadata": {},
          "output_type": "execute_result"
        }
      ],
      "source": [
        "X_test_ngram_stem.shape"
      ]
    },
    {
      "cell_type": "markdown",
      "metadata": {
        "id": "DdeFw_f58fw4"
      },
      "source": [
        "### 3. Выбор алгоритма машинного обучения для классификации."
      ]
    },
    {
      "cell_type": "code",
      "execution_count": 57,
      "metadata": {
        "id": "GhRQvNYLndMl"
      },
      "outputs": [],
      "source": [
        "from sklearn.metrics import accuracy_score\n",
        "import numpy as np"
      ]
    },
    {
      "cell_type": "code",
      "execution_count": 63,
      "metadata": {
        "id": "47mZPCNrZzMk"
      },
      "outputs": [],
      "source": [
        "from sklearn.linear_model import LogisticRegression\n",
        "clf = LogisticRegression(n_jobs=-1)"
      ]
    },
    {
      "cell_type": "code",
      "execution_count": 64,
      "metadata": {
        "id": "doizgpm8TJGl"
      },
      "outputs": [],
      "source": [
        "from sklearn.svm import LinearSVC\n",
        "clf_svc = LinearSVC()"
      ]
    },
    {
      "cell_type": "code",
      "execution_count": 65,
      "metadata": {
        "colab": {
          "base_uri": "https://localhost:8080/",
          "height": 52
        },
        "id": "BxB4gQxUZzG4",
        "outputId": "f9fd7d81-0c0d-4d34-a0ab-628947edd5d8"
      },
      "outputs": [
        {
          "name": "stdout",
          "output_type": "stream",
          "text": [
            "LogisticRegression:  0.7889006903876792\n",
            "LinearSVC:  0.7858470525756771\n"
          ]
        }
      ],
      "source": [
        "clf.fit(X_train_bow, newsgroups_train.target)\n",
        "print ('LogisticRegression: ',\n",
        "       accuracy_score(clf.predict(X_test_bow), newsgroups_test.target))\n",
        "\n",
        "clf_svc.fit(X_train_bow, newsgroups_train.target)\n",
        "print ('LinearSVC: ',\n",
        "       accuracy_score(clf_svc.predict(X_test_bow), newsgroups_test.target))"
      ]
    },
    {
      "cell_type": "code",
      "execution_count": 66,
      "metadata": {
        "colab": {
          "base_uri": "https://localhost:8080/",
          "height": 52
        },
        "id": "9e9N2wHqZzAo",
        "outputId": "d9d4ea7f-b18a-44ae-a71e-c10c304c2275"
      },
      "outputs": [
        {
          "name": "stdout",
          "output_type": "stream",
          "text": [
            "LogisticRegression:  0.8009824747742963\n",
            "LinearSVC:  0.7930164630908125\n"
          ]
        }
      ],
      "source": [
        "clf.fit(X_train_bow_preprocess, newsgroups_train.target)\n",
        "print ('LogisticRegression: ',\n",
        "       accuracy_score(clf.predict(X_test_bow_preprocess),\n",
        "                      newsgroups_test.target))\n",
        "\n",
        "clf_svc.fit(X_train_bow_preprocess, newsgroups_train.target)\n",
        "print ('LinearSVC: ',\n",
        "       accuracy_score(clf_svc.predict(X_test_bow_preprocess),\n",
        "                      newsgroups_test.target))\n",
        "\n"
      ]
    },
    {
      "cell_type": "code",
      "execution_count": 67,
      "metadata": {
        "colab": {
          "base_uri": "https://localhost:8080/",
          "height": 52
        },
        "id": "gjNzmA3eZy7O",
        "outputId": "c23db17e-7500-4b57-dc57-c891c4edee69"
      },
      "outputs": [
        {
          "name": "stdout",
          "output_type": "stream",
          "text": [
            "LogisticRegression:  0.7966011683483802\n",
            "LinearSVC:  0.781465746149761\n"
          ]
        }
      ],
      "source": [
        "clf.fit(X_train_bow_stem, newsgroups_train.target)\n",
        "print ('LogisticRegression: ',\n",
        "       accuracy_score(clf.predict(X_test_bow_stem),\n",
        "                      newsgroups_test.target))\n",
        "\n",
        "clf_svc.fit(X_train_bow_stem, newsgroups_train.target)\n",
        "print ('LinearSVC: ',\n",
        "       accuracy_score(clf_svc.predict(X_test_bow_stem),\n",
        "                      newsgroups_test.target))"
      ]
    },
    {
      "cell_type": "code",
      "execution_count": 68,
      "metadata": {
        "colab": {
          "base_uri": "https://localhost:8080/",
          "height": 52
        },
        "id": "dz9GwO-NZyyg",
        "outputId": "e2aea1a5-a8ef-4fcf-9079-7571c8e8293e"
      },
      "outputs": [
        {
          "name": "stdout",
          "output_type": "stream",
          "text": [
            "LogisticRegression:  0.8278013807753585\n",
            "LinearSVC:  0.8531598513011153\n"
          ]
        }
      ],
      "source": [
        "clf.fit(X_train_tfidf, newsgroups_train.target)\n",
        "print ('LogisticRegression: ',\n",
        "       accuracy_score(clf.predict(X_test_tfidf), newsgroups_test.target))\n",
        "\n",
        "clf_svc.fit(X_train_tfidf, newsgroups_train.target)\n",
        "print ('LinearSVC: ',\n",
        "       accuracy_score(clf_svc.predict(X_test_tfidf), newsgroups_test.target))"
      ]
    },
    {
      "cell_type": "code",
      "execution_count": 69,
      "metadata": {
        "colab": {
          "base_uri": "https://localhost:8080/",
          "height": 52
        },
        "id": "OTVeqc4GZyei",
        "outputId": "2fee7c8a-e925-4726-b82c-3a54b1847091"
      },
      "outputs": [
        {
          "name": "stdout",
          "output_type": "stream",
          "text": [
            "LogisticRegression:  0.8319171534784918\n",
            "LinearSVC:  0.8509028146574615\n"
          ]
        }
      ],
      "source": [
        "clf.fit(X_train_tfidf_preprocess, newsgroups_train.target)\n",
        "print ('LogisticRegression: ',\n",
        "        accuracy_score(clf.predict(X_test_tfidf_preprocess),\n",
        "                       newsgroups_test.target))\n",
        "\n",
        "clf_svc.fit(X_train_tfidf_preprocess, newsgroups_train.target)\n",
        "print ('LinearSVC: ',\n",
        "        accuracy_score(clf_svc.predict(X_test_tfidf_preprocess),\n",
        "                       newsgroups_test.target))"
      ]
    },
    {
      "cell_type": "code",
      "execution_count": 70,
      "metadata": {
        "colab": {
          "base_uri": "https://localhost:8080/",
          "height": 52
        },
        "id": "AsWsVay6Zyax",
        "outputId": "412684a2-16c2-482d-8c2f-f3d4263b3aab"
      },
      "outputs": [
        {
          "name": "stdout",
          "output_type": "stream",
          "text": [
            "LogisticRegression:  0.825942644715879\n",
            "LinearSVC:  0.8437334041423261\n"
          ]
        }
      ],
      "source": [
        "clf.fit(X_train_tfidf_stem, newsgroups_train.target)\n",
        "print ('LogisticRegression: ',\n",
        "       accuracy_score(clf.predict(X_test_tfidf_stem),\n",
        "                      newsgroups_test.target))\n",
        "\n",
        "clf_svc.fit(X_train_tfidf_stem, newsgroups_train.target)\n",
        "print ('LinearSVC: ',\n",
        "       accuracy_score(clf_svc.predict(X_test_tfidf_stem),\n",
        "                      newsgroups_test.target))"
      ]
    },
    {
      "cell_type": "code",
      "execution_count": 71,
      "metadata": {
        "colab": {
          "base_uri": "https://localhost:8080/",
          "height": 52
        },
        "id": "EpIlTWoYZyYU",
        "outputId": "609e1aa2-5671-46de-dd2d-bb01a68b0192"
      },
      "outputs": [
        {
          "name": "stdout",
          "output_type": "stream",
          "text": [
            "LogisticRegression:  0.8293945831120553\n",
            "LinearSVC:  0.8555496548061604\n"
          ]
        }
      ],
      "source": [
        "clf.fit(X_train_ngram_stem, newsgroups_train.target)\n",
        "print ('LogisticRegression: ',\n",
        "       accuracy_score(clf.predict(X_test_ngram_stem),\n",
        "                      newsgroups_test.target))\n",
        "\n",
        "clf_svc.fit(X_train_ngram_stem, newsgroups_train.target)\n",
        "print ('LinearSVC: ',\n",
        "       accuracy_score(clf_svc.predict(X_test_ngram_stem),\n",
        "                      newsgroups_test.target))"
      ]
    },
    {
      "cell_type": "code",
      "execution_count": 73,
      "metadata": {
        "id": "JJHWFcawjVKd"
      },
      "outputs": [],
      "source": [
        "import seaborn\n",
        "from sklearn.metrics import confusion_matrix"
      ]
    },
    {
      "cell_type": "code",
      "execution_count": 74,
      "metadata": {
        "id": "WcuEWD2IjVII"
      },
      "outputs": [],
      "source": [
        "predict_targets = clf_svc.predict(X_test_ngram_stem)"
      ]
    },
    {
      "cell_type": "code",
      "execution_count": 75,
      "metadata": {
        "colab": {
          "base_uri": "https://localhost:8080/",
          "height": 286
        },
        "id": "GuCopDNujVDM",
        "outputId": "8e464db8-69a0-402e-e843-79b0752a8940"
      },
      "outputs": [
        {
          "data": {
            "text/plain": [
              "<Axes: >"
            ]
          },
          "execution_count": 75,
          "metadata": {},
          "output_type": "execute_result"
        },
        {
          "data": {
            "image/png": "[encoded data removed]",
            "text/plain": [
              "<Figure size 640x480 with 2 Axes>"
            ]
          },
          "metadata": {},
          "output_type": "display_data"
        }
      ],
      "source": [
        "seaborn.heatmap(confusion_matrix(newsgroups_test.target, predict_targets))"
      ]
    },
    {
      "cell_type": "code",
      "execution_count": null,
      "metadata": {
        "colab": {
          "base_uri": "https://localhost:8080/",
          "height": 35
        },
        "id": "2sSdHDPjjVAv",
        "outputId": "e51fa209-efff-40e3-8d5f-559c4c38035f"
      },
      "outputs": [
        {
          "data": {
            "text/plain": [
              "'talk.politics.misc'"
            ]
          },
          "execution_count": 103,
          "metadata": {
            "tags": []
          },
          "output_type": "execute_result"
        }
      ],
      "source": [
        "newsgroups_test.target_names[18]"
      ]
    },
    {
      "cell_type": "code",
      "execution_count": null,
      "metadata": {
        "colab": {
          "base_uri": "https://localhost:8080/",
          "height": 35
        },
        "id": "hrluANXdjU9Q",
        "outputId": "86101033-4044-48ba-cbf8-048169a110e6"
      },
      "outputs": [
        {
          "data": {
            "text/plain": [
              "'talk.politics.guns'"
            ]
          },
          "execution_count": 104,
          "metadata": {
            "tags": []
          },
          "output_type": "execute_result"
        }
      ],
      "source": [
        "newsgroups_test.target_names[16]"
      ]
    },
    {
      "cell_type": "code",
      "execution_count": 76,
      "metadata": {
        "colab": {
          "base_uri": "https://localhost:8080/",
          "height": 1000
        },
        "id": "npSRo-HajUye",
        "outputId": "ebe9f7fd-93a5-46a7-c075-e9a6c5b3f69b"
      },
      "outputs": [
        {
          "name": "stdout",
          "output_type": "stream",
          "text": [
            "Правильный класс:  comp.windows.x\n",
            "Предсказанный класс:  comp.os.ms-windows.misc\n",
            "From: mark@taylor.uucp (Mark A. Davis)\n",
            "Subject: Re: Did Microsoft buy Xhibition??\n",
            "Organization: Lake Taylor Hospital Computer Services\n",
            "Lines: 39\n",
            "\n",
            "harden@skate.ics.com (Aub Harden) writes:\n",
            "\n",
            "\n",
            ">In article <1993May14.191035.19271@vpbuild.vp.com>, jessea@u013.me.vp.com (Jesse W. Asher) writes:\n",
            ">|> I've been getting mail from Xhibition about the June conference and I was\n",
            ">|> wondering if Microsoft had bought Xhibition?  The front says \"Conference\n",
            ">|> from Microsoft Windows NT Developers\".  What's the deal?  I thought\n",
            ">|> \"X\"hibition was for \"X-windows\"??\n",
            ">|> \n",
            ">|> -- \n",
            ">|>       Jesse W. Asher                                          \n",
            "\n",
            "I was wondering this myself.\n",
            "\n",
            ">and (not surprisingly when you look at the audience) Windows NT.\n",
            "\n",
            ">With the bulk of the Xhibition audience (and the UNIX community) developing\n",
            ">applications for in-house or custom use, a new 32-bit operating system from a\n",
            ">player as large as Microsoft needs to be evaluated. With MS Windows on so many\n",
            ">desktops, and the price of computing power dropping, its successor needs to be\n",
            ">evaluated.  As corporations begin to look at NT, so must their developers and\n",
            ">suppliers.\n",
            "\n",
            ">what you need.  Conference attendees will receive NT Software Development\n",
            ">Kits- to bang on, evaluate, and generally to see for yourself.\n",
            "\n",
            ">I hope this doesn't sound like an NT commercial (it should sound like an\n",
            ">Xhibition commercial:-).\n",
            "\n",
            "Unfortunately it does.  I don't agree with the logic of NT at an X windows\n",
            "conference.  Perhaps some good will come of it, but the two are so dissimilar\n",
            "and the NT marketing stuff is so large in the Xhibition adds that I was \n",
            "coming to a similar conclusion as Jesse...\n",
            "\n",
            "-- \n",
            "  /--------------------------------------------------------------------------\\\n",
            "  | Mark A. Davis    | Lake Taylor Hospital | Norfolk, VA (804)-461-5001x431 |\n",
            "  | Sys.Administrator|  Computer Services   | mark@taylor / mark@taylor.UUCP |\n",
            "  \\--------------------------------------------------------------------------/\n",
            "\n",
            "Правильный класс:  alt.atheism\n",
            "Предсказанный класс:  sci.space\n",
            "From: jgreen@trumpet.calpoly.edu (James Thomas Green)\n",
            "Subject: Logic of Jesus?\n",
            "Organization: California Polytechnic State University, San Luis Obispo\n",
            "Lines: 12\n",
            "\n",
            "dps@nasa.kodak.com Pontificated: \n",
            ">Simple logic arguments are folly.  If you read the Bible you will see\n",
            ">that Jesus made fools of those who tried to trick him with \"logic\".\n",
            "\n",
            "Can you cite an example of this.  Please post an answer as I\n",
            "don't want to receive e-mail.  \n",
            "\n",
            "\n",
            "/~~~(-: James T. Green :-)~~~~(-: jgreen@oboe.calpoly.edu :-)~~~\\ \n",
            "|  \"At all times and in all nations,                            |\n",
            "|     the priest has been hostile to liberty.\"                  |\n",
            "|                               <Thomas Jefferson>              |\n",
            "\n"
          ]
        }
      ],
      "source": [
        "ind = np.where(newsgroups_test.target != predict_targets)\n",
        "ind = ind[0]\n",
        "random_ind = np.random.randint(0,ind.shape[0],(2))\n",
        "for i in random_ind:\n",
        "    img=newsgroups_test.data[ind[i]]\n",
        "    print ('Правильный класс: ',\n",
        "           newsgroups_test.target_names[newsgroups_test.target[ind[i]]])\n",
        "    print ('Предсказанный класс: ',\n",
        "           newsgroups_test.target_names[predict_targets[ind[i]]])\n",
        "    print(img)\n"
      ]
    }
  ],
  "metadata": {
    "colab": {
      "provenance": []
    },
    "kernelspec": {
      "display_name": "Python 3",
      "name": "python3"
    },
    "language_info": {
      "codemirror_mode": {
        "name": "ipython",
        "version": 3
      },
      "file_extension": ".py",
      "mimetype": "text/x-python",
      "name": "python",
      "nbconvert_exporter": "python",
      "pygments_lexer": "ipython3",
      "version": "3.12.5"
    }
  },
  "nbformat": 4,
  "nbformat_minor": 0
}
