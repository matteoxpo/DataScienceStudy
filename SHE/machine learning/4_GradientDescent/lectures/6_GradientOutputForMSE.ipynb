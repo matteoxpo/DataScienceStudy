{
 "cells": [
  {
   "cell_type": "markdown",
   "metadata": {},
   "source": [
    "# Вывод градиента для MSE\n",
    "Пусть есть выборка:  \n",
    "$\n",
    "{(x_i, y_i)}_i^L \\\\\n",
    "x_i \\in R_d, y_i \\in R^1 \\\\  \n",
    "x - вектор чисел  \\\\\n",
    "y - целевая переменная, одно число  \\\\  \n",
    "$"
   ]
  },
  {
   "cell_type": "markdown",
   "metadata": {},
   "source": [
    "У нас есть функция потерь:  \n",
    "$\n",
    "Q(a,X) = \\frac{1}{L} \\times \\sum_{i}^L(y_i - a(x_i))^2 \\rightarrow min\n",
    "$"
   ]
  },
  {
   "cell_type": "markdown",
   "metadata": {},
   "source": [
    "$\n",
    "a(x) = <w,x> = w_0 \\times 1 + w_1 \\times x_1 + w_2 \\times x_2 + ... + w_d \\times x_d\\\\\n",
    "$"
   ]
  },
  {
   "cell_type": "markdown",
   "metadata": {},
   "source": [
    "Запишем функционал Q немного иначе:  \n",
    "$\n",
    "Q(a,X) = \\frac{1}{L} \\times \\sum_{i}^L(y_i - <w, x_i>)^2 \\rightarrow min\\\\\n",
    "$"
   ]
  },
  {
   "cell_type": "markdown",
   "metadata": {},
   "source": [
    "Градиент  \n",
    "$\n",
    "\\bigtriangledown Q = (\\frac{\\delta Q}{\\delta w_1}, \\frac{\\delta Q}{\\delta w_2},..., \\frac{\\delta Q}{\\delta w_d})\\\\\n",
    "$"
   ]
  },
  {
   "cell_type": "markdown",
   "metadata": {},
   "source": [
    "Выпишем j-ый компонент "
   ]
  },
  {
   "cell_type": "markdown",
   "metadata": {},
   "source": [
    "$\n",
    "\\frac{\\delta Q(w)}{\\delta w_j} = \\frac{1}{L} \\sum_{i=1}^{L} \\frac{\\delta(y_i^2 - 2 \\times y_i \\times <w, x_i> + (<w,x_i>)^2)}{\\delta w_i} \n",
    "\\\\\n",
    "$"
   ]
  },
  {
   "cell_type": "markdown",
   "metadata": {},
   "source": [
    "$\n",
    "\\frac{\\delta Q(w)}{\\delta w_j} = \\frac{1}{L} \\sum_{i=1}^{L} \\frac{\\delta y_i^2}{\\delta w_j} - 2 \\times \\frac{\\delta y_i \\times (w_1 \\times x_i1 + ... + w_d \\times x_di)}{\\delta w_j} + \\frac{\\delta(w_1 \\times x_i1 + ...)\\times(w_1 \\times x_i1 + ...)}{\\delta w_j}\n",
    "$"
   ]
  },
  {
   "cell_type": "markdown",
   "metadata": {},
   "source": [
    "1. Первое слогаемое - производная от константы $\\frac{\\delta y_i^2}{\\delta w} = 0$\n",
    "2. Второе слогаемое - в сумме все $w_i$ не имеют смысла кроме $w_j$:  \n",
    " $\n",
    " 2 \\times \\frac{\\delta y_i \\times (w_1 \\times x_i1 + ... + w_d \\times x_di)}{\\delta w_j} = 2 \\times y_i \\times x_{ij}\n",
    " $\n",
    "3. Третье слогаемое вывод опустим, там скобки раскрыть, в общем ничего особенного:\n",
    " $\n",
    " \\frac{\\delta(w_1 \\times x_i1 + ...)\\times(w_1 \\times x_i1 + ...)}{\\delta w_j} = 2 \\times x_{ij} \\times <w,x_i>\n",
    " $\n"
   ]
  },
  {
   "cell_type": "markdown",
   "metadata": {},
   "source": [
    "$\n",
    "\\frac{\\delta Q(w)}{\\delta w_j} = \\frac{1}{L} \\sum_{i=1}^{L} 0 - 2 \\times y_i \\times x_{ij} + 2 \\times x_{ij} \\times <w, x_i> = \\frac{2}{L} \\sum_{i=1}^{L}  \\times x_{ij} \\times <w, x_i> - y_i \\times x_{ij} = \\frac{2}{L} \\sum_{i=1}^{2} x_{ij} \\times ( <w, x_i> - y_i)\n",
    "$"
   ]
  },
  {
   "cell_type": "markdown",
   "metadata": {},
   "source": [
    "Конечная формула для j-го компонента вектора градиента $\\bigtriangledown Q$:  \n",
    "$\n",
    "\\bigtriangledown Q = \\frac{2}{L} \\sum_{i=i}^{L} x_{ij} \\times (<w, x_i> - y_i)\n",
    "$"
   ]
  }
 ],
 "metadata": {
  "language_info": {
   "name": "python"
  }
 },
 "nbformat": 4,
 "nbformat_minor": 2
}
