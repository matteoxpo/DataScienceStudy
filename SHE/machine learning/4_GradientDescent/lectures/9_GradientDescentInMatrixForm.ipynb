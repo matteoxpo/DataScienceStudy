{
 "cells": [
  {
   "cell_type": "markdown",
   "metadata": {},
   "source": [
    "# Градиентный спуск в матричной форме\n",
    "$w_0$ - начальные веса  \n",
    "$w^t = w^{t-1} - \\mu_t \\bigtriangledown_w Q(w^{t-1})$  \n",
    "Обновляем веса до какого-то условия, например  \n",
    "$ || w^t - w^{t-1} ||_2 < \\epsilon$  \n",
    "$\\bigtriangledown_w Q(w^{t-1}) = \\frac{2}{L}X^T(Xw^{t-1} - y)$  \n",
    "Запишем как выглядит обновление весов в матричном виде  \n",
    "$w^{t} = w^{t-1} - \\mu_t \\frac{2}{L} X^T(Xw^{t-1} -y)$  \n",
    "Операция зависит от количества признаков и объектов:\n",
    "$O(L \\times d)$ - сложность полного градиентного спуска, это сложность для **1** итерации  \n",
    "## Стохастический градиентный спуск  \n",
    "Вместо всех объктов $L$ мы берем только $k$ объектов, где $k < L$  \n",
    "$O(d \\times k)$ - сложность для стохастического градиентного спуска  "
   ]
  },
  {
   "cell_type": "code",
   "execution_count": 5,
   "metadata": {},
   "outputs": [
    {
     "data": {
      "text/plain": [
       "2.29128784747792"
      ]
     },
     "execution_count": 5,
     "metadata": {},
     "output_type": "execute_result"
    }
   ],
   "source": [
    "import numpy as np\n",
    "np.sqrt(1 + 1 + 1.5**2 + 1)"
   ]
  }
 ],
 "metadata": {
  "kernelspec": {
   "display_name": "Python 3",
   "language": "python",
   "name": "python3"
  },
  "language_info": {
   "codemirror_mode": {
    "name": "ipython",
    "version": 3
   },
   "file_extension": ".py",
   "mimetype": "text/x-python",
   "name": "python",
   "nbconvert_exporter": "python",
   "pygments_lexer": "ipython3",
   "version": "3.12.0"
  }
 },
 "nbformat": 4,
 "nbformat_minor": 2
}
