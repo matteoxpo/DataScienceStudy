{
 "cells": [
  {
   "cell_type": "markdown",
   "metadata": {},
   "source": [
    "# Задача регрессии в матричной форме  \n",
    "$\n",
    "{(x_i,y_i)}_{i=1}^L\n",
    "\\newline\n",
    "x_i \\in R^d, y_i \\in R^1  \n",
    "$  \n",
    "Мы хоти найти такие параметры $a(x) = <w, x>$ такие, чтобы функция ошибки  \n",
    "$\n",
    "Q(a,X) = \\frac{1}{L} (y - Xw)^T(y - Xw) \\rightarrow min\n",
    "\\newline\n",
    "X_{L\\times d}, y \\in R^L, w \\in R^d\n",
    "$  "
   ]
  },
  {
   "cell_type": "markdown",
   "metadata": {},
   "source": [
    "## Метод с лекции с множеством пропусков и непонятностей  \n",
    "Запишем свойство, которые мы вывели у градиента ранее  \n",
    "$\n",
    "\\bigtriangledown_x a^T x = a\n",
    "$  \n",
    "Таже по свойствам матриц есть свойство  \n",
    "$\n",
    "a^T x = x^T a\n",
    "$  \n",
    "\n",
    "Распишем градиент по $w$ функции ошиьки  \n",
    "$\n",
    "\\bigtriangledown_w (Q(w)) = \\frac{1}{L} \\bigtriangledown_w (y^T y - y^T X w - w^T X^T y + w^T X^T X w)\n",
    "\\newline\n",
    "= \\frac{1}{L} (0 - X^T y - X^T y + (X^T X + (X^T X)^T)w)\n",
    "\\newline\n",
    "= \\frac{1}{L} (-2 X^T y + 2 X^T X w)\n",
    "\\newline\n",
    "= \\frac{2}{L} X^T(X w - y)\n",
    "\\newline\n",
    "\\bigtriangledown_w (Q(w)) \\rightarrow min:\n",
    "\\newline\n",
    "\\bigtriangledown_w (Q(w)) = 0\n",
    "\\newline\n",
    "\\frac{2}{L} X^T(X w - y) = 0\n",
    "\\newline\n",
    "(X^T X)^(-1) X^T  y = w\n",
    "$\n"
   ]
  },
  {
   "cell_type": "markdown",
   "metadata": {},
   "source": [
    "## Более расписанный метод  \n",
    "### Производная от функции ошибки  \n",
    "$\n",
    "\\bigtriangledown_w (Q(w)) = \\frac{1}{L} \\bigtriangledown_w (y^T y - y^T X w - w^T X^T y + w^T X^T X w)\n",
    "$"
   ]
  },
  {
   "cell_type": "markdown",
   "metadata": {},
   "source": [
    "1. Производная от $y^Ty$:  \n",
    "$\n",
    "\\frac{\\delta}{\\delta w}y^Ty = 0\n",
    "$  \n",
    "Так как $y$ не зависит от $w$  \n",
    "\n",
    "2. Производная от $-y^TXw$:  \n",
    "$\n",
    "\\frac{\\delta}{\\delta w}-y^TXw = -X^Ty\n",
    "$  \n",
    "Здесь используется свойство $\\frac{\\delta}{\\delta x}(a^Tx) = a$  \n",
    "\n",
    "3. Производная от $-w^TX^Ty$:  \n",
    "$\n",
    "\\frac{\\delta}{\\delta w}(-w^TX^Ty) = -X^Ty\n",
    "$  \n",
    "Здесь исользуется свойство симметричного скалярного произведения $a^Tw=w^Ta$  \n",
    "\n",
    "4. Производная от $w^TX^TXw$:  \n",
    "$\n",
    "\\frac{\\delta}{\\delta w}(w^TX^TXw) = 2X^TXw\n",
    "$  \n",
    "Здесь используется свойство градиента квадратичной формы  $\\frac{\\delta}{\\delta w}(w^TAw) = 2Aw$, где A - симметричная матриц, у нас $A = X^TX$"
   ]
  },
  {
   "cell_type": "markdown",
   "metadata": {},
   "source": [
    "Соберем все в сумму:  \n",
    "$\n",
    "\\bigtriangledown_w (Q(w)) = \\frac{2}{L}(X^TXw - X^Ty)\n",
    "$  "
   ]
  },
  {
   "cell_type": "markdown",
   "metadata": {},
   "source": [
    "### Минимизация ошибки  \n",
    "$\n",
    "Q(w) \\rightarrow min:\n",
    "\\bigtriangledown_w (Q(w)) = 0  \n",
    "$  \n",
    "Умножение на константу не влияет на зануление производной так что отбросим ее лол  \n",
    "$\n",
    "X^TXw = X^Ty\n",
    "\\newline\n",
    "w = (X^TX)^-1X^Ty\n",
    "$  \n",
    "Ура ура!\n"
   ]
  }
 ],
 "metadata": {
  "language_info": {
   "name": "python"
  }
 },
 "nbformat": 4,
 "nbformat_minor": 2
}
